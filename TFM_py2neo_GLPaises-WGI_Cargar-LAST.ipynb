{
 "cells": [
  {
   "cell_type": "markdown",
   "id": "8f9b66a4",
   "metadata": {},
   "source": [
    "# TFM Suministro Global - WGI de Pais - Neo4j - py2neo \n",
    "WGI- Workdwide Global Index es una ponderación de diferentes valores de índices de un país que da idea de la \"seguridad política, judicial, económica y en general de la \"fiabilidad de un Pais\" a la hora de realizar transacciones comerciales con él  \n",
    "**Cuanto más alto el valor WGI de ese país, más fiable e inseguro y por tanto necesitará gestionar esos riesgos**\n",
    "Ejemplo: El mínimo de Finlandia (\"Finland\" **WGI= 1,98**) contrasta con el máximo de Corea del Norte (\"Korea, Dem. Rep.\" **WGI=7,74**) con un promedio de 5,00 para los países reportados en este estudio de Suministro Global"
   ]
  },
  {
   "cell_type": "markdown",
   "id": "fe7813af",
   "metadata": {},
   "source": [
    "## Partimos de la existencia, en paralelo a esta ejecución, de una instancia levantada y accesible de Neo4j  \n",
    "### La primera vez que se quiera usar _py2neo_ erá  necesario asegurar su instalación:  _!pip install py2neo_"
   ]
  },
  {
   "cell_type": "code",
   "execution_count": 1,
   "id": "7b420b33",
   "metadata": {
    "scrolled": true
   },
   "outputs": [
    {
     "name": "stdout",
     "output_type": "stream",
     "text": [
      "Collecting py2neo\n",
      "  Downloading py2neo-2021.2.3-py2.py3-none-any.whl (177 kB)\n",
      "Requirement already satisfied: packaging in c:\\users\\jucar\\anaconda3\\envs\\rstudio\\lib\\site-packages (from py2neo) (21.3)\n",
      "Requirement already satisfied: urllib3 in c:\\users\\jucar\\anaconda3\\envs\\rstudio\\lib\\site-packages (from py2neo) (1.26.7)\n",
      "Collecting monotonic\n",
      "  Downloading monotonic-1.6-py2.py3-none-any.whl (8.2 kB)\n",
      "Requirement already satisfied: pygments>=2.0.0 in c:\\users\\jucar\\anaconda3\\envs\\rstudio\\lib\\site-packages (from py2neo) (2.10.0)\n",
      "Requirement already satisfied: six>=1.15.0 in c:\\users\\jucar\\anaconda3\\envs\\rstudio\\lib\\site-packages (from py2neo) (1.16.0)\n",
      "Collecting interchange~=2021.0.4\n",
      "  Downloading interchange-2021.0.4-py2.py3-none-any.whl (28 kB)\n",
      "Collecting pansi>=2020.7.3\n",
      "  Downloading pansi-2020.7.3-py2.py3-none-any.whl (10 kB)\n",
      "Requirement already satisfied: certifi in c:\\users\\jucar\\anaconda3\\envs\\rstudio\\lib\\site-packages (from py2neo) (2021.10.8)\n",
      "Requirement already satisfied: pytz in c:\\users\\jucar\\anaconda3\\envs\\rstudio\\lib\\site-packages (from interchange~=2021.0.4->py2neo) (2021.3)\n",
      "Requirement already satisfied: pyparsing!=3.0.5,>=2.0.2 in c:\\users\\jucar\\anaconda3\\envs\\rstudio\\lib\\site-packages (from packaging->py2neo) (3.0.4)\n",
      "Installing collected packages: pansi, monotonic, interchange, py2neo\n",
      "Successfully installed interchange-2021.0.4 monotonic-1.6 pansi-2020.7.3 py2neo-2021.2.3\n"
     ]
    }
   ],
   "source": [
    "##!pip install py2neo "
   ]
  },
  {
   "cell_type": "code",
   "execution_count": 1,
   "id": "6d9f652c",
   "metadata": {},
   "outputs": [],
   "source": [
    "#importar la librería para poder hacer uso de sus funcionalidades y objetos\n",
    "from py2neo import *"
   ]
  },
  {
   "cell_type": "code",
   "execution_count": 2,
   "id": "dc45043b",
   "metadata": {},
   "outputs": [],
   "source": [
    "#acceder a la instancia levantada de Neo4j - en nuestro caso instancia Docker - asignamos credenciales de autentificación -\n",
    "graph_test01 = Graph(auth=('neo4j', 's3cr3t'))"
   ]
  },
  {
   "cell_type": "code",
   "execution_count": 3,
   "id": "0bdda4f9",
   "metadata": {},
   "outputs": [
    {
     "data": {
      "text/plain": [
       "Graph('bolt://localhost:7687')"
      ]
     },
     "execution_count": 3,
     "metadata": {},
     "output_type": "execute_result"
    }
   ],
   "source": [
    "#que es el objeto - graph_test01\n",
    "graph_test01"
   ]
  },
  {
   "cell_type": "code",
   "execution_count": 4,
   "id": "ae88b5a3",
   "metadata": {},
   "outputs": [],
   "source": [
    "#que es el objeto - tx\n",
    "tx = graph_test01.begin()"
   ]
  },
  {
   "cell_type": "code",
   "execution_count": 5,
   "id": "07d7aa84",
   "metadata": {},
   "outputs": [
    {
     "data": {
      "text/plain": [
       "<py2neo.database.Transaction at 0x1d7e6881a90>"
      ]
     },
     "execution_count": 5,
     "metadata": {},
     "output_type": "execute_result"
    }
   ],
   "source": [
    "tx"
   ]
  },
  {
   "cell_type": "code",
   "execution_count": 6,
   "id": "b5ee1622",
   "metadata": {
    "scrolled": false
   },
   "outputs": [
    {
     "data": {
      "text/html": [
       "<table><tr><th>name</th><th>Ntotal</th></tr><tr><td style=\"text-align:left\">MaterialB</td><td style=\"text-align:right\">78</td></tr><tr><td style=\"text-align:left\">MaterialREF</td><td style=\"text-align:right\">78</td></tr><tr><td style=\"text-align:left\">Pais</td><td style=\"text-align:right\">116</td></tr></table>"
      ],
      "text/plain": [
       " name        | Ntotal \n",
       "-------------|--------\n",
       " MaterialB   |     78 \n",
       " MaterialREF |     78 \n",
       " Pais        |    116 "
      ]
     },
     "execution_count": 6,
     "metadata": {},
     "output_type": "execute_result"
    }
   ],
   "source": [
    "#query de conexión de prueba sin errores\n",
    "# verificar existencia de NODOS de METERIALES Brutos y Refinados\n",
    "#--- cuenta los nodos con diferentes tipos de etiqueta y los une en una única salida, 1 fila por cada tipo (name, cnt)\n",
    "queryPRB= \"MATCH (n)                                    \\\n",
    "RETURN labels (n)[0] as name, count (n) as Ntotal       \\\n",
    "UNION MATCH (n)                                         \\\n",
    "WITH labels (n)[1] as name, count (n) as Ntotal         \\\n",
    "WHERE name IS NOT NULL                                  \\\n",
    "RETURN name, Ntotal                                     \\\n",
    "\"\n",
    "graph_test01.run(queryPRB)"
   ]
  },
  {
   "cell_type": "markdown",
   "id": "27083405",
   "metadata": {},
   "source": [
    "## CARGAR DATOS"
   ]
  },
  {
   "cell_type": "code",
   "execution_count": 7,
   "id": "ae0e1afa",
   "metadata": {},
   "outputs": [],
   "source": [
    "import numpy as np    #datos y operativa álgegra y matrices de n dimensiones (arrays)\n",
    "import pandas as pd   #carga dataset y manipulación de datos  y dataframes"
   ]
  },
  {
   "cell_type": "code",
   "execution_count": 8,
   "id": "4e018e0b",
   "metadata": {},
   "outputs": [],
   "source": [
    "#DATOS: Fichero completo de MATERIAS PRIMAS CRÍTICAS en el suministro GLOBAL - Atendiendo al alcance del estudio - EU CRM 2020\n",
    "#FICHERO: GLMateriales_cargar.csv\n",
    "#CONTENIDO: Materiales \n",
    "#USO: Crear los NODOS de tipo \"MaterialB\" - Material bruto y \"MaterialREF\" - Material Refinado) \n",
    "## -- propiedades de cada material: nombre, abreviatura, familia y subfamilia \n",
    "## -- los datos de suministro -posteriores- fijarán las relaciones entre materiales, países proveedores y usos del material \n",
    "rutaFichero =  \"https://raw.githubusercontent.com/JuanKFD/UNIR_TFM/main/GL-Paises-WGI_cargar.csv\" \n",
    "dfPaises = pd.read_csv(rutaFichero, sep=';')\n"
   ]
  },
  {
   "cell_type": "code",
   "execution_count": 9,
   "id": "a9bde14d",
   "metadata": {
    "scrolled": false
   },
   "outputs": [
    {
     "data": {
      "text/html": [
       "<div>\n",
       "<style scoped>\n",
       "    .dataframe tbody tr th:only-of-type {\n",
       "        vertical-align: middle;\n",
       "    }\n",
       "\n",
       "    .dataframe tbody tr th {\n",
       "        vertical-align: top;\n",
       "    }\n",
       "\n",
       "    .dataframe thead th {\n",
       "        text-align: right;\n",
       "    }\n",
       "</style>\n",
       "<table border=\"1\" class=\"dataframe\">\n",
       "  <thead>\n",
       "    <tr style=\"text-align: right;\">\n",
       "      <th></th>\n",
       "      <th>Pais</th>\n",
       "      <th>Pais_iso3</th>\n",
       "      <th>WGI_Pais</th>\n",
       "    </tr>\n",
       "  </thead>\n",
       "  <tbody>\n",
       "    <tr>\n",
       "      <th>0</th>\n",
       "      <td>Algeria</td>\n",
       "      <td>DZA</td>\n",
       "      <td>6,43</td>\n",
       "    </tr>\n",
       "    <tr>\n",
       "      <th>1</th>\n",
       "      <td>Albania</td>\n",
       "      <td>ALB</td>\n",
       "      <td>5,16</td>\n",
       "    </tr>\n",
       "    <tr>\n",
       "      <th>2</th>\n",
       "      <td>Argentina</td>\n",
       "      <td>ARG</td>\n",
       "      <td>5,47</td>\n",
       "    </tr>\n",
       "    <tr>\n",
       "      <th>3</th>\n",
       "      <td>Armenia</td>\n",
       "      <td>ARM</td>\n",
       "      <td>5,41</td>\n",
       "    </tr>\n",
       "    <tr>\n",
       "      <th>4</th>\n",
       "      <td>Australia</td>\n",
       "      <td>AUS</td>\n",
       "      <td>2,36</td>\n",
       "    </tr>\n",
       "  </tbody>\n",
       "</table>\n",
       "</div>"
      ],
      "text/plain": [
       "        Pais Pais_iso3 WGI_Pais\n",
       "0    Algeria       DZA     6,43\n",
       "1    Albania       ALB     5,16\n",
       "2  Argentina       ARG     5,47\n",
       "3    Armenia       ARM     5,41\n",
       "4  Australia       AUS     2,36"
      ]
     },
     "execution_count": 9,
     "metadata": {},
     "output_type": "execute_result"
    }
   ],
   "source": [
    "dfPaises.head()"
   ]
  },
  {
   "cell_type": "code",
   "execution_count": 10,
   "id": "3785a1e2",
   "metadata": {
    "scrolled": true
   },
   "outputs": [
    {
     "data": {
      "text/html": [
       "<div>\n",
       "<style scoped>\n",
       "    .dataframe tbody tr th:only-of-type {\n",
       "        vertical-align: middle;\n",
       "    }\n",
       "\n",
       "    .dataframe tbody tr th {\n",
       "        vertical-align: top;\n",
       "    }\n",
       "\n",
       "    .dataframe thead th {\n",
       "        text-align: right;\n",
       "    }\n",
       "</style>\n",
       "<table border=\"1\" class=\"dataframe\">\n",
       "  <thead>\n",
       "    <tr style=\"text-align: right;\">\n",
       "      <th></th>\n",
       "      <th>Pais</th>\n",
       "      <th>Pais_iso3</th>\n",
       "      <th>WGI_Pais</th>\n",
       "    </tr>\n",
       "  </thead>\n",
       "  <tbody>\n",
       "    <tr>\n",
       "      <th>111</th>\n",
       "      <td>Uzbekistan</td>\n",
       "      <td>UZB</td>\n",
       "      <td>6,98</td>\n",
       "    </tr>\n",
       "    <tr>\n",
       "      <th>112</th>\n",
       "      <td>Venezuela, Rb</td>\n",
       "      <td>VEN</td>\n",
       "      <td>7,30</td>\n",
       "    </tr>\n",
       "    <tr>\n",
       "      <th>113</th>\n",
       "      <td>Vietnam</td>\n",
       "      <td>VNM</td>\n",
       "      <td>5,75</td>\n",
       "    </tr>\n",
       "    <tr>\n",
       "      <th>114</th>\n",
       "      <td>Zambia</td>\n",
       "      <td>ZMB</td>\n",
       "      <td>5,40</td>\n",
       "    </tr>\n",
       "    <tr>\n",
       "      <th>115</th>\n",
       "      <td>Zimbabwe</td>\n",
       "      <td>ZWE</td>\n",
       "      <td>7,17</td>\n",
       "    </tr>\n",
       "  </tbody>\n",
       "</table>\n",
       "</div>"
      ],
      "text/plain": [
       "              Pais Pais_iso3 WGI_Pais\n",
       "111     Uzbekistan       UZB     6,98\n",
       "112  Venezuela, Rb       VEN     7,30\n",
       "113        Vietnam       VNM     5,75\n",
       "114         Zambia       ZMB     5,40\n",
       "115       Zimbabwe       ZWE     7,17"
      ]
     },
     "execution_count": 10,
     "metadata": {},
     "output_type": "execute_result"
    }
   ],
   "source": [
    "dfPaises.tail()"
   ]
  },
  {
   "cell_type": "code",
   "execution_count": 11,
   "id": "3c0a0050",
   "metadata": {
    "scrolled": false
   },
   "outputs": [
    {
     "data": {
      "text/plain": [
       "(116, 3)"
      ]
     },
     "execution_count": 11,
     "metadata": {},
     "output_type": "execute_result"
    }
   ],
   "source": [
    "dfPaises.shape"
   ]
  },
  {
   "cell_type": "code",
   "execution_count": 12,
   "id": "51ad4ccd",
   "metadata": {},
   "outputs": [
    {
     "data": {
      "text/plain": [
       "Index(['Pais', 'Pais_iso3', 'WGI_Pais'], dtype='object')"
      ]
     },
     "execution_count": 12,
     "metadata": {},
     "output_type": "execute_result"
    }
   ],
   "source": [
    "dfPaises.columns"
   ]
  },
  {
   "cell_type": "code",
   "execution_count": 13,
   "id": "7b99516a",
   "metadata": {},
   "outputs": [],
   "source": [
    "nFilas = dfPaises.shape[0]"
   ]
  },
  {
   "cell_type": "code",
   "execution_count": 14,
   "id": "9f85e8c0",
   "metadata": {
    "scrolled": true
   },
   "outputs": [
    {
     "data": {
      "text/plain": [
       "116"
      ]
     },
     "execution_count": 14,
     "metadata": {},
     "output_type": "execute_result"
    }
   ],
   "source": [
    "nFilas"
   ]
  },
  {
   "cell_type": "markdown",
   "id": "e0bd291e",
   "metadata": {},
   "source": [
    "### Cargados en memoria los _116 países con sus WGI para actualizar_ de la cadena de suministro global"
   ]
  },
  {
   "cell_type": "markdown",
   "id": "7dc58317",
   "metadata": {},
   "source": [
    "# PREVISUALIZACION DE DATOS - PAISES\n",
    "Aseguramos la accesibilidad y previsualización de los datos"
   ]
  },
  {
   "cell_type": "code",
   "execution_count": 15,
   "id": "f0f87545",
   "metadata": {},
   "outputs": [
    {
     "name": "stdout",
     "output_type": "stream",
     "text": [
      "Algeria\n",
      "DZA\n",
      "6,43\n",
      "Albania\n",
      "ALB\n",
      "5,16\n",
      "Argentina\n",
      "ARG\n",
      "5,47\n",
      "Armenia\n",
      "ARM\n",
      "5,41\n",
      "Australia\n",
      "AUS\n",
      "2,36\n",
      "Austria\n",
      "AUT\n",
      "2,50\n",
      "Bahrain\n",
      "BHR\n",
      "5,15\n",
      "Bangladesh\n",
      "BGD\n",
      "6,41\n",
      "Belarus\n",
      "BLR\n",
      "6,18\n",
      "Belgium\n",
      "BEL\n",
      "2,81\n",
      "Bolivia\n",
      "BOL\n",
      "5,97\n",
      "Brazil\n",
      "BRA\n",
      "5,08\n",
      "Bulgaria\n",
      "BGR\n",
      "4,73\n",
      "Burkina Faso\n",
      "BFA\n",
      "5,74\n",
      "Burundi\n",
      "BDI\n",
      "7,00\n",
      "Canada\n",
      "CAN\n",
      "2,26\n",
      "Chile\n",
      "CHL\n",
      "3,11\n",
      "China\n",
      "CHN\n",
      "5,83\n",
      "Colombia\n",
      "COL\n",
      "5,39\n",
      "Congo, D.R.\n",
      "COD\n",
      "7,60\n",
      "Cote D_Ivoire\n",
      "CIV\n",
      "6,21\n",
      "Cuba\n",
      "CUB\n",
      "5,87\n",
      "Czech Republic\n",
      "CZE\n",
      "3,47\n",
      "Denmark\n",
      "DNK\n",
      "2,11\n",
      "Dominican Republic\n",
      "DOM\n",
      "5,40\n",
      "Ecuador\n",
      "ECU\n",
      "5,99\n",
      "Egypt, Arab Rep.\n",
      "EGY\n",
      "6,48\n",
      "Estonia\n",
      "EST\n",
      "3,07\n",
      "Ethiopia\n",
      "ETH\n",
      "6,52\n",
      "Finland\n",
      "FIN\n",
      "1,98\n",
      "France\n",
      "FRA\n",
      "3,11\n",
      "Gabon\n",
      "GAB\n",
      "5,97\n",
      "Georgia\n",
      "GEO\n",
      "4,47\n",
      "Germany\n",
      "DEU\n",
      "2,47\n",
      "Ghana\n",
      "GHA\n",
      "4,94\n",
      "Greece\n",
      "GRC\n",
      "4,60\n",
      "Guatemala\n",
      "GTM\n",
      "6,00\n",
      "Guinea\n",
      "GIN\n",
      "6,72\n",
      "Guyana\n",
      "GUY\n",
      "5,56\n",
      "Hong Kong\n",
      "HKG\n",
      "2,56\n",
      "Hungary\n",
      "HUN\n",
      "4,06\n",
      "Iceland\n",
      "ISL\n",
      "2,52\n",
      "India\n",
      "IND\n",
      "5,45\n",
      "Indonesia\n",
      "IDN\n",
      "5,47\n",
      "Iran, Islamic Rep.\n",
      "IRN\n",
      "6,65\n",
      "Iraq\n",
      "IRQ\n",
      "7,35\n",
      "Ireland\n",
      "IRL\n",
      "2,58\n",
      "Israel\n",
      "ISR\n",
      "3,83\n",
      "Italy\n",
      "ITA\n",
      "4,17\n",
      "Jamaica\n",
      "JAM\n",
      "4,85\n",
      "Japan\n",
      "JPN\n",
      "2,77\n",
      "Jordan\n",
      "JOR\n",
      "5,16\n",
      "Kazakhstan\n",
      "KAZ\n",
      "5,90\n",
      "Kenya\n",
      "KEN\n",
      "6,03\n",
      "Korea, Dem. Rep.\n",
      "PRK\n",
      "7,74\n",
      "Korea, Rep.\n",
      "KOR\n",
      "3,74\n",
      "Kuwait\n",
      "KWT\n",
      "5,24\n",
      "Kyrgyz Republic\n",
      "KGZ\n",
      "6,30\n",
      "Lao Pdr\n",
      "LAO\n",
      "6,25\n",
      "Lithuania\n",
      "LTU\n",
      "3,50\n",
      "Liberia\n",
      "LBR\n",
      "6,29\n",
      "Madagascar\n",
      "MDG\n",
      "6,26\n",
      "Malaysia\n",
      "MYS\n",
      "4,39\n",
      "Mali\n",
      "MLI\n",
      "6,39\n",
      "Mexico\n",
      "MEX\n",
      "5,33\n",
      "Mongolia\n",
      "MNG\n",
      "5,18\n",
      "Morocco\n",
      "MAR\n",
      "5,48\n",
      "Mozambique\n",
      "MOZ\n",
      "5,93\n",
      "Myanmar\n",
      "MMR\n",
      "6,95\n",
      "Namibia\n",
      "NAM\n",
      "4,44\n",
      "Netherlands\n",
      "NLD\n",
      "2,19\n",
      "New Caledonia\n",
      "NCL\n",
      "3,23\n",
      "Nigeria\n",
      "NGA\n",
      "6,83\n",
      "Norway\n",
      "NOR\n",
      "2,03\n",
      "Oman\n",
      "OMN\n",
      "4,70\n",
      "Others\n",
      "OTHS\n",
      "0,00\n",
      "Other EU\n",
      "OTHEU\n",
      "0,00\n",
      "Other non EU\n",
      "OTHNOEU\n",
      "0,00\n",
      "Pakistan\n",
      "PAK\n",
      "6,78\n",
      "Panama\n",
      "PAN\n",
      "4,79\n",
      "Papua New Guinea\n",
      "PNG\n",
      "5,94\n",
      "Peru\n",
      "PER\n",
      "5,30\n",
      "Philippines\n",
      "PHL\n",
      "5,49\n",
      "Poland\n",
      "POL\n",
      "3,60\n",
      "Portugal\n",
      "PRT\n",
      "3,34\n",
      "Qatar\n",
      "QAT\n",
      "4,03\n",
      "Russian Federation\n",
      "RUS\n",
      "6,20\n",
      "Rwanda\n",
      "RWA\n",
      "5,17\n",
      "Saudi Arabia\n",
      "SAU\n",
      "5,51\n",
      "Senegal\n",
      "SEN\n",
      "5,21\n",
      "Sierra Leone\n",
      "SLE\n",
      "6,17\n",
      "Singapore\n",
      "SGP\n",
      "2,37\n",
      "Slovakia\n",
      "SVK\n",
      "3,79\n",
      "South Africa\n",
      "ZAF\n",
      "4,65\n",
      "Spain\n",
      "ESP\n",
      "3,62\n",
      "Sri Lanka\n",
      "LKA\n",
      "5,36\n",
      "Sudan\n",
      "SDN\n",
      "7,70\n",
      "Suriname\n",
      "SUR\n",
      "5,16\n",
      "Sweden\n",
      "SWE\n",
      "2,05\n",
      "Taiwan, China\n",
      "TWN\n",
      "3,27\n",
      "Tajikistan\n",
      "TJK\n",
      "6,88\n",
      "Tanzania\n",
      "TZA\n",
      "5,74\n",
      "Thailand\n",
      "THA\n",
      "5,50\n",
      "Togo\n",
      "TGO\n",
      "6,34\n",
      "Tunisia\n",
      "TUN\n",
      "5,40\n",
      "Turkey\n",
      "TUR\n",
      "5,34\n",
      "Uganda\n",
      "UGA\n",
      "5,99\n",
      "Ukraine\n",
      "UKR\n",
      "6,23\n",
      "United Arab Emirates\n",
      "ARE\n",
      "3,94\n",
      "United Kingdom\n",
      "GBR\n",
      "2,60\n",
      "United States\n",
      "USA\n",
      "2,92\n",
      "Uzbekistan\n",
      "UZB\n",
      "6,98\n",
      "Venezuela, Rb\n",
      "VEN\n",
      "7,30\n",
      "Vietnam\n",
      "VNM\n",
      "5,75\n",
      "Zambia\n",
      "ZMB\n",
      "5,40\n",
      "Zimbabwe\n",
      "ZWE\n",
      "7,17\n"
     ]
    }
   ],
   "source": [
    "for i in range(0, nFilas):\n",
    "    print(dfPaises.Pais[i])\n",
    "    print(dfPaises.Pais_iso3[i])\n",
    "    print(dfPaises.WGI_Pais[i])\n",
    "    \n"
   ]
  },
  {
   "cell_type": "code",
   "execution_count": 18,
   "id": "cb41a203",
   "metadata": {
    "scrolled": true
   },
   "outputs": [
    {
     "data": {
      "text/plain": [
       "Index(['Pais', 'Pais_iso3', 'WGI_Pais'], dtype='object')"
      ]
     },
     "execution_count": 18,
     "metadata": {},
     "output_type": "execute_result"
    }
   ],
   "source": [
    "dfPaises.columns"
   ]
  },
  {
   "cell_type": "markdown",
   "id": "a39d3a1e",
   "metadata": {},
   "source": [
    "### Seleccionar cada nodo de tipo :País para asignarle la NUEVA PROPIEDAD  WGI_Pais con su valor\n",
    "**MATCH** (n:Pais)  \n",
    "**WHERE** n.name = dfPaises.Pais[i]   \n",
    "**SET** n.WGI_Pais = dfPaises.WGI_Pais[i]  \n",
    "**RETURN** n   \n",
    "\n",
    "Podríamos usar  otra opción, aunque en este caso evaluaría cada vez todos los nodos para **\"casar cuando\"** el nodo específico tenga el nombre de país que queremos y en ese caso establecería la propiedad específica, _creándola si no existiera_:         \n",
    "\n",
    "**MATCH** (n:Pais)  \n",
    "**SET** (**CASE WHEN** n.name = dfPaises.Pais[i] **THEN** n **END**).WGI_Pais = dfPaises.WGI_Pais[i]    \n",
    "**RETURN** n.name, n.WGI_Pais"
   ]
  },
  {
   "cell_type": "code",
   "execution_count": 22,
   "id": "bd3533a0",
   "metadata": {
    "scrolled": false
   },
   "outputs": [
    {
     "name": "stdout",
     "output_type": "stream",
     "text": [
      "QRY [0]> MATCH (p :Pais ) WHERE n.name = 'Algeria' SET n.WGI_Pais = 6.43 RETURN p\n",
      "QRY [1]> MATCH (p :Pais ) WHERE n.name = 'Albania' SET n.WGI_Pais = 5.16 RETURN p\n",
      "QRY [2]> MATCH (p :Pais ) WHERE n.name = 'Argentina' SET n.WGI_Pais = 5.47 RETURN p\n",
      "QRY [3]> MATCH (p :Pais ) WHERE n.name = 'Armenia' SET n.WGI_Pais = 5.41 RETURN p\n",
      "QRY [4]> MATCH (p :Pais ) WHERE n.name = 'Australia' SET n.WGI_Pais = 2.36 RETURN p\n",
      "QRY [5]> MATCH (p :Pais ) WHERE n.name = 'Austria' SET n.WGI_Pais = 2.50 RETURN p\n",
      "QRY [6]> MATCH (p :Pais ) WHERE n.name = 'Bahrain' SET n.WGI_Pais = 5.15 RETURN p\n",
      "QRY [7]> MATCH (p :Pais ) WHERE n.name = 'Bangladesh' SET n.WGI_Pais = 6.41 RETURN p\n",
      "QRY [8]> MATCH (p :Pais ) WHERE n.name = 'Belarus' SET n.WGI_Pais = 6.18 RETURN p\n",
      "QRY [9]> MATCH (p :Pais ) WHERE n.name = 'Belgium' SET n.WGI_Pais = 2.81 RETURN p\n",
      "QRY [10]> MATCH (p :Pais ) WHERE n.name = 'Bolivia' SET n.WGI_Pais = 5.97 RETURN p\n",
      "QRY [11]> MATCH (p :Pais ) WHERE n.name = 'Brazil' SET n.WGI_Pais = 5.08 RETURN p\n",
      "QRY [12]> MATCH (p :Pais ) WHERE n.name = 'Bulgaria' SET n.WGI_Pais = 4.73 RETURN p\n",
      "QRY [13]> MATCH (p :Pais ) WHERE n.name = 'Burkina Faso' SET n.WGI_Pais = 5.74 RETURN p\n",
      "QRY [14]> MATCH (p :Pais ) WHERE n.name = 'Burundi' SET n.WGI_Pais = 7.00 RETURN p\n",
      "QRY [15]> MATCH (p :Pais ) WHERE n.name = 'Canada' SET n.WGI_Pais = 2.26 RETURN p\n",
      "QRY [16]> MATCH (p :Pais ) WHERE n.name = 'Chile' SET n.WGI_Pais = 3.11 RETURN p\n",
      "QRY [17]> MATCH (p :Pais ) WHERE n.name = 'China' SET n.WGI_Pais = 5.83 RETURN p\n",
      "QRY [18]> MATCH (p :Pais ) WHERE n.name = 'Colombia' SET n.WGI_Pais = 5.39 RETURN p\n",
      "QRY [19]> MATCH (p :Pais ) WHERE n.name = 'Congo, D.R.' SET n.WGI_Pais = 7.60 RETURN p\n",
      "QRY [20]> MATCH (p :Pais ) WHERE n.name = 'Cote D_Ivoire' SET n.WGI_Pais = 6.21 RETURN p\n",
      "QRY [21]> MATCH (p :Pais ) WHERE n.name = 'Cuba' SET n.WGI_Pais = 5.87 RETURN p\n",
      "QRY [22]> MATCH (p :Pais ) WHERE n.name = 'Czech Republic' SET n.WGI_Pais = 3.47 RETURN p\n",
      "QRY [23]> MATCH (p :Pais ) WHERE n.name = 'Denmark' SET n.WGI_Pais = 2.11 RETURN p\n",
      "QRY [24]> MATCH (p :Pais ) WHERE n.name = 'Dominican Republic' SET n.WGI_Pais = 5.40 RETURN p\n",
      "QRY [25]> MATCH (p :Pais ) WHERE n.name = 'Ecuador' SET n.WGI_Pais = 5.99 RETURN p\n",
      "QRY [26]> MATCH (p :Pais ) WHERE n.name = 'Egypt, Arab Rep.' SET n.WGI_Pais = 6.48 RETURN p\n",
      "QRY [27]> MATCH (p :Pais ) WHERE n.name = 'Estonia' SET n.WGI_Pais = 3.07 RETURN p\n",
      "QRY [28]> MATCH (p :Pais ) WHERE n.name = 'Ethiopia' SET n.WGI_Pais = 6.52 RETURN p\n",
      "QRY [29]> MATCH (p :Pais ) WHERE n.name = 'Finland' SET n.WGI_Pais = 1.98 RETURN p\n",
      "QRY [30]> MATCH (p :Pais ) WHERE n.name = 'France' SET n.WGI_Pais = 3.11 RETURN p\n",
      "QRY [31]> MATCH (p :Pais ) WHERE n.name = 'Gabon' SET n.WGI_Pais = 5.97 RETURN p\n",
      "QRY [32]> MATCH (p :Pais ) WHERE n.name = 'Georgia' SET n.WGI_Pais = 4.47 RETURN p\n",
      "QRY [33]> MATCH (p :Pais ) WHERE n.name = 'Germany' SET n.WGI_Pais = 2.47 RETURN p\n",
      "QRY [34]> MATCH (p :Pais ) WHERE n.name = 'Ghana' SET n.WGI_Pais = 4.94 RETURN p\n",
      "QRY [35]> MATCH (p :Pais ) WHERE n.name = 'Greece' SET n.WGI_Pais = 4.60 RETURN p\n",
      "QRY [36]> MATCH (p :Pais ) WHERE n.name = 'Guatemala' SET n.WGI_Pais = 6.00 RETURN p\n",
      "QRY [37]> MATCH (p :Pais ) WHERE n.name = 'Guinea' SET n.WGI_Pais = 6.72 RETURN p\n",
      "QRY [38]> MATCH (p :Pais ) WHERE n.name = 'Guyana' SET n.WGI_Pais = 5.56 RETURN p\n",
      "QRY [39]> MATCH (p :Pais ) WHERE n.name = 'Hong Kong' SET n.WGI_Pais = 2.56 RETURN p\n",
      "QRY [40]> MATCH (p :Pais ) WHERE n.name = 'Hungary' SET n.WGI_Pais = 4.06 RETURN p\n",
      "QRY [41]> MATCH (p :Pais ) WHERE n.name = 'Iceland' SET n.WGI_Pais = 2.52 RETURN p\n",
      "QRY [42]> MATCH (p :Pais ) WHERE n.name = 'India' SET n.WGI_Pais = 5.45 RETURN p\n",
      "QRY [43]> MATCH (p :Pais ) WHERE n.name = 'Indonesia' SET n.WGI_Pais = 5.47 RETURN p\n",
      "QRY [44]> MATCH (p :Pais ) WHERE n.name = 'Iran, Islamic Rep.' SET n.WGI_Pais = 6.65 RETURN p\n",
      "QRY [45]> MATCH (p :Pais ) WHERE n.name = 'Iraq' SET n.WGI_Pais = 7.35 RETURN p\n",
      "QRY [46]> MATCH (p :Pais ) WHERE n.name = 'Ireland' SET n.WGI_Pais = 2.58 RETURN p\n",
      "QRY [47]> MATCH (p :Pais ) WHERE n.name = 'Israel' SET n.WGI_Pais = 3.83 RETURN p\n",
      "QRY [48]> MATCH (p :Pais ) WHERE n.name = 'Italy' SET n.WGI_Pais = 4.17 RETURN p\n",
      "QRY [49]> MATCH (p :Pais ) WHERE n.name = 'Jamaica' SET n.WGI_Pais = 4.85 RETURN p\n",
      "QRY [50]> MATCH (p :Pais ) WHERE n.name = 'Japan' SET n.WGI_Pais = 2.77 RETURN p\n",
      "QRY [51]> MATCH (p :Pais ) WHERE n.name = 'Jordan' SET n.WGI_Pais = 5.16 RETURN p\n",
      "QRY [52]> MATCH (p :Pais ) WHERE n.name = 'Kazakhstan' SET n.WGI_Pais = 5.90 RETURN p\n",
      "QRY [53]> MATCH (p :Pais ) WHERE n.name = 'Kenya' SET n.WGI_Pais = 6.03 RETURN p\n",
      "QRY [54]> MATCH (p :Pais ) WHERE n.name = 'Korea, Dem. Rep.' SET n.WGI_Pais = 7.74 RETURN p\n",
      "QRY [55]> MATCH (p :Pais ) WHERE n.name = 'Korea, Rep.' SET n.WGI_Pais = 3.74 RETURN p\n",
      "QRY [56]> MATCH (p :Pais ) WHERE n.name = 'Kuwait' SET n.WGI_Pais = 5.24 RETURN p\n",
      "QRY [57]> MATCH (p :Pais ) WHERE n.name = 'Kyrgyz Republic' SET n.WGI_Pais = 6.30 RETURN p\n",
      "QRY [58]> MATCH (p :Pais ) WHERE n.name = 'Lao Pdr' SET n.WGI_Pais = 6.25 RETURN p\n",
      "QRY [59]> MATCH (p :Pais ) WHERE n.name = 'Lithuania' SET n.WGI_Pais = 3.50 RETURN p\n",
      "QRY [60]> MATCH (p :Pais ) WHERE n.name = 'Liberia' SET n.WGI_Pais = 6.29 RETURN p\n",
      "QRY [61]> MATCH (p :Pais ) WHERE n.name = 'Madagascar' SET n.WGI_Pais = 6.26 RETURN p\n",
      "QRY [62]> MATCH (p :Pais ) WHERE n.name = 'Malaysia' SET n.WGI_Pais = 4.39 RETURN p\n",
      "QRY [63]> MATCH (p :Pais ) WHERE n.name = 'Mali' SET n.WGI_Pais = 6.39 RETURN p\n",
      "QRY [64]> MATCH (p :Pais ) WHERE n.name = 'Mexico' SET n.WGI_Pais = 5.33 RETURN p\n",
      "QRY [65]> MATCH (p :Pais ) WHERE n.name = 'Mongolia' SET n.WGI_Pais = 5.18 RETURN p\n",
      "QRY [66]> MATCH (p :Pais ) WHERE n.name = 'Morocco' SET n.WGI_Pais = 5.48 RETURN p\n",
      "QRY [67]> MATCH (p :Pais ) WHERE n.name = 'Mozambique' SET n.WGI_Pais = 5.93 RETURN p\n",
      "QRY [68]> MATCH (p :Pais ) WHERE n.name = 'Myanmar' SET n.WGI_Pais = 6.95 RETURN p\n",
      "QRY [69]> MATCH (p :Pais ) WHERE n.name = 'Namibia' SET n.WGI_Pais = 4.44 RETURN p\n",
      "QRY [70]> MATCH (p :Pais ) WHERE n.name = 'Netherlands' SET n.WGI_Pais = 2.19 RETURN p\n",
      "QRY [71]> MATCH (p :Pais ) WHERE n.name = 'New Caledonia' SET n.WGI_Pais = 3.23 RETURN p\n",
      "QRY [72]> MATCH (p :Pais ) WHERE n.name = 'Nigeria' SET n.WGI_Pais = 6.83 RETURN p\n",
      "QRY [73]> MATCH (p :Pais ) WHERE n.name = 'Norway' SET n.WGI_Pais = 2.03 RETURN p\n",
      "QRY [74]> MATCH (p :Pais ) WHERE n.name = 'Oman' SET n.WGI_Pais = 4.70 RETURN p\n",
      "QRY [75]> MATCH (p :Pais ) WHERE n.name = 'Others' SET n.WGI_Pais = 0.00 RETURN p\n",
      "QRY [76]> MATCH (p :Pais ) WHERE n.name = 'Other EU' SET n.WGI_Pais = 0.00 RETURN p\n",
      "QRY [77]> MATCH (p :Pais ) WHERE n.name = 'Other non EU' SET n.WGI_Pais = 0.00 RETURN p\n",
      "QRY [78]> MATCH (p :Pais ) WHERE n.name = 'Pakistan' SET n.WGI_Pais = 6.78 RETURN p\n",
      "QRY [79]> MATCH (p :Pais ) WHERE n.name = 'Panama' SET n.WGI_Pais = 4.79 RETURN p\n",
      "QRY [80]> MATCH (p :Pais ) WHERE n.name = 'Papua New Guinea' SET n.WGI_Pais = 5.94 RETURN p\n",
      "QRY [81]> MATCH (p :Pais ) WHERE n.name = 'Peru' SET n.WGI_Pais = 5.30 RETURN p\n",
      "QRY [82]> MATCH (p :Pais ) WHERE n.name = 'Philippines' SET n.WGI_Pais = 5.49 RETURN p\n",
      "QRY [83]> MATCH (p :Pais ) WHERE n.name = 'Poland' SET n.WGI_Pais = 3.60 RETURN p\n",
      "QRY [84]> MATCH (p :Pais ) WHERE n.name = 'Portugal' SET n.WGI_Pais = 3.34 RETURN p\n",
      "QRY [85]> MATCH (p :Pais ) WHERE n.name = 'Qatar' SET n.WGI_Pais = 4.03 RETURN p\n",
      "QRY [86]> MATCH (p :Pais ) WHERE n.name = 'Russian Federation' SET n.WGI_Pais = 6.20 RETURN p\n",
      "QRY [87]> MATCH (p :Pais ) WHERE n.name = 'Rwanda' SET n.WGI_Pais = 5.17 RETURN p\n",
      "QRY [88]> MATCH (p :Pais ) WHERE n.name = 'Saudi Arabia' SET n.WGI_Pais = 5.51 RETURN p\n",
      "QRY [89]> MATCH (p :Pais ) WHERE n.name = 'Senegal' SET n.WGI_Pais = 5.21 RETURN p\n",
      "QRY [90]> MATCH (p :Pais ) WHERE n.name = 'Sierra Leone' SET n.WGI_Pais = 6.17 RETURN p\n",
      "QRY [91]> MATCH (p :Pais ) WHERE n.name = 'Singapore' SET n.WGI_Pais = 2.37 RETURN p\n",
      "QRY [92]> MATCH (p :Pais ) WHERE n.name = 'Slovakia' SET n.WGI_Pais = 3.79 RETURN p\n",
      "QRY [93]> MATCH (p :Pais ) WHERE n.name = 'South Africa' SET n.WGI_Pais = 4.65 RETURN p\n",
      "QRY [94]> MATCH (p :Pais ) WHERE n.name = 'Spain' SET n.WGI_Pais = 3.62 RETURN p\n",
      "QRY [95]> MATCH (p :Pais ) WHERE n.name = 'Sri Lanka' SET n.WGI_Pais = 5.36 RETURN p\n",
      "QRY [96]> MATCH (p :Pais ) WHERE n.name = 'Sudan' SET n.WGI_Pais = 7.70 RETURN p\n",
      "QRY [97]> MATCH (p :Pais ) WHERE n.name = 'Suriname' SET n.WGI_Pais = 5.16 RETURN p\n",
      "QRY [98]> MATCH (p :Pais ) WHERE n.name = 'Sweden' SET n.WGI_Pais = 2.05 RETURN p\n",
      "QRY [99]> MATCH (p :Pais ) WHERE n.name = 'Taiwan, China' SET n.WGI_Pais = 3.27 RETURN p\n",
      "QRY [100]> MATCH (p :Pais ) WHERE n.name = 'Tajikistan' SET n.WGI_Pais = 6.88 RETURN p\n",
      "QRY [101]> MATCH (p :Pais ) WHERE n.name = 'Tanzania' SET n.WGI_Pais = 5.74 RETURN p\n",
      "QRY [102]> MATCH (p :Pais ) WHERE n.name = 'Thailand' SET n.WGI_Pais = 5.50 RETURN p\n",
      "QRY [103]> MATCH (p :Pais ) WHERE n.name = 'Togo' SET n.WGI_Pais = 6.34 RETURN p\n",
      "QRY [104]> MATCH (p :Pais ) WHERE n.name = 'Tunisia' SET n.WGI_Pais = 5.40 RETURN p\n",
      "QRY [105]> MATCH (p :Pais ) WHERE n.name = 'Turkey' SET n.WGI_Pais = 5.34 RETURN p\n",
      "QRY [106]> MATCH (p :Pais ) WHERE n.name = 'Uganda' SET n.WGI_Pais = 5.99 RETURN p\n",
      "QRY [107]> MATCH (p :Pais ) WHERE n.name = 'Ukraine' SET n.WGI_Pais = 6.23 RETURN p\n",
      "QRY [108]> MATCH (p :Pais ) WHERE n.name = 'United Arab Emirates' SET n.WGI_Pais = 3.94 RETURN p\n",
      "QRY [109]> MATCH (p :Pais ) WHERE n.name = 'United Kingdom' SET n.WGI_Pais = 2.60 RETURN p\n",
      "QRY [110]> MATCH (p :Pais ) WHERE n.name = 'United States' SET n.WGI_Pais = 2.92 RETURN p\n",
      "QRY [111]> MATCH (p :Pais ) WHERE n.name = 'Uzbekistan' SET n.WGI_Pais = 6.98 RETURN p\n",
      "QRY [112]> MATCH (p :Pais ) WHERE n.name = 'Venezuela, Rb' SET n.WGI_Pais = 7.30 RETURN p\n",
      "QRY [113]> MATCH (p :Pais ) WHERE n.name = 'Vietnam' SET n.WGI_Pais = 5.75 RETURN p\n",
      "QRY [114]> MATCH (p :Pais ) WHERE n.name = 'Zambia' SET n.WGI_Pais = 5.40 RETURN p\n",
      "QRY [115]> MATCH (p :Pais ) WHERE n.name = 'Zimbabwe' SET n.WGI_Pais = 7.17 RETURN p\n"
     ]
    }
   ],
   "source": [
    "#  Crear /ACtualizar la PROPIEDAD WGI_Pais en el nodo PAIS por cada fila leída (paises con sus WGI)\n",
    "## PREVISAULIZAR QUERYs antes de la ejecución\n",
    "TipoNodo = \" :Pais \" \n",
    "for i in range(0, nFilas):\n",
    "    strQry = \"MATCH (p\"                                               \\\n",
    "        + TipoNodo                                                     \\\n",
    "        + \")\"                                                            \\\n",
    "        + \" WHERE n.name = '\"                                           \\\n",
    "        + dfPaises.Pais[i]                                               \\\n",
    "        + \"'\"                                                            \\\n",
    "        + \" SET n.WGI_Pais = \"                                            \\\n",
    "        + str(dfPaises.WGI_Pais[i]).replace(\",\",\".\")                      \\\n",
    "        + \" RETURN p\" \n",
    "    print(\"QRY [\" + str(i) + \"]> \"+ strQry)\n",
    "# querys  visualizadas"
   ]
  },
  {
   "cell_type": "code",
   "execution_count": 23,
   "id": "daf726b0",
   "metadata": {},
   "outputs": [
    {
     "data": {
      "text/plain": [
       "Graph('bolt://localhost:7687')"
      ]
     },
     "execution_count": 23,
     "metadata": {},
     "output_type": "execute_result"
    }
   ],
   "source": [
    "#comprobar que sigue abierta la conexión para enviar las queries a la BD \n",
    "graph_test01"
   ]
  },
  {
   "cell_type": "code",
   "execution_count": 25,
   "id": "b2a8c8f1",
   "metadata": {},
   "outputs": [
    {
     "name": "stdout",
     "output_type": "stream",
     "text": [
      "EJECUTADA QRY [0]> MATCH (p :Pais ) WHERE p.name = 'Algeria' SET p.WGI_Pais = 6.43 RETURN p\n",
      "EJECUTADA QRY [1]> MATCH (p :Pais ) WHERE p.name = 'Albania' SET p.WGI_Pais = 5.16 RETURN p\n",
      "EJECUTADA QRY [2]> MATCH (p :Pais ) WHERE p.name = 'Argentina' SET p.WGI_Pais = 5.47 RETURN p\n",
      "EJECUTADA QRY [3]> MATCH (p :Pais ) WHERE p.name = 'Armenia' SET p.WGI_Pais = 5.41 RETURN p\n",
      "EJECUTADA QRY [4]> MATCH (p :Pais ) WHERE p.name = 'Australia' SET p.WGI_Pais = 2.36 RETURN p\n",
      "EJECUTADA QRY [5]> MATCH (p :Pais ) WHERE p.name = 'Austria' SET p.WGI_Pais = 2.50 RETURN p\n",
      "EJECUTADA QRY [6]> MATCH (p :Pais ) WHERE p.name = 'Bahrain' SET p.WGI_Pais = 5.15 RETURN p\n",
      "EJECUTADA QRY [7]> MATCH (p :Pais ) WHERE p.name = 'Bangladesh' SET p.WGI_Pais = 6.41 RETURN p\n",
      "EJECUTADA QRY [8]> MATCH (p :Pais ) WHERE p.name = 'Belarus' SET p.WGI_Pais = 6.18 RETURN p\n",
      "EJECUTADA QRY [9]> MATCH (p :Pais ) WHERE p.name = 'Belgium' SET p.WGI_Pais = 2.81 RETURN p\n",
      "EJECUTADA QRY [10]> MATCH (p :Pais ) WHERE p.name = 'Bolivia' SET p.WGI_Pais = 5.97 RETURN p\n",
      "EJECUTADA QRY [11]> MATCH (p :Pais ) WHERE p.name = 'Brazil' SET p.WGI_Pais = 5.08 RETURN p\n",
      "EJECUTADA QRY [12]> MATCH (p :Pais ) WHERE p.name = 'Bulgaria' SET p.WGI_Pais = 4.73 RETURN p\n",
      "EJECUTADA QRY [13]> MATCH (p :Pais ) WHERE p.name = 'Burkina Faso' SET p.WGI_Pais = 5.74 RETURN p\n",
      "EJECUTADA QRY [14]> MATCH (p :Pais ) WHERE p.name = 'Burundi' SET p.WGI_Pais = 7.00 RETURN p\n",
      "EJECUTADA QRY [15]> MATCH (p :Pais ) WHERE p.name = 'Canada' SET p.WGI_Pais = 2.26 RETURN p\n",
      "EJECUTADA QRY [16]> MATCH (p :Pais ) WHERE p.name = 'Chile' SET p.WGI_Pais = 3.11 RETURN p\n",
      "EJECUTADA QRY [17]> MATCH (p :Pais ) WHERE p.name = 'China' SET p.WGI_Pais = 5.83 RETURN p\n",
      "EJECUTADA QRY [18]> MATCH (p :Pais ) WHERE p.name = 'Colombia' SET p.WGI_Pais = 5.39 RETURN p\n",
      "EJECUTADA QRY [19]> MATCH (p :Pais ) WHERE p.name = 'Congo, D.R.' SET p.WGI_Pais = 7.60 RETURN p\n",
      "EJECUTADA QRY [20]> MATCH (p :Pais ) WHERE p.name = 'Cote D_Ivoire' SET p.WGI_Pais = 6.21 RETURN p\n",
      "EJECUTADA QRY [21]> MATCH (p :Pais ) WHERE p.name = 'Cuba' SET p.WGI_Pais = 5.87 RETURN p\n",
      "EJECUTADA QRY [22]> MATCH (p :Pais ) WHERE p.name = 'Czech Republic' SET p.WGI_Pais = 3.47 RETURN p\n",
      "EJECUTADA QRY [23]> MATCH (p :Pais ) WHERE p.name = 'Denmark' SET p.WGI_Pais = 2.11 RETURN p\n",
      "EJECUTADA QRY [24]> MATCH (p :Pais ) WHERE p.name = 'Dominican Republic' SET p.WGI_Pais = 5.40 RETURN p\n",
      "EJECUTADA QRY [25]> MATCH (p :Pais ) WHERE p.name = 'Ecuador' SET p.WGI_Pais = 5.99 RETURN p\n",
      "EJECUTADA QRY [26]> MATCH (p :Pais ) WHERE p.name = 'Egypt, Arab Rep.' SET p.WGI_Pais = 6.48 RETURN p\n",
      "EJECUTADA QRY [27]> MATCH (p :Pais ) WHERE p.name = 'Estonia' SET p.WGI_Pais = 3.07 RETURN p\n",
      "EJECUTADA QRY [28]> MATCH (p :Pais ) WHERE p.name = 'Ethiopia' SET p.WGI_Pais = 6.52 RETURN p\n",
      "EJECUTADA QRY [29]> MATCH (p :Pais ) WHERE p.name = 'Finland' SET p.WGI_Pais = 1.98 RETURN p\n",
      "EJECUTADA QRY [30]> MATCH (p :Pais ) WHERE p.name = 'France' SET p.WGI_Pais = 3.11 RETURN p\n",
      "EJECUTADA QRY [31]> MATCH (p :Pais ) WHERE p.name = 'Gabon' SET p.WGI_Pais = 5.97 RETURN p\n",
      "EJECUTADA QRY [32]> MATCH (p :Pais ) WHERE p.name = 'Georgia' SET p.WGI_Pais = 4.47 RETURN p\n",
      "EJECUTADA QRY [33]> MATCH (p :Pais ) WHERE p.name = 'Germany' SET p.WGI_Pais = 2.47 RETURN p\n",
      "EJECUTADA QRY [34]> MATCH (p :Pais ) WHERE p.name = 'Ghana' SET p.WGI_Pais = 4.94 RETURN p\n",
      "EJECUTADA QRY [35]> MATCH (p :Pais ) WHERE p.name = 'Greece' SET p.WGI_Pais = 4.60 RETURN p\n",
      "EJECUTADA QRY [36]> MATCH (p :Pais ) WHERE p.name = 'Guatemala' SET p.WGI_Pais = 6.00 RETURN p\n",
      "EJECUTADA QRY [37]> MATCH (p :Pais ) WHERE p.name = 'Guinea' SET p.WGI_Pais = 6.72 RETURN p\n",
      "EJECUTADA QRY [38]> MATCH (p :Pais ) WHERE p.name = 'Guyana' SET p.WGI_Pais = 5.56 RETURN p\n",
      "EJECUTADA QRY [39]> MATCH (p :Pais ) WHERE p.name = 'Hong Kong' SET p.WGI_Pais = 2.56 RETURN p\n",
      "EJECUTADA QRY [40]> MATCH (p :Pais ) WHERE p.name = 'Hungary' SET p.WGI_Pais = 4.06 RETURN p\n",
      "EJECUTADA QRY [41]> MATCH (p :Pais ) WHERE p.name = 'Iceland' SET p.WGI_Pais = 2.52 RETURN p\n",
      "EJECUTADA QRY [42]> MATCH (p :Pais ) WHERE p.name = 'India' SET p.WGI_Pais = 5.45 RETURN p\n",
      "EJECUTADA QRY [43]> MATCH (p :Pais ) WHERE p.name = 'Indonesia' SET p.WGI_Pais = 5.47 RETURN p\n",
      "EJECUTADA QRY [44]> MATCH (p :Pais ) WHERE p.name = 'Iran, Islamic Rep.' SET p.WGI_Pais = 6.65 RETURN p\n",
      "EJECUTADA QRY [45]> MATCH (p :Pais ) WHERE p.name = 'Iraq' SET p.WGI_Pais = 7.35 RETURN p\n",
      "EJECUTADA QRY [46]> MATCH (p :Pais ) WHERE p.name = 'Ireland' SET p.WGI_Pais = 2.58 RETURN p\n",
      "EJECUTADA QRY [47]> MATCH (p :Pais ) WHERE p.name = 'Israel' SET p.WGI_Pais = 3.83 RETURN p\n",
      "EJECUTADA QRY [48]> MATCH (p :Pais ) WHERE p.name = 'Italy' SET p.WGI_Pais = 4.17 RETURN p\n",
      "EJECUTADA QRY [49]> MATCH (p :Pais ) WHERE p.name = 'Jamaica' SET p.WGI_Pais = 4.85 RETURN p\n",
      "EJECUTADA QRY [50]> MATCH (p :Pais ) WHERE p.name = 'Japan' SET p.WGI_Pais = 2.77 RETURN p\n",
      "EJECUTADA QRY [51]> MATCH (p :Pais ) WHERE p.name = 'Jordan' SET p.WGI_Pais = 5.16 RETURN p\n",
      "EJECUTADA QRY [52]> MATCH (p :Pais ) WHERE p.name = 'Kazakhstan' SET p.WGI_Pais = 5.90 RETURN p\n",
      "EJECUTADA QRY [53]> MATCH (p :Pais ) WHERE p.name = 'Kenya' SET p.WGI_Pais = 6.03 RETURN p\n",
      "EJECUTADA QRY [54]> MATCH (p :Pais ) WHERE p.name = 'Korea, Dem. Rep.' SET p.WGI_Pais = 7.74 RETURN p\n",
      "EJECUTADA QRY [55]> MATCH (p :Pais ) WHERE p.name = 'Korea, Rep.' SET p.WGI_Pais = 3.74 RETURN p\n",
      "EJECUTADA QRY [56]> MATCH (p :Pais ) WHERE p.name = 'Kuwait' SET p.WGI_Pais = 5.24 RETURN p\n",
      "EJECUTADA QRY [57]> MATCH (p :Pais ) WHERE p.name = 'Kyrgyz Republic' SET p.WGI_Pais = 6.30 RETURN p\n",
      "EJECUTADA QRY [58]> MATCH (p :Pais ) WHERE p.name = 'Lao Pdr' SET p.WGI_Pais = 6.25 RETURN p\n",
      "EJECUTADA QRY [59]> MATCH (p :Pais ) WHERE p.name = 'Lithuania' SET p.WGI_Pais = 3.50 RETURN p\n",
      "EJECUTADA QRY [60]> MATCH (p :Pais ) WHERE p.name = 'Liberia' SET p.WGI_Pais = 6.29 RETURN p\n",
      "EJECUTADA QRY [61]> MATCH (p :Pais ) WHERE p.name = 'Madagascar' SET p.WGI_Pais = 6.26 RETURN p\n",
      "EJECUTADA QRY [62]> MATCH (p :Pais ) WHERE p.name = 'Malaysia' SET p.WGI_Pais = 4.39 RETURN p\n",
      "EJECUTADA QRY [63]> MATCH (p :Pais ) WHERE p.name = 'Mali' SET p.WGI_Pais = 6.39 RETURN p\n",
      "EJECUTADA QRY [64]> MATCH (p :Pais ) WHERE p.name = 'Mexico' SET p.WGI_Pais = 5.33 RETURN p\n",
      "EJECUTADA QRY [65]> MATCH (p :Pais ) WHERE p.name = 'Mongolia' SET p.WGI_Pais = 5.18 RETURN p\n",
      "EJECUTADA QRY [66]> MATCH (p :Pais ) WHERE p.name = 'Morocco' SET p.WGI_Pais = 5.48 RETURN p\n",
      "EJECUTADA QRY [67]> MATCH (p :Pais ) WHERE p.name = 'Mozambique' SET p.WGI_Pais = 5.93 RETURN p\n",
      "EJECUTADA QRY [68]> MATCH (p :Pais ) WHERE p.name = 'Myanmar' SET p.WGI_Pais = 6.95 RETURN p\n",
      "EJECUTADA QRY [69]> MATCH (p :Pais ) WHERE p.name = 'Namibia' SET p.WGI_Pais = 4.44 RETURN p\n",
      "EJECUTADA QRY [70]> MATCH (p :Pais ) WHERE p.name = 'Netherlands' SET p.WGI_Pais = 2.19 RETURN p\n",
      "EJECUTADA QRY [71]> MATCH (p :Pais ) WHERE p.name = 'New Caledonia' SET p.WGI_Pais = 3.23 RETURN p\n",
      "EJECUTADA QRY [72]> MATCH (p :Pais ) WHERE p.name = 'Nigeria' SET p.WGI_Pais = 6.83 RETURN p\n",
      "EJECUTADA QRY [73]> MATCH (p :Pais ) WHERE p.name = 'Norway' SET p.WGI_Pais = 2.03 RETURN p\n",
      "EJECUTADA QRY [74]> MATCH (p :Pais ) WHERE p.name = 'Oman' SET p.WGI_Pais = 4.70 RETURN p\n",
      "EJECUTADA QRY [75]> MATCH (p :Pais ) WHERE p.name = 'Others' SET p.WGI_Pais = 0.00 RETURN p\n",
      "EJECUTADA QRY [76]> MATCH (p :Pais ) WHERE p.name = 'Other EU' SET p.WGI_Pais = 0.00 RETURN p\n",
      "EJECUTADA QRY [77]> MATCH (p :Pais ) WHERE p.name = 'Other non EU' SET p.WGI_Pais = 0.00 RETURN p\n",
      "EJECUTADA QRY [78]> MATCH (p :Pais ) WHERE p.name = 'Pakistan' SET p.WGI_Pais = 6.78 RETURN p\n",
      "EJECUTADA QRY [79]> MATCH (p :Pais ) WHERE p.name = 'Panama' SET p.WGI_Pais = 4.79 RETURN p\n",
      "EJECUTADA QRY [80]> MATCH (p :Pais ) WHERE p.name = 'Papua New Guinea' SET p.WGI_Pais = 5.94 RETURN p\n",
      "EJECUTADA QRY [81]> MATCH (p :Pais ) WHERE p.name = 'Peru' SET p.WGI_Pais = 5.30 RETURN p\n",
      "EJECUTADA QRY [82]> MATCH (p :Pais ) WHERE p.name = 'Philippines' SET p.WGI_Pais = 5.49 RETURN p\n",
      "EJECUTADA QRY [83]> MATCH (p :Pais ) WHERE p.name = 'Poland' SET p.WGI_Pais = 3.60 RETURN p\n",
      "EJECUTADA QRY [84]> MATCH (p :Pais ) WHERE p.name = 'Portugal' SET p.WGI_Pais = 3.34 RETURN p\n",
      "EJECUTADA QRY [85]> MATCH (p :Pais ) WHERE p.name = 'Qatar' SET p.WGI_Pais = 4.03 RETURN p\n",
      "EJECUTADA QRY [86]> MATCH (p :Pais ) WHERE p.name = 'Russian Federation' SET p.WGI_Pais = 6.20 RETURN p\n",
      "EJECUTADA QRY [87]> MATCH (p :Pais ) WHERE p.name = 'Rwanda' SET p.WGI_Pais = 5.17 RETURN p\n",
      "EJECUTADA QRY [88]> MATCH (p :Pais ) WHERE p.name = 'Saudi Arabia' SET p.WGI_Pais = 5.51 RETURN p\n",
      "EJECUTADA QRY [89]> MATCH (p :Pais ) WHERE p.name = 'Senegal' SET p.WGI_Pais = 5.21 RETURN p\n",
      "EJECUTADA QRY [90]> MATCH (p :Pais ) WHERE p.name = 'Sierra Leone' SET p.WGI_Pais = 6.17 RETURN p\n",
      "EJECUTADA QRY [91]> MATCH (p :Pais ) WHERE p.name = 'Singapore' SET p.WGI_Pais = 2.37 RETURN p\n",
      "EJECUTADA QRY [92]> MATCH (p :Pais ) WHERE p.name = 'Slovakia' SET p.WGI_Pais = 3.79 RETURN p\n",
      "EJECUTADA QRY [93]> MATCH (p :Pais ) WHERE p.name = 'South Africa' SET p.WGI_Pais = 4.65 RETURN p\n",
      "EJECUTADA QRY [94]> MATCH (p :Pais ) WHERE p.name = 'Spain' SET p.WGI_Pais = 3.62 RETURN p\n",
      "EJECUTADA QRY [95]> MATCH (p :Pais ) WHERE p.name = 'Sri Lanka' SET p.WGI_Pais = 5.36 RETURN p\n"
     ]
    },
    {
     "name": "stdout",
     "output_type": "stream",
     "text": [
      "EJECUTADA QRY [96]> MATCH (p :Pais ) WHERE p.name = 'Sudan' SET p.WGI_Pais = 7.70 RETURN p\n",
      "EJECUTADA QRY [97]> MATCH (p :Pais ) WHERE p.name = 'Suriname' SET p.WGI_Pais = 5.16 RETURN p\n",
      "EJECUTADA QRY [98]> MATCH (p :Pais ) WHERE p.name = 'Sweden' SET p.WGI_Pais = 2.05 RETURN p\n",
      "EJECUTADA QRY [99]> MATCH (p :Pais ) WHERE p.name = 'Taiwan, China' SET p.WGI_Pais = 3.27 RETURN p\n",
      "EJECUTADA QRY [100]> MATCH (p :Pais ) WHERE p.name = 'Tajikistan' SET p.WGI_Pais = 6.88 RETURN p\n",
      "EJECUTADA QRY [101]> MATCH (p :Pais ) WHERE p.name = 'Tanzania' SET p.WGI_Pais = 5.74 RETURN p\n",
      "EJECUTADA QRY [102]> MATCH (p :Pais ) WHERE p.name = 'Thailand' SET p.WGI_Pais = 5.50 RETURN p\n",
      "EJECUTADA QRY [103]> MATCH (p :Pais ) WHERE p.name = 'Togo' SET p.WGI_Pais = 6.34 RETURN p\n",
      "EJECUTADA QRY [104]> MATCH (p :Pais ) WHERE p.name = 'Tunisia' SET p.WGI_Pais = 5.40 RETURN p\n",
      "EJECUTADA QRY [105]> MATCH (p :Pais ) WHERE p.name = 'Turkey' SET p.WGI_Pais = 5.34 RETURN p\n",
      "EJECUTADA QRY [106]> MATCH (p :Pais ) WHERE p.name = 'Uganda' SET p.WGI_Pais = 5.99 RETURN p\n",
      "EJECUTADA QRY [107]> MATCH (p :Pais ) WHERE p.name = 'Ukraine' SET p.WGI_Pais = 6.23 RETURN p\n",
      "EJECUTADA QRY [108]> MATCH (p :Pais ) WHERE p.name = 'United Arab Emirates' SET p.WGI_Pais = 3.94 RETURN p\n",
      "EJECUTADA QRY [109]> MATCH (p :Pais ) WHERE p.name = 'United Kingdom' SET p.WGI_Pais = 2.60 RETURN p\n",
      "EJECUTADA QRY [110]> MATCH (p :Pais ) WHERE p.name = 'United States' SET p.WGI_Pais = 2.92 RETURN p\n",
      "EJECUTADA QRY [111]> MATCH (p :Pais ) WHERE p.name = 'Uzbekistan' SET p.WGI_Pais = 6.98 RETURN p\n",
      "EJECUTADA QRY [112]> MATCH (p :Pais ) WHERE p.name = 'Venezuela, Rb' SET p.WGI_Pais = 7.30 RETURN p\n",
      "EJECUTADA QRY [113]> MATCH (p :Pais ) WHERE p.name = 'Vietnam' SET p.WGI_Pais = 5.75 RETURN p\n",
      "EJECUTADA QRY [114]> MATCH (p :Pais ) WHERE p.name = 'Zambia' SET p.WGI_Pais = 5.40 RETURN p\n",
      "EJECUTADA QRY [115]> MATCH (p :Pais ) WHERE p.name = 'Zimbabwe' SET p.WGI_Pais = 7.17 RETURN p\n"
     ]
    }
   ],
   "source": [
    "# Crear un nodo por cada fila con sus propiedades\n",
    "#nodos de PAIS,\n",
    "# CREAR NODOS: \"Pais\" \n",
    "## query para crea nodo con sus  propiedades\n",
    "TipoNodo = \" :Pais \" \n",
    "for i in range(0, nFilas):\n",
    "    strQry = \"MATCH (p\"                                               \\\n",
    "        + TipoNodo                                                     \\\n",
    "        + \")\"                                                            \\\n",
    "        + \" WHERE p.name = '\"                                           \\\n",
    "        + dfPaises.Pais[i]                                               \\\n",
    "        + \"'\"                                                            \\\n",
    "        + \" SET p.WGI_Pais = \"                                            \\\n",
    "        + str(dfPaises.WGI_Pais[i]).replace(\",\",\".\")                      \\\n",
    "        + \" RETURN p\" \n",
    "#ejecutar Query en BD abierta - Neo4j\n",
    "    graph_test01.run(strQry)\n",
    "#Visualizar Query ejecutada \n",
    "    print(\"EJECUTADA QRY [\" + str(i) + \"]> \"+ strQry)\n",
    "# nodos creados"
   ]
  },
  {
   "cell_type": "code",
   "execution_count": 26,
   "id": "8e97ade6",
   "metadata": {},
   "outputs": [],
   "source": [
    "dfGraphMat= graph_test01.run(\"MATCH (n :Pais ) RETURN n\").data()"
   ]
  },
  {
   "cell_type": "code",
   "execution_count": 27,
   "id": "0726943c",
   "metadata": {},
   "outputs": [
    {
     "data": {
      "text/plain": [
       "{'n': Node('Pais', Pais_iso3='DZA', WGI_Pais=6.43, name='Algeria')}"
      ]
     },
     "execution_count": 27,
     "metadata": {},
     "output_type": "execute_result"
    }
   ],
   "source": [
    "dfGraphMat[0]\n"
   ]
  },
  {
   "cell_type": "code",
   "execution_count": 29,
   "id": "f37f5bdb",
   "metadata": {
    "scrolled": true
   },
   "outputs": [
    {
     "data": {
      "text/html": [
       "<table><tr><th>LABELS(n)</th><th>COUNT(n)</th><th>COUNT(n.WGI_Pais)</th></tr><tr><td style=\"text-align:left\">[&#039;Pais&#039;]</td><td style=\"text-align:right\">116</td><td style=\"text-align:right\">116</td></tr></table>"
      ],
      "text/plain": [
       " LABELS(n) | COUNT(n) | COUNT(n.WGI_Pais) \n",
       "-----------|----------|-------------------\n",
       " ['Pais']  |      116 |               116 "
      ]
     },
     "execution_count": 29,
     "metadata": {},
     "output_type": "execute_result"
    }
   ],
   "source": [
    "#validamos que todos los -nuevos- nodos se han creado :Pais  \n",
    "graph_test01.run(\"MATCH (n :Pais) RETURN  LABELS(n), COUNT(n), COUNT(n.WGI_Pais)\")"
   ]
  },
  {
   "cell_type": "code",
   "execution_count": 30,
   "id": "692a91c0",
   "metadata": {},
   "outputs": [
    {
     "data": {
      "text/html": [
       "<table><tr><th>name</th><th>Ntotal</th></tr><tr><td style=\"text-align:left\">MaterialB</td><td style=\"text-align:right\">78</td></tr><tr><td style=\"text-align:left\">MaterialREF</td><td style=\"text-align:right\">78</td></tr><tr><td style=\"text-align:left\">Pais</td><td style=\"text-align:right\">116</td></tr></table>"
      ],
      "text/plain": [
       " name        | Ntotal \n",
       "-------------|--------\n",
       " MaterialB   |     78 \n",
       " MaterialREF |     78 \n",
       " Pais        |    116 "
      ]
     },
     "execution_count": 30,
     "metadata": {},
     "output_type": "execute_result"
    }
   ],
   "source": [
    "#validamos que todos los nodos se han creado (hasta este paso)\n",
    "queryPRB= \"MATCH (n)                                    \\\n",
    "RETURN labels (n)[0] as name, count (n) as Ntotal       \\\n",
    "UNION MATCH (n)                                         \\\n",
    "WITH labels (n)[1] as name, count (n) as Ntotal         \\\n",
    "WHERE name IS NOT NULL                                  \\\n",
    "RETURN name, Ntotal                                     \\\n",
    "UNION MATCH (n)                                         \\\n",
    "WITH labels (n)[2] as name, count (n) as Ntotal         \\\n",
    "WHERE name IS NOT NULL                                  \\\n",
    "RETURN  name, Ntotal                                    \\\n",
    "\"\n",
    "graph_test01.run(queryPRB)\n"
   ]
  },
  {
   "cell_type": "markdown",
   "id": "aee44cef",
   "metadata": {},
   "source": [
    "# fin proceso - Propiedad WGI_Pais creada en cada nodo  PAIS- CREADOS"
   ]
  },
  {
   "cell_type": "code",
   "execution_count": 81,
   "id": "df4c6f03",
   "metadata": {},
   "outputs": [],
   "source": [
    "# fin archivo"
   ]
  }
 ],
 "metadata": {
  "kernelspec": {
   "display_name": "Python 3 (ipykernel)",
   "language": "python",
   "name": "python3"
  },
  "language_info": {
   "codemirror_mode": {
    "name": "ipython",
    "version": 3
   },
   "file_extension": ".py",
   "mimetype": "text/x-python",
   "name": "python",
   "nbconvert_exporter": "python",
   "pygments_lexer": "ipython3",
   "version": "3.7.1"
  }
 },
 "nbformat": 4,
 "nbformat_minor": 5
}
