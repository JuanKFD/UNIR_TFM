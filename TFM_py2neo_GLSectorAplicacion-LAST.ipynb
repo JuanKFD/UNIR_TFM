{
 "cells": [
  {
   "cell_type": "markdown",
   "id": "8f9b66a4",
   "metadata": {},
   "source": [
    "# TFM Suministro Global - Sector de Actividad NACE2- Aplicación/usos de Material  \n",
    "# _Neo4j - py2neo_\n"
   ]
  },
  {
   "cell_type": "markdown",
   "id": "fe7813af",
   "metadata": {},
   "source": [
    "## Partimos de la existencia, en paralelo a esta ejecución, de una instancia levantada y accesible de Neo4j  \n",
    "https://nacev2.com/es   \n",
    "https://ec.europa.eu/competition/mergers/cases/index/nace_all.html\n",
    "\n",
    "### La primera vez que se quiera usar _py2neo_ erá  necesario asegurar su instalación:  _!pip install py2neo_"
   ]
  },
  {
   "cell_type": "code",
   "execution_count": 1,
   "id": "7b420b33",
   "metadata": {
    "scrolled": true
   },
   "outputs": [],
   "source": [
    "##!pip install py2neo "
   ]
  },
  {
   "cell_type": "code",
   "execution_count": 2,
   "id": "6d9f652c",
   "metadata": {},
   "outputs": [],
   "source": [
    "#importar la librería para poder hacer uso de sus funcionalidades y objetos\n",
    "from py2neo import *"
   ]
  },
  {
   "cell_type": "code",
   "execution_count": 3,
   "id": "dc45043b",
   "metadata": {},
   "outputs": [],
   "source": [
    "#acceder a la instancia levantada de Neo4j - en nuestro caso instancia Docker - asignamos credenciales de autentificación -\n",
    "graph_test01 = Graph(auth=('neo4j', 's3cr3t'))"
   ]
  },
  {
   "cell_type": "code",
   "execution_count": 4,
   "id": "0bdda4f9",
   "metadata": {},
   "outputs": [
    {
     "data": {
      "text/plain": [
       "Graph('bolt://localhost:7687')"
      ]
     },
     "execution_count": 4,
     "metadata": {},
     "output_type": "execute_result"
    }
   ],
   "source": [
    "#que es el objeto - graph_test01\n",
    "graph_test01"
   ]
  },
  {
   "cell_type": "code",
   "execution_count": 5,
   "id": "ae88b5a3",
   "metadata": {},
   "outputs": [],
   "source": [
    "#que es el objeto - tx\n",
    "tx = graph_test01.begin()"
   ]
  },
  {
   "cell_type": "code",
   "execution_count": 6,
   "id": "07d7aa84",
   "metadata": {},
   "outputs": [
    {
     "data": {
      "text/plain": [
       "<py2neo.database.Transaction at 0x201b7c34c88>"
      ]
     },
     "execution_count": 6,
     "metadata": {},
     "output_type": "execute_result"
    }
   ],
   "source": [
    "tx"
   ]
  },
  {
   "cell_type": "code",
   "execution_count": 11,
   "id": "b5ee1622",
   "metadata": {
    "scrolled": false
   },
   "outputs": [
    {
     "data": {
      "text/html": [
       "<div>\n",
       "<style scoped>\n",
       "    .dataframe tbody tr th:only-of-type {\n",
       "        vertical-align: middle;\n",
       "    }\n",
       "\n",
       "    .dataframe tbody tr th {\n",
       "        vertical-align: top;\n",
       "    }\n",
       "\n",
       "    .dataframe thead th {\n",
       "        text-align: right;\n",
       "    }\n",
       "</style>\n",
       "<table border=\"1\" class=\"dataframe\">\n",
       "  <thead>\n",
       "    <tr style=\"text-align: right;\">\n",
       "      <th></th>\n",
       "      <th>name</th>\n",
       "      <th>Ntotal</th>\n",
       "    </tr>\n",
       "  </thead>\n",
       "  <tbody>\n",
       "    <tr>\n",
       "      <th>0</th>\n",
       "      <td>MaterialB</td>\n",
       "      <td>78</td>\n",
       "    </tr>\n",
       "    <tr>\n",
       "      <th>1</th>\n",
       "      <td>MaterialREF</td>\n",
       "      <td>78</td>\n",
       "    </tr>\n",
       "    <tr>\n",
       "      <th>2</th>\n",
       "      <td>Pais</td>\n",
       "      <td>91</td>\n",
       "    </tr>\n",
       "    <tr>\n",
       "      <th>3</th>\n",
       "      <td>GrupoAplicacion</td>\n",
       "      <td>88</td>\n",
       "    </tr>\n",
       "  </tbody>\n",
       "</table>\n",
       "</div>"
      ],
      "text/plain": [
       "              name  Ntotal\n",
       "0        MaterialB      78\n",
       "1      MaterialREF      78\n",
       "2             Pais      91\n",
       "3  GrupoAplicacion      88"
      ]
     },
     "execution_count": 11,
     "metadata": {},
     "output_type": "execute_result"
    }
   ],
   "source": [
    "#query de conexión de prueba sin errores\n",
    "# verificar existencia de NODOS PREVIOS - \n",
    "#--- cuenta los nodos con diferentes tipos de etiqueta y los une en una única salida, 1 fila por cada tipo (name, Ntotal)\n",
    "queryPRB= \"MATCH (n)                                    \\\n",
    "RETURN labels (n)[0] as name, count (n) as Ntotal       \\\n",
    "UNION MATCH (n)                                         \\\n",
    "WITH labels (n)[1] as name, count (n) as Ntotal         \\\n",
    "WHERE name IS NOT NULL                                  \\\n",
    "RETURN name, Ntotal                                     \\\n",
    "UNION MATCH (n)                                         \\\n",
    "WITH labels (n)[2] as name, count (n) as Ntotal         \\\n",
    "WHERE name IS NOT NULL                                  \\\n",
    "RETURN name, Ntotal                                     \\\n",
    "\"\n",
    "graph_test01.run(queryPRB).to_data_frame()"
   ]
  },
  {
   "cell_type": "markdown",
   "id": "27083405",
   "metadata": {},
   "source": [
    "## CARGAR DATOS"
   ]
  },
  {
   "cell_type": "code",
   "execution_count": 10,
   "id": "ae0e1afa",
   "metadata": {},
   "outputs": [],
   "source": [
    "import numpy as np    #datos y operativa álgegra y matrices de n dimensiones (arrays)\n",
    "import pandas as pd   #carga dataset y manipulación de datos  y dataframes"
   ]
  },
  {
   "cell_type": "code",
   "execution_count": 12,
   "id": "4e018e0b",
   "metadata": {},
   "outputs": [],
   "source": [
    "#DATOS: Fichero de SECTORES DE ACTIVIDAD vinculados a APLICACIONES-USOS de materiales de suministro crítico GLOBAL\n",
    "#        -- Atendiendo al alcance del estudio - EU CRM 2020\n",
    "#FICHERO: GLSectorAplic_Cargar.csv\n",
    "#CONTENIDO: Sectores NACE2 abreviados (34 chars) de actividad vinculables a los Grupo de Aplicación/uso de cada material \n",
    "#USO: Crear los NODOS de tipo \"SectorAplicacion\" asociable a nodos \"GrupoAplicacion\", agrupando 1 sector N nodos GrupoAplicacion\n",
    "#     De este modo a partir de cada Sector NACE2 oficial se puede investigar toda la cadena de uso-materiales- producción\n",
    "## -- propiedades de cada Sector: nombre (name)  y Valor Añadido del sector (ValorAnadidoSector)\n",
    "## -- los datos de suministro -posteriores fijarán puede relaciones entre materiales y sus grupos de uso/aplicación\n",
    "rutaFichero =  \"https://raw.githubusercontent.com/JuanKFD/UNIR_TFM/main/GLSectorAplic_Cargar.csv\" \n",
    "dfSector = pd.read_csv(rutaFichero, sep=';')\n",
    "#dataset cargado"
   ]
  },
  {
   "cell_type": "code",
   "execution_count": 14,
   "id": "a9bde14d",
   "metadata": {
    "scrolled": false
   },
   "outputs": [
    {
     "data": {
      "text/html": [
       "<div>\n",
       "<style scoped>\n",
       "    .dataframe tbody tr th:only-of-type {\n",
       "        vertical-align: middle;\n",
       "    }\n",
       "\n",
       "    .dataframe tbody tr th {\n",
       "        vertical-align: top;\n",
       "    }\n",
       "\n",
       "    .dataframe thead th {\n",
       "        text-align: right;\n",
       "    }\n",
       "</style>\n",
       "<table border=\"1\" class=\"dataframe\">\n",
       "  <thead>\n",
       "    <tr style=\"text-align: right;\">\n",
       "      <th></th>\n",
       "      <th>SectorAplicacion</th>\n",
       "      <th>ValorAnadidoSector</th>\n",
       "    </tr>\n",
       "  </thead>\n",
       "  <tbody>\n",
       "    <tr>\n",
       "      <th>0</th>\n",
       "      <td>B06-Extraction (crude, gas)**</td>\n",
       "      <td>19,75</td>\n",
       "    </tr>\n",
       "    <tr>\n",
       "      <th>1</th>\n",
       "      <td>B09-Mining (support)**</td>\n",
       "      <td>3,40</td>\n",
       "    </tr>\n",
       "    <tr>\n",
       "      <th>2</th>\n",
       "      <td>C10-food prods.</td>\n",
       "      <td>155,88</td>\n",
       "    </tr>\n",
       "    <tr>\n",
       "      <th>3</th>\n",
       "      <td>C11-beverages</td>\n",
       "      <td>32,51</td>\n",
       "    </tr>\n",
       "    <tr>\n",
       "      <th>4</th>\n",
       "      <td>C16-Wood,Cork,Straw,Plaiting-NoFur</td>\n",
       "      <td>27,97</td>\n",
       "    </tr>\n",
       "  </tbody>\n",
       "</table>\n",
       "</div>"
      ],
      "text/plain": [
       "                     SectorAplicacion ValorAnadidoSector\n",
       "0       B06-Extraction (crude, gas)**              19,75\n",
       "1              B09-Mining (support)**               3,40\n",
       "2                    C10-food prods.              155,88\n",
       "3                      C11-beverages               32,51\n",
       "4  C16-Wood,Cork,Straw,Plaiting-NoFur              27,97"
      ]
     },
     "execution_count": 14,
     "metadata": {},
     "output_type": "execute_result"
    }
   ],
   "source": [
    "dfSector.head()"
   ]
  },
  {
   "cell_type": "code",
   "execution_count": 15,
   "id": "3785a1e2",
   "metadata": {
    "scrolled": true
   },
   "outputs": [
    {
     "data": {
      "text/html": [
       "<div>\n",
       "<style scoped>\n",
       "    .dataframe tbody tr th:only-of-type {\n",
       "        vertical-align: middle;\n",
       "    }\n",
       "\n",
       "    .dataframe tbody tr th {\n",
       "        vertical-align: top;\n",
       "    }\n",
       "\n",
       "    .dataframe thead th {\n",
       "        text-align: right;\n",
       "    }\n",
       "</style>\n",
       "<table border=\"1\" class=\"dataframe\">\n",
       "  <thead>\n",
       "    <tr style=\"text-align: right;\">\n",
       "      <th></th>\n",
       "      <th>SectorAplicacion</th>\n",
       "      <th>ValorAnadidoSector</th>\n",
       "    </tr>\n",
       "  </thead>\n",
       "  <tbody>\n",
       "    <tr>\n",
       "      <th>20</th>\n",
       "      <td>C31-furniture</td>\n",
       "      <td>26,17</td>\n",
       "    </tr>\n",
       "    <tr>\n",
       "      <th>21</th>\n",
       "      <td>C32-Other manuf.**</td>\n",
       "      <td>39,16</td>\n",
       "    </tr>\n",
       "    <tr>\n",
       "      <th>22</th>\n",
       "      <td>C33-Repair&amp;install.Machinery-Equip</td>\n",
       "      <td>52,33</td>\n",
       "    </tr>\n",
       "    <tr>\n",
       "      <th>23</th>\n",
       "      <td>E39-Remed.Activs &amp;Waste MngSrvs</td>\n",
       "      <td>1,30</td>\n",
       "    </tr>\n",
       "    <tr>\n",
       "      <th>24</th>\n",
       "      <td>Z99-Others**</td>\n",
       "      <td>0,00</td>\n",
       "    </tr>\n",
       "  </tbody>\n",
       "</table>\n",
       "</div>"
      ],
      "text/plain": [
       "                      SectorAplicacion ValorAnadidoSector\n",
       "20                      C31-furniture               26,17\n",
       "21                  C32-Other manuf.**              39,16\n",
       "22  C33-Repair&install.Machinery-Equip              52,33\n",
       "23     E39-Remed.Activs &Waste MngSrvs               1,30\n",
       "24                        Z99-Others**               0,00"
      ]
     },
     "execution_count": 15,
     "metadata": {},
     "output_type": "execute_result"
    }
   ],
   "source": [
    "dfSector.tail()"
   ]
  },
  {
   "cell_type": "code",
   "execution_count": 16,
   "id": "3c0a0050",
   "metadata": {
    "scrolled": false
   },
   "outputs": [
    {
     "data": {
      "text/plain": [
       "(25, 2)"
      ]
     },
     "execution_count": 16,
     "metadata": {},
     "output_type": "execute_result"
    }
   ],
   "source": [
    "dfSector.shape"
   ]
  },
  {
   "cell_type": "code",
   "execution_count": 17,
   "id": "51ad4ccd",
   "metadata": {},
   "outputs": [
    {
     "data": {
      "text/plain": [
       "Index(['SectorAplicacion', 'ValorAnadidoSector'], dtype='object')"
      ]
     },
     "execution_count": 17,
     "metadata": {},
     "output_type": "execute_result"
    }
   ],
   "source": [
    "dfSector.columns"
   ]
  },
  {
   "cell_type": "code",
   "execution_count": 18,
   "id": "7b99516a",
   "metadata": {},
   "outputs": [],
   "source": [
    "nFilas = dfSector.shape[0]"
   ]
  },
  {
   "cell_type": "code",
   "execution_count": 19,
   "id": "9f85e8c0",
   "metadata": {
    "scrolled": true
   },
   "outputs": [
    {
     "data": {
      "text/plain": [
       "25"
      ]
     },
     "execution_count": 19,
     "metadata": {},
     "output_type": "execute_result"
    }
   ],
   "source": [
    "nFilas"
   ]
  },
  {
   "cell_type": "code",
   "execution_count": 21,
   "id": "a504c37e",
   "metadata": {},
   "outputs": [],
   "source": [
    "### Cargados en memoria los 25 sectores NACE2 de actividad vinculables a cada grupo de aplicación/uso de material en la \n",
    "### cadena de suministro global"
   ]
  },
  {
   "cell_type": "markdown",
   "id": "7dc58317",
   "metadata": {},
   "source": [
    "# PREVISUALIZACION DE DATOS - USOS\n"
   ]
  },
  {
   "cell_type": "code",
   "execution_count": 38,
   "id": "f0f87545",
   "metadata": {},
   "outputs": [
    {
     "name": "stdout",
     "output_type": "stream",
     "text": [
      "B06-Extraction (crude, gas)**\n",
      "19,75\n",
      "B09-Mining (support)**\n",
      "3,40\n",
      "C10-food prods. \n",
      "155,88\n",
      "C11-beverages \n",
      "32,51\n",
      "C16-Wood,Cork,Straw,Plaiting-NoFur\n",
      "27,97\n",
      "C17-paper & paper prods. \n",
      "38,91\n",
      "C19-Coke & Refined Petrol. Ps\n",
      "17,29\n",
      "C20-Chemicals & Chemc.Prods.\n",
      "105,51\n",
      "C21-BasicPharmaceutic.&PhPreps\n",
      "80,18\n",
      "C22-rubber & plastic prods. \n",
      "75,98\n",
      "C23-Oth.NoMetal.mineral Prods.\n",
      "57,26\n",
      "C24 - Manufacture of basic metals\n",
      "55,43\n",
      "C24-basic metals \n",
      "55,43\n",
      "C25-fabricated metal prods., \n",
      "148,35\n",
      "C25-FabrMetalProds-NoMachin-Eq\n",
      "148,35\n",
      "C26-Computer,Electron.Optic.Ps\n",
      "65,70\n",
      "C27-electrical equipment \n",
      "80,75\n",
      "C28-Machinery &Equipment n.e.c\n",
      "182,59\n",
      "C29-MotorVehicle,Trailer&SemiT\n",
      "160,60\n",
      "C30-other transport equipment \n",
      "44,30\n",
      "C31-furniture \n",
      "26,17\n",
      "C32-Other manuf.**\n",
      "39,16\n",
      "C33-Repair&install.Machinery-Equip\n",
      "52,33\n",
      "E39-Remed.Activs &Waste MngSrvs\n",
      "1,30\n",
      "Z99-Others**\n",
      "0,00\n"
     ]
    }
   ],
   "source": [
    "for i in range(0, nFilas):\n",
    "    print(dfSector.SectorAplicacion[i])\n",
    "    print(dfSector.ValorAnadidoSector[i])\n",
    "#cantidades en millones de euros"
   ]
  },
  {
   "cell_type": "code",
   "execution_count": 34,
   "id": "cb41a203",
   "metadata": {
    "scrolled": true
   },
   "outputs": [
    {
     "data": {
      "text/plain": [
       "'SectorAplicacion'"
      ]
     },
     "execution_count": 34,
     "metadata": {},
     "output_type": "execute_result"
    }
   ],
   "source": [
    "# columna cero identifica el tipo de nodo - etiqueta Neo4j- a crear\n",
    "dfSector.columns[0]"
   ]
  },
  {
   "cell_type": "code",
   "execution_count": 39,
   "id": "bd3533a0",
   "metadata": {
    "scrolled": false
   },
   "outputs": [
    {
     "name": "stdout",
     "output_type": "stream",
     "text": [
      "QRY [0]> CREATE (s  :SectorAplicacion {name: 'B06-Extraction (crude, gas)**', ValorAnadidoSector: 19,75 }) RETURN s\n",
      "QRY [1]> CREATE (s  :SectorAplicacion {name: 'B09-Mining (support)**', ValorAnadidoSector: 3,40 }) RETURN s\n",
      "QRY [2]> CREATE (s  :SectorAplicacion {name: 'C10-food prods. ', ValorAnadidoSector: 155,88 }) RETURN s\n",
      "QRY [3]> CREATE (s  :SectorAplicacion {name: 'C11-beverages ', ValorAnadidoSector: 32,51 }) RETURN s\n",
      "QRY [4]> CREATE (s  :SectorAplicacion {name: 'C16-Wood,Cork,Straw,Plaiting-NoFur', ValorAnadidoSector: 27,97 }) RETURN s\n",
      "QRY [5]> CREATE (s  :SectorAplicacion {name: 'C17-paper & paper prods. ', ValorAnadidoSector: 38,91 }) RETURN s\n",
      "QRY [6]> CREATE (s  :SectorAplicacion {name: 'C19-Coke & Refined Petrol. Ps', ValorAnadidoSector: 17,29 }) RETURN s\n",
      "QRY [7]> CREATE (s  :SectorAplicacion {name: 'C20-Chemicals & Chemc.Prods.', ValorAnadidoSector: 105,51 }) RETURN s\n",
      "QRY [8]> CREATE (s  :SectorAplicacion {name: 'C21-BasicPharmaceutic.&PhPreps', ValorAnadidoSector: 80,18 }) RETURN s\n",
      "QRY [9]> CREATE (s  :SectorAplicacion {name: 'C22-rubber & plastic prods. ', ValorAnadidoSector: 75,98 }) RETURN s\n",
      "QRY [10]> CREATE (s  :SectorAplicacion {name: 'C23-Oth.NoMetal.mineral Prods.', ValorAnadidoSector: 57,26 }) RETURN s\n",
      "QRY [11]> CREATE (s  :SectorAplicacion {name: 'C24 - Manufacture of basic metals', ValorAnadidoSector: 55,43 }) RETURN s\n",
      "QRY [12]> CREATE (s  :SectorAplicacion {name: 'C24-basic metals ', ValorAnadidoSector: 55,43 }) RETURN s\n",
      "QRY [13]> CREATE (s  :SectorAplicacion {name: 'C25-fabricated metal prods., ', ValorAnadidoSector: 148,35 }) RETURN s\n",
      "QRY [14]> CREATE (s  :SectorAplicacion {name: 'C25-FabrMetalProds-NoMachin-Eq', ValorAnadidoSector: 148,35 }) RETURN s\n",
      "QRY [15]> CREATE (s  :SectorAplicacion {name: 'C26-Computer,Electron.Optic.Ps', ValorAnadidoSector: 65,70 }) RETURN s\n",
      "QRY [16]> CREATE (s  :SectorAplicacion {name: 'C27-electrical equipment ', ValorAnadidoSector: 80,75 }) RETURN s\n",
      "QRY [17]> CREATE (s  :SectorAplicacion {name: 'C28-Machinery &Equipment n.e.c', ValorAnadidoSector: 182,59 }) RETURN s\n",
      "QRY [18]> CREATE (s  :SectorAplicacion {name: 'C29-MotorVehicle,Trailer&SemiT', ValorAnadidoSector: 160,60 }) RETURN s\n",
      "QRY [19]> CREATE (s  :SectorAplicacion {name: 'C30-other transport equipment ', ValorAnadidoSector: 44,30 }) RETURN s\n",
      "QRY [20]> CREATE (s  :SectorAplicacion {name: 'C31-furniture ', ValorAnadidoSector: 26,17 }) RETURN s\n",
      "QRY [21]> CREATE (s  :SectorAplicacion {name: 'C32-Other manuf.**', ValorAnadidoSector: 39,16 }) RETURN s\n",
      "QRY [22]> CREATE (s  :SectorAplicacion {name: 'C33-Repair&install.Machinery-Equip', ValorAnadidoSector: 52,33 }) RETURN s\n",
      "QRY [23]> CREATE (s  :SectorAplicacion {name: 'E39-Remed.Activs &Waste MngSrvs', ValorAnadidoSector: 1,30 }) RETURN s\n",
      "QRY [24]> CREATE (s  :SectorAplicacion {name: 'Z99-Others**', ValorAnadidoSector: 0,00 }) RETURN s\n"
     ]
    }
   ],
   "source": [
    "#  Crear NODO DE SECTOR DE APLICACION - por cada fila junto con sus PROPIEDADES\n",
    "#  Nodos: SectorAplicacion -- para agrupar con código oficial NACE2 las aplicaciones de cada material crítico global\n",
    "# IMPORTANTE.- La representación decimal en Neo2j se fija a punto \".\",  reemplazándose la coma \",\" original\n",
    "TipoNodo = \" :SectorAplicacion \" \n",
    "for i in range(0, nFilas):\n",
    "    strQry = \"CREATE (s \" + TipoNodo                                           \\\n",
    "        + \"{\"                                                                   \\\n",
    "        + \"name: '\" + dfSector.SectorAplicacion[i]                              \\\n",
    "        + \"', \"                                                                 \\\n",
    "        + \"ValorAnadidoSector: \" + dfSector.ValorAnadidoSector[i]               \\\n",
    "        + \" })\"                                                                 \\\n",
    "        + \" RETURN s\" \n",
    "    print(\"QRY [\" + str(i) + \"]> \"+ strQry)\n",
    "# querys  visualizadas"
   ]
  },
  {
   "cell_type": "code",
   "execution_count": 26,
   "id": "daf726b0",
   "metadata": {},
   "outputs": [
    {
     "data": {
      "text/plain": [
       "Graph('bolt://localhost:7687')"
      ]
     },
     "execution_count": 26,
     "metadata": {},
     "output_type": "execute_result"
    }
   ],
   "source": [
    "#comprobar que sigue abierta la conexión para enviar las queries a la BD \n",
    "graph_test01"
   ]
  },
  {
   "cell_type": "code",
   "execution_count": 40,
   "id": "b2a8c8f1",
   "metadata": {},
   "outputs": [
    {
     "name": "stdout",
     "output_type": "stream",
     "text": [
      "EJECUTADA QRY [0]> CREATE (s  :SectorAplicacion {name: 'B06-Extraction (crude, gas)**', ValorAnadidoSector: 19.75 }) RETURN s\n",
      "EJECUTADA QRY [1]> CREATE (s  :SectorAplicacion {name: 'B09-Mining (support)**', ValorAnadidoSector: 3.40 }) RETURN s\n",
      "EJECUTADA QRY [2]> CREATE (s  :SectorAplicacion {name: 'C10-food prods. ', ValorAnadidoSector: 155.88 }) RETURN s\n",
      "EJECUTADA QRY [3]> CREATE (s  :SectorAplicacion {name: 'C11-beverages ', ValorAnadidoSector: 32.51 }) RETURN s\n",
      "EJECUTADA QRY [4]> CREATE (s  :SectorAplicacion {name: 'C16-Wood,Cork,Straw,Plaiting-NoFur', ValorAnadidoSector: 27.97 }) RETURN s\n",
      "EJECUTADA QRY [5]> CREATE (s  :SectorAplicacion {name: 'C17-paper & paper prods. ', ValorAnadidoSector: 38.91 }) RETURN s\n",
      "EJECUTADA QRY [6]> CREATE (s  :SectorAplicacion {name: 'C19-Coke & Refined Petrol. Ps', ValorAnadidoSector: 17.29 }) RETURN s\n",
      "EJECUTADA QRY [7]> CREATE (s  :SectorAplicacion {name: 'C20-Chemicals & Chemc.Prods.', ValorAnadidoSector: 105.51 }) RETURN s\n",
      "EJECUTADA QRY [8]> CREATE (s  :SectorAplicacion {name: 'C21-BasicPharmaceutic.&PhPreps', ValorAnadidoSector: 80.18 }) RETURN s\n",
      "EJECUTADA QRY [9]> CREATE (s  :SectorAplicacion {name: 'C22-rubber & plastic prods. ', ValorAnadidoSector: 75.98 }) RETURN s\n",
      "EJECUTADA QRY [10]> CREATE (s  :SectorAplicacion {name: 'C23-Oth.NoMetal.mineral Prods.', ValorAnadidoSector: 57.26 }) RETURN s\n",
      "EJECUTADA QRY [11]> CREATE (s  :SectorAplicacion {name: 'C24 - Manufacture of basic metals', ValorAnadidoSector: 55.43 }) RETURN s\n",
      "EJECUTADA QRY [12]> CREATE (s  :SectorAplicacion {name: 'C24-basic metals ', ValorAnadidoSector: 55.43 }) RETURN s\n",
      "EJECUTADA QRY [13]> CREATE (s  :SectorAplicacion {name: 'C25-fabricated metal prods., ', ValorAnadidoSector: 148.35 }) RETURN s\n",
      "EJECUTADA QRY [14]> CREATE (s  :SectorAplicacion {name: 'C25-FabrMetalProds-NoMachin-Eq', ValorAnadidoSector: 148.35 }) RETURN s\n",
      "EJECUTADA QRY [15]> CREATE (s  :SectorAplicacion {name: 'C26-Computer,Electron.Optic.Ps', ValorAnadidoSector: 65.70 }) RETURN s\n",
      "EJECUTADA QRY [16]> CREATE (s  :SectorAplicacion {name: 'C27-electrical equipment ', ValorAnadidoSector: 80.75 }) RETURN s\n",
      "EJECUTADA QRY [17]> CREATE (s  :SectorAplicacion {name: 'C28-Machinery &Equipment n.e.c', ValorAnadidoSector: 182.59 }) RETURN s\n",
      "EJECUTADA QRY [18]> CREATE (s  :SectorAplicacion {name: 'C29-MotorVehicle,Trailer&SemiT', ValorAnadidoSector: 160.60 }) RETURN s\n",
      "EJECUTADA QRY [19]> CREATE (s  :SectorAplicacion {name: 'C30-other transport equipment ', ValorAnadidoSector: 44.30 }) RETURN s\n",
      "EJECUTADA QRY [20]> CREATE (s  :SectorAplicacion {name: 'C31-furniture ', ValorAnadidoSector: 26.17 }) RETURN s\n",
      "EJECUTADA QRY [21]> CREATE (s  :SectorAplicacion {name: 'C32-Other manuf.**', ValorAnadidoSector: 39.16 }) RETURN s\n",
      "EJECUTADA QRY [22]> CREATE (s  :SectorAplicacion {name: 'C33-Repair&install.Machinery-Equip', ValorAnadidoSector: 52.33 }) RETURN s\n",
      "EJECUTADA QRY [23]> CREATE (s  :SectorAplicacion {name: 'E39-Remed.Activs &Waste MngSrvs', ValorAnadidoSector: 1.30 }) RETURN s\n",
      "EJECUTADA QRY [24]> CREATE (s  :SectorAplicacion {name: 'Z99-Others**', ValorAnadidoSector: 0.00 }) RETURN s\n"
     ]
    }
   ],
   "source": [
    "# Crear un nodo por cada fila con sus propiedades\n",
    "#nodos de GRUPOAPLICACION\n",
    "## query para crea nodo con sus  propiedades\n",
    "TipoNodo = \" :SectorAplicacion \" \n",
    "for i in range(0, nFilas):\n",
    "    strQry = \"CREATE (s \" + TipoNodo                                           \\\n",
    "        + \"{\"                                                                   \\\n",
    "        + \"name: '\" + dfSector.SectorAplicacion[i]                              \\\n",
    "        + \"', \"                                                                 \\\n",
    "        + \"ValorAnadidoSector: \" + dfSector.ValorAnadidoSector[i].replace(',', '.')               \\\n",
    "        + \" })\"                                                                 \\\n",
    "        + \" RETURN s\" \n",
    "#ejecutar Query en BD abierta - Neo4j\n",
    "    graph_test01.run(strQry)\n",
    "#Visualizar Query ejecutada \n",
    "    print(\"EJECUTADA QRY [\" + str(i) + \"]> \"+ strQry)\n",
    "# nodos creados"
   ]
  },
  {
   "cell_type": "code",
   "execution_count": 41,
   "id": "8e97ade6",
   "metadata": {},
   "outputs": [],
   "source": [
    "dfGraphMat= graph_test01.run(\"MATCH (n :SectorAplicacion ) RETURN n\").data()"
   ]
  },
  {
   "cell_type": "code",
   "execution_count": 42,
   "id": "0726943c",
   "metadata": {},
   "outputs": [
    {
     "data": {
      "text/plain": [
       "{'n': Node('SectorAplicacion', ValorAnadidoSector=19.75, name='B06-Extraction (crude, gas)**')}"
      ]
     },
     "execution_count": 42,
     "metadata": {},
     "output_type": "execute_result"
    }
   ],
   "source": [
    "dfGraphMat[0]\n"
   ]
  },
  {
   "cell_type": "code",
   "execution_count": 43,
   "id": "f37f5bdb",
   "metadata": {
    "scrolled": true
   },
   "outputs": [
    {
     "data": {
      "text/html": [
       "<table><tr><th>LABELS(n)</th><th>COUNT(n)</th></tr><tr><td style=\"text-align:left\">[&#039;SectorAplicacion&#039;]</td><td style=\"text-align:right\">25</td></tr></table>"
      ],
      "text/plain": [
       " LABELS(n)            | COUNT(n) \n",
       "----------------------|----------\n",
       " ['SectorAplicacion'] |       25 "
      ]
     },
     "execution_count": 43,
     "metadata": {},
     "output_type": "execute_result"
    }
   ],
   "source": [
    "#validamos que todos los -nuevos- nodos se han creado :GrupoAplicacion   \n",
    "graph_test01.run(\"MATCH (n :SectorAplicacion ) RETURN  LABELS(n), COUNT(n)\")"
   ]
  },
  {
   "cell_type": "code",
   "execution_count": 46,
   "id": "692a91c0",
   "metadata": {
    "scrolled": true
   },
   "outputs": [
    {
     "data": {
      "text/html": [
       "<div>\n",
       "<style scoped>\n",
       "    .dataframe tbody tr th:only-of-type {\n",
       "        vertical-align: middle;\n",
       "    }\n",
       "\n",
       "    .dataframe tbody tr th {\n",
       "        vertical-align: top;\n",
       "    }\n",
       "\n",
       "    .dataframe thead th {\n",
       "        text-align: right;\n",
       "    }\n",
       "</style>\n",
       "<table border=\"1\" class=\"dataframe\">\n",
       "  <thead>\n",
       "    <tr style=\"text-align: right;\">\n",
       "      <th></th>\n",
       "      <th>name</th>\n",
       "      <th>Ntotal</th>\n",
       "    </tr>\n",
       "  </thead>\n",
       "  <tbody>\n",
       "    <tr>\n",
       "      <th>0</th>\n",
       "      <td>MaterialB</td>\n",
       "      <td>78</td>\n",
       "    </tr>\n",
       "    <tr>\n",
       "      <th>1</th>\n",
       "      <td>MaterialREF</td>\n",
       "      <td>78</td>\n",
       "    </tr>\n",
       "    <tr>\n",
       "      <th>2</th>\n",
       "      <td>Pais</td>\n",
       "      <td>91</td>\n",
       "    </tr>\n",
       "    <tr>\n",
       "      <th>3</th>\n",
       "      <td>GrupoAplicacion</td>\n",
       "      <td>88</td>\n",
       "    </tr>\n",
       "    <tr>\n",
       "      <th>4</th>\n",
       "      <td>SectorAplicacion</td>\n",
       "      <td>25</td>\n",
       "    </tr>\n",
       "  </tbody>\n",
       "</table>\n",
       "</div>"
      ],
      "text/plain": [
       "               name  Ntotal\n",
       "0         MaterialB      78\n",
       "1       MaterialREF      78\n",
       "2              Pais      91\n",
       "3   GrupoAplicacion      88\n",
       "4  SectorAplicacion      25"
      ]
     },
     "execution_count": 46,
     "metadata": {},
     "output_type": "execute_result"
    }
   ],
   "source": [
    "#validamos que todos los nodos se han creado (hasta este paso)\n",
    "queryPRB= \"MATCH (n)                                    \\\n",
    "RETURN labels (n)[0] as name, count (n) as Ntotal       \\\n",
    "UNION MATCH (n)                                         \\\n",
    "WITH labels (n)[1] as name, count (n) as Ntotal         \\\n",
    "WHERE name IS NOT NULL                                  \\\n",
    "RETURN name, Ntotal                                     \\\n",
    "UNION MATCH (n)                                         \\\n",
    "WITH labels (n)[2] as name, count (n) as Ntotal         \\\n",
    "WHERE name IS NOT NULL                                  \\\n",
    "RETURN  name, Ntotal                                    \\\n",
    "UNION MATCH (n)                                         \\\n",
    "WITH labels (n)[3] as name, count (n) as Ntotal         \\\n",
    "WHERE name IS NOT NULL                                  \\\n",
    "RETURN  name, Ntotal                                    \\\n",
    "UNION MATCH (n)                                         \\\n",
    "WITH labels (n)[4] as name, count (n) as Ntotal         \\\n",
    "WHERE name IS NOT NULL                                  \\\n",
    "RETURN  name, Ntotal\"  \n",
    "  \n",
    "                                  \n",
    "graph_test01.run(queryPRB).to_data_frame()\n",
    "\n"
   ]
  },
  {
   "cell_type": "markdown",
   "id": "aee44cef",
   "metadata": {},
   "source": [
    "# fin proceso - SECTORES NACE2 - CREADOS\n",
    "**IMPORTES com PUNTO DECIMAL en BD Neo4j**"
   ]
  },
  {
   "cell_type": "code",
   "execution_count": 81,
   "id": "df4c6f03",
   "metadata": {},
   "outputs": [],
   "source": [
    "# fin archivo"
   ]
  }
 ],
 "metadata": {
  "kernelspec": {
   "display_name": "Python 3 (ipykernel)",
   "language": "python",
   "name": "python3"
  },
  "language_info": {
   "codemirror_mode": {
    "name": "ipython",
    "version": 3
   },
   "file_extension": ".py",
   "mimetype": "text/x-python",
   "name": "python",
   "nbconvert_exporter": "python",
   "pygments_lexer": "ipython3",
   "version": "3.7.1"
  }
 },
 "nbformat": 4,
 "nbformat_minor": 5
}
