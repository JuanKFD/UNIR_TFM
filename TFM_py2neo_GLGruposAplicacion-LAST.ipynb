{
 "cells": [
  {
   "cell_type": "markdown",
   "id": "8f9b66a4",
   "metadata": {},
   "source": [
    "# TFM Suministro Global - Grupos Aplicación/usos de Material  \n",
    "# _Neo4j - py2neo_\n"
   ]
  },
  {
   "cell_type": "markdown",
   "id": "fe7813af",
   "metadata": {},
   "source": [
    "## Partimos de la existencia, en paralelo a esta ejecución, de una instancia levantada y accesible de Neo4j  \n",
    "### La primera vez que se quiera usar _py2neo_ erá  necesario asegurar su instalación:  _!pip install py2neo_"
   ]
  },
  {
   "cell_type": "code",
   "execution_count": 1,
   "id": "7b420b33",
   "metadata": {
    "scrolled": true
   },
   "outputs": [],
   "source": [
    "##!pip install py2neo "
   ]
  },
  {
   "cell_type": "code",
   "execution_count": 2,
   "id": "6d9f652c",
   "metadata": {},
   "outputs": [],
   "source": [
    "#importar la librería para poder hacer uso de sus funcionalidades y objetos\n",
    "from py2neo import *"
   ]
  },
  {
   "cell_type": "code",
   "execution_count": 3,
   "id": "dc45043b",
   "metadata": {},
   "outputs": [],
   "source": [
    "#acceder a la instancia levantada de Neo4j - en nuestro caso instancia Docker - asignamos credenciales de autentificación -\n",
    "graph_test01 = Graph(auth=('neo4j', 's3cr3t'))"
   ]
  },
  {
   "cell_type": "code",
   "execution_count": 4,
   "id": "0bdda4f9",
   "metadata": {},
   "outputs": [
    {
     "data": {
      "text/plain": [
       "Graph('bolt://localhost:7687')"
      ]
     },
     "execution_count": 4,
     "metadata": {},
     "output_type": "execute_result"
    }
   ],
   "source": [
    "#que es el objeto - graph_test01\n",
    "graph_test01"
   ]
  },
  {
   "cell_type": "code",
   "execution_count": 5,
   "id": "ae88b5a3",
   "metadata": {},
   "outputs": [],
   "source": [
    "#que es el objeto - tx\n",
    "tx = graph_test01.begin()"
   ]
  },
  {
   "cell_type": "code",
   "execution_count": 6,
   "id": "07d7aa84",
   "metadata": {},
   "outputs": [
    {
     "data": {
      "text/plain": [
       "<py2neo.database.Transaction at 0x20a84f119b0>"
      ]
     },
     "execution_count": 6,
     "metadata": {},
     "output_type": "execute_result"
    }
   ],
   "source": [
    "tx"
   ]
  },
  {
   "cell_type": "code",
   "execution_count": 7,
   "id": "b5ee1622",
   "metadata": {
    "scrolled": false
   },
   "outputs": [
    {
     "data": {
      "text/html": [
       "<table><tr><th>name</th><th>Ntotal</th></tr><tr><td style=\"text-align:left\">MaterialB</td><td style=\"text-align:right\">78</td></tr><tr><td style=\"text-align:left\">MaterialREF</td><td style=\"text-align:right\">78</td></tr><tr><td style=\"text-align:left\">Pais</td><td style=\"text-align:right\">91</td></tr></table>"
      ],
      "text/plain": [
       " name        | Ntotal \n",
       "-------------|--------\n",
       " MaterialB   |     78 \n",
       " MaterialREF |     78 \n",
       " Pais        |     91 "
      ]
     },
     "execution_count": 7,
     "metadata": {},
     "output_type": "execute_result"
    }
   ],
   "source": [
    "#query de conexión de prueba sin errores\n",
    "# verificar existencia de NODOS de METERIALES Brutos y Refinados\n",
    "#--- cuenta los nodos con diferentes tipos de etiqueta y los une en una única salida, 1 fila por cada tipo (name, cnt)\n",
    "queryPRB= \"MATCH (n)                                    \\\n",
    "RETURN labels (n)[0] as name, count (n) as Ntotal       \\\n",
    "UNION MATCH (n)                                         \\\n",
    "WITH labels (n)[1] as name, count (n) as Ntotal         \\\n",
    "WHERE name IS NOT NULL                                  \\\n",
    "RETURN name, Ntotal                                     \\\n",
    "UNION MATCH (n)                                         \\\n",
    "WITH labels (n)[2] as name, count (n) as Ntotal         \\\n",
    "WHERE name IS NOT NULL                                  \\\n",
    "RETURN name, Ntotal                                     \\\n",
    "\"\n",
    "graph_test01.run(queryPRB)"
   ]
  },
  {
   "cell_type": "markdown",
   "id": "27083405",
   "metadata": {},
   "source": [
    "## CARGAR DATOS"
   ]
  },
  {
   "cell_type": "code",
   "execution_count": 8,
   "id": "ae0e1afa",
   "metadata": {},
   "outputs": [],
   "source": [
    "import numpy as np    #datos y operativa álgegra y matrices de n dimensiones (arrays)\n",
    "import pandas as pd   #carga dataset y manipulación de datos  y dataframes"
   ]
  },
  {
   "cell_type": "code",
   "execution_count": 9,
   "id": "4e018e0b",
   "metadata": {},
   "outputs": [],
   "source": [
    "#DATOS: Fichero completo de APLICACIONES-USOS en el suministro crítico GLOBAL - Atendiendo al alcance del estudio - EU CRM 2020\n",
    "#FICHERO: GLGruposAplic_Cargar.csv\n",
    "#CONTENIDO: Grupo de Aplicación/uso relacionable con cada material \n",
    "#USO: Crear los NODOS de tipo \"GrupoAplicacion\" asociable a un nodo \"MaterialREF\" - Material Refinado \n",
    "#     que puede ser utilizado con esa finalizad o uso \n",
    "## -- propiedades de cada uso: nombre \n",
    "## -- los datos de suministro -posteriores fijarán puede relaciones entre materiales y sus grupos de uso/aplicación\n",
    "rutaFichero =  \"https://raw.githubusercontent.com/JuanKFD/UNIR_TFM/main/GLGruposAplic_Cargar.csv\" \n",
    "dfUsos = pd.read_csv(rutaFichero, sep=';')\n"
   ]
  },
  {
   "cell_type": "code",
   "execution_count": 10,
   "id": "a9bde14d",
   "metadata": {
    "scrolled": false
   },
   "outputs": [
    {
     "data": {
      "text/html": [
       "<div>\n",
       "<style scoped>\n",
       "    .dataframe tbody tr th:only-of-type {\n",
       "        vertical-align: middle;\n",
       "    }\n",
       "\n",
       "    .dataframe tbody tr th {\n",
       "        vertical-align: top;\n",
       "    }\n",
       "\n",
       "    .dataframe thead th {\n",
       "        text-align: right;\n",
       "    }\n",
       "</style>\n",
       "<table border=\"1\" class=\"dataframe\">\n",
       "  <thead>\n",
       "    <tr style=\"text-align: right;\">\n",
       "      <th></th>\n",
       "      <th>GrupoAplicacion</th>\n",
       "    </tr>\n",
       "  </thead>\n",
       "  <tbody>\n",
       "    <tr>\n",
       "      <th>0</th>\n",
       "      <td>Abrasives</td>\n",
       "    </tr>\n",
       "    <tr>\n",
       "      <th>1</th>\n",
       "      <td>Activated raw granules</td>\n",
       "    </tr>\n",
       "    <tr>\n",
       "      <th>2</th>\n",
       "      <td>Aeronautics &amp; energy</td>\n",
       "    </tr>\n",
       "    <tr>\n",
       "      <th>3</th>\n",
       "      <td>Agriculture</td>\n",
       "    </tr>\n",
       "    <tr>\n",
       "      <th>4</th>\n",
       "      <td>Alloys</td>\n",
       "    </tr>\n",
       "  </tbody>\n",
       "</table>\n",
       "</div>"
      ],
      "text/plain": [
       "          GrupoAplicacion\n",
       "0               Abrasives\n",
       "1  Activated raw granules\n",
       "2    Aeronautics & energy\n",
       "3             Agriculture\n",
       "4                  Alloys"
      ]
     },
     "execution_count": 10,
     "metadata": {},
     "output_type": "execute_result"
    }
   ],
   "source": [
    "dfUsos.head()"
   ]
  },
  {
   "cell_type": "code",
   "execution_count": 11,
   "id": "3785a1e2",
   "metadata": {
    "scrolled": true
   },
   "outputs": [
    {
     "data": {
      "text/html": [
       "<div>\n",
       "<style scoped>\n",
       "    .dataframe tbody tr th:only-of-type {\n",
       "        vertical-align: middle;\n",
       "    }\n",
       "\n",
       "    .dataframe tbody tr th {\n",
       "        vertical-align: top;\n",
       "    }\n",
       "\n",
       "    .dataframe thead th {\n",
       "        text-align: right;\n",
       "    }\n",
       "</style>\n",
       "<table border=\"1\" class=\"dataframe\">\n",
       "  <thead>\n",
       "    <tr style=\"text-align: right;\">\n",
       "      <th></th>\n",
       "      <th>GrupoAplicacion</th>\n",
       "    </tr>\n",
       "  </thead>\n",
       "  <tbody>\n",
       "    <tr>\n",
       "      <th>83</th>\n",
       "      <td>Transport (all)</td>\n",
       "    </tr>\n",
       "    <tr>\n",
       "      <th>84</th>\n",
       "      <td>Transport (automotive)</td>\n",
       "    </tr>\n",
       "    <tr>\n",
       "      <th>85</th>\n",
       "      <td>Transport (Boats)</td>\n",
       "    </tr>\n",
       "    <tr>\n",
       "      <th>86</th>\n",
       "      <td>Tubes, plates, wire</td>\n",
       "    </tr>\n",
       "    <tr>\n",
       "      <th>87</th>\n",
       "      <td>Wear</td>\n",
       "    </tr>\n",
       "  </tbody>\n",
       "</table>\n",
       "</div>"
      ],
      "text/plain": [
       "           GrupoAplicacion\n",
       "83         Transport (all)\n",
       "84  Transport (automotive)\n",
       "85       Transport (Boats)\n",
       "86     Tubes, plates, wire\n",
       "87                    Wear"
      ]
     },
     "execution_count": 11,
     "metadata": {},
     "output_type": "execute_result"
    }
   ],
   "source": [
    "dfUsos.tail()"
   ]
  },
  {
   "cell_type": "code",
   "execution_count": 12,
   "id": "3c0a0050",
   "metadata": {
    "scrolled": false
   },
   "outputs": [
    {
     "data": {
      "text/plain": [
       "(88, 1)"
      ]
     },
     "execution_count": 12,
     "metadata": {},
     "output_type": "execute_result"
    }
   ],
   "source": [
    "dfUsos.shape"
   ]
  },
  {
   "cell_type": "code",
   "execution_count": 13,
   "id": "51ad4ccd",
   "metadata": {},
   "outputs": [
    {
     "data": {
      "text/plain": [
       "Index(['GrupoAplicacion'], dtype='object')"
      ]
     },
     "execution_count": 13,
     "metadata": {},
     "output_type": "execute_result"
    }
   ],
   "source": [
    "dfUsos.columns"
   ]
  },
  {
   "cell_type": "code",
   "execution_count": 14,
   "id": "7b99516a",
   "metadata": {},
   "outputs": [],
   "source": [
    "nFilas = dfUsos.shape[0]"
   ]
  },
  {
   "cell_type": "code",
   "execution_count": 15,
   "id": "9f85e8c0",
   "metadata": {
    "scrolled": true
   },
   "outputs": [
    {
     "data": {
      "text/plain": [
       "88"
      ]
     },
     "execution_count": 15,
     "metadata": {},
     "output_type": "execute_result"
    }
   ],
   "source": [
    "nFilas"
   ]
  },
  {
   "cell_type": "markdown",
   "id": "e0bd291e",
   "metadata": {},
   "source": [
    "### Cargados en memoria los _88 usos /  grupos de aplicación_ de la cadena de suministro global"
   ]
  },
  {
   "cell_type": "markdown",
   "id": "7dc58317",
   "metadata": {},
   "source": [
    "# PREVISUALIZACION DE DATOS - USOS\n"
   ]
  },
  {
   "cell_type": "code",
   "execution_count": 16,
   "id": "f0f87545",
   "metadata": {},
   "outputs": [
    {
     "name": "stdout",
     "output_type": "stream",
     "text": [
      "Abrasives\n",
      "Activated raw granules\n",
      "Aeronautics & energy\n",
      "Agriculture\n",
      "Alloys\n",
      "Ammonia production\n",
      "Analysis\n",
      "Animal feed\n",
      "Balloons\n",
      "Basic metals\n",
      "Batteries\n",
      "Batteries (Lead)\n",
      "Boats\n",
      "Building & roads\n",
      "Cable sheathing\n",
      "Capacitors\n",
      "Cast Iron for rigid structures\n",
      "Casting Molds\n",
      "Catalysts\n",
      "Ceramics\n",
      "Ceramics & Frits\n",
      "Chemicals\n",
      "Chemicals (Paint, Adhesives)\n",
      "Chemicals (Paper)\n",
      "Chemicals (Plastics)\n",
      "Chemicals (Pyrotechnics)\n",
      "Chemicals(Rubber)\n",
      "Civil engineering\n",
      "Coatings\n",
      "Coke (Others)\n",
      "Components and household\n",
      "Consumer Durables\n",
      "Controlled atmospheres\n",
      "Cosmetics\n",
      "Cryogenics\n",
      "Defense\n",
      "Detection\n",
      "Domestic Prods.\n",
      "Electrical and Electronics\n",
      "Energy (Nuclear)\n",
      "Energy (Oil)\n",
      "Energy (Oil-Gas)\n",
      "Energy (Solar)\n",
      "Fiberglass\n",
      "Filler, extender, sealant\n",
      "Foods\n",
      "Foundry\n",
      "Friction products\n",
      "Furniture\n",
      "Galvanising\n",
      "Gaskets, expansion\n",
      "Glass\n",
      "Graphite shapes\n",
      "Hard materials (tools)\n",
      "High Tech Engineering\n",
      "Industry\n",
      "Investment\n",
      "Jewelery & others\n",
      "Leisure\n",
      "Lubricants\n",
      "Machinery\n",
      "Medicine\n",
      "Metal Prods.\n",
      "Metals-Basics\n",
      "Mining-Extraction\n",
      "Others\n",
      "Packaging\n",
      "Pets\n",
      "Pharmacy\n",
      "Special Steel\n",
      "Stainless Steel\n",
      "Steel\n",
      "Steels\n",
      "Superalloys\n",
      "Thermal interface material\n",
      "Thermo-electric devices\n",
      "Tinplate\n",
      "Tool steels\n",
      "Tools (Hard materials)\n",
      "Tools (pencils)\n",
      "Tools (Plasma)\n",
      "Tools (Stainless Steel)\n",
      "Transport (Aerospace)\n",
      "Transport (all)\n",
      "Transport (automotive)\n",
      "Transport (Boats)\n",
      "Tubes, plates, wire\n",
      "Wear\n"
     ]
    }
   ],
   "source": [
    "for i in range(0, nFilas):\n",
    "    print(dfUsos.GrupoAplicacion[i])\n"
   ]
  },
  {
   "cell_type": "code",
   "execution_count": 21,
   "id": "cb41a203",
   "metadata": {
    "scrolled": true
   },
   "outputs": [
    {
     "data": {
      "text/plain": [
       "'GrupoAplicacion'"
      ]
     },
     "execution_count": 21,
     "metadata": {},
     "output_type": "execute_result"
    }
   ],
   "source": [
    "dfUsos.columns[0]"
   ]
  },
  {
   "cell_type": "code",
   "execution_count": 22,
   "id": "bd3533a0",
   "metadata": {
    "scrolled": false
   },
   "outputs": [
    {
     "name": "stdout",
     "output_type": "stream",
     "text": [
      "QRY [0]> CREATE (ga  :GrupoAplicacion {name: 'Abrasives' }) RETURN ga\n",
      "QRY [1]> CREATE (ga  :GrupoAplicacion {name: 'Activated raw granules' }) RETURN ga\n",
      "QRY [2]> CREATE (ga  :GrupoAplicacion {name: 'Aeronautics & energy' }) RETURN ga\n",
      "QRY [3]> CREATE (ga  :GrupoAplicacion {name: 'Agriculture' }) RETURN ga\n",
      "QRY [4]> CREATE (ga  :GrupoAplicacion {name: 'Alloys' }) RETURN ga\n",
      "QRY [5]> CREATE (ga  :GrupoAplicacion {name: 'Ammonia production' }) RETURN ga\n",
      "QRY [6]> CREATE (ga  :GrupoAplicacion {name: 'Analysis' }) RETURN ga\n",
      "QRY [7]> CREATE (ga  :GrupoAplicacion {name: 'Animal feed' }) RETURN ga\n",
      "QRY [8]> CREATE (ga  :GrupoAplicacion {name: 'Balloons' }) RETURN ga\n",
      "QRY [9]> CREATE (ga  :GrupoAplicacion {name: 'Basic metals' }) RETURN ga\n",
      "QRY [10]> CREATE (ga  :GrupoAplicacion {name: 'Batteries' }) RETURN ga\n",
      "QRY [11]> CREATE (ga  :GrupoAplicacion {name: 'Batteries (Lead)' }) RETURN ga\n",
      "QRY [12]> CREATE (ga  :GrupoAplicacion {name: 'Boats' }) RETURN ga\n",
      "QRY [13]> CREATE (ga  :GrupoAplicacion {name: 'Building & roads' }) RETURN ga\n",
      "QRY [14]> CREATE (ga  :GrupoAplicacion {name: 'Cable sheathing' }) RETURN ga\n",
      "QRY [15]> CREATE (ga  :GrupoAplicacion {name: 'Capacitors' }) RETURN ga\n",
      "QRY [16]> CREATE (ga  :GrupoAplicacion {name: 'Cast Iron for rigid structures' }) RETURN ga\n",
      "QRY [17]> CREATE (ga  :GrupoAplicacion {name: 'Casting Molds' }) RETURN ga\n",
      "QRY [18]> CREATE (ga  :GrupoAplicacion {name: 'Catalysts' }) RETURN ga\n",
      "QRY [19]> CREATE (ga  :GrupoAplicacion {name: 'Ceramics' }) RETURN ga\n",
      "QRY [20]> CREATE (ga  :GrupoAplicacion {name: 'Ceramics & Frits' }) RETURN ga\n",
      "QRY [21]> CREATE (ga  :GrupoAplicacion {name: 'Chemicals' }) RETURN ga\n",
      "QRY [22]> CREATE (ga  :GrupoAplicacion {name: 'Chemicals (Paint, Adhesives)' }) RETURN ga\n",
      "QRY [23]> CREATE (ga  :GrupoAplicacion {name: 'Chemicals (Paper)' }) RETURN ga\n",
      "QRY [24]> CREATE (ga  :GrupoAplicacion {name: 'Chemicals (Plastics)' }) RETURN ga\n",
      "QRY [25]> CREATE (ga  :GrupoAplicacion {name: 'Chemicals (Pyrotechnics)' }) RETURN ga\n",
      "QRY [26]> CREATE (ga  :GrupoAplicacion {name: 'Chemicals(Rubber)' }) RETURN ga\n",
      "QRY [27]> CREATE (ga  :GrupoAplicacion {name: 'Civil engineering' }) RETURN ga\n",
      "QRY [28]> CREATE (ga  :GrupoAplicacion {name: 'Coatings' }) RETURN ga\n",
      "QRY [29]> CREATE (ga  :GrupoAplicacion {name: 'Coke (Others)' }) RETURN ga\n",
      "QRY [30]> CREATE (ga  :GrupoAplicacion {name: 'Components and household' }) RETURN ga\n",
      "QRY [31]> CREATE (ga  :GrupoAplicacion {name: 'Consumer Durables' }) RETURN ga\n",
      "QRY [32]> CREATE (ga  :GrupoAplicacion {name: 'Controlled atmospheres' }) RETURN ga\n",
      "QRY [33]> CREATE (ga  :GrupoAplicacion {name: 'Cosmetics' }) RETURN ga\n",
      "QRY [34]> CREATE (ga  :GrupoAplicacion {name: 'Cryogenics' }) RETURN ga\n",
      "QRY [35]> CREATE (ga  :GrupoAplicacion {name: 'Defense' }) RETURN ga\n",
      "QRY [36]> CREATE (ga  :GrupoAplicacion {name: 'Detection' }) RETURN ga\n",
      "QRY [37]> CREATE (ga  :GrupoAplicacion {name: 'Domestic Prods.' }) RETURN ga\n",
      "QRY [38]> CREATE (ga  :GrupoAplicacion {name: 'Electrical and Electronics' }) RETURN ga\n",
      "QRY [39]> CREATE (ga  :GrupoAplicacion {name: 'Energy (Nuclear)' }) RETURN ga\n",
      "QRY [40]> CREATE (ga  :GrupoAplicacion {name: 'Energy (Oil)' }) RETURN ga\n",
      "QRY [41]> CREATE (ga  :GrupoAplicacion {name: 'Energy (Oil-Gas)' }) RETURN ga\n",
      "QRY [42]> CREATE (ga  :GrupoAplicacion {name: 'Energy (Solar)' }) RETURN ga\n",
      "QRY [43]> CREATE (ga  :GrupoAplicacion {name: 'Fiberglass' }) RETURN ga\n",
      "QRY [44]> CREATE (ga  :GrupoAplicacion {name: 'Filler, extender, sealant' }) RETURN ga\n",
      "QRY [45]> CREATE (ga  :GrupoAplicacion {name: 'Foods' }) RETURN ga\n",
      "QRY [46]> CREATE (ga  :GrupoAplicacion {name: 'Foundry' }) RETURN ga\n",
      "QRY [47]> CREATE (ga  :GrupoAplicacion {name: 'Friction products' }) RETURN ga\n",
      "QRY [48]> CREATE (ga  :GrupoAplicacion {name: 'Furniture' }) RETURN ga\n",
      "QRY [49]> CREATE (ga  :GrupoAplicacion {name: 'Galvanising' }) RETURN ga\n",
      "QRY [50]> CREATE (ga  :GrupoAplicacion {name: 'Gaskets, expansion' }) RETURN ga\n",
      "QRY [51]> CREATE (ga  :GrupoAplicacion {name: 'Glass' }) RETURN ga\n",
      "QRY [52]> CREATE (ga  :GrupoAplicacion {name: 'Graphite shapes' }) RETURN ga\n",
      "QRY [53]> CREATE (ga  :GrupoAplicacion {name: 'Hard materials (tools)' }) RETURN ga\n",
      "QRY [54]> CREATE (ga  :GrupoAplicacion {name: 'High Tech Engineering' }) RETURN ga\n",
      "QRY [55]> CREATE (ga  :GrupoAplicacion {name: 'Industry' }) RETURN ga\n",
      "QRY [56]> CREATE (ga  :GrupoAplicacion {name: 'Investment' }) RETURN ga\n",
      "QRY [57]> CREATE (ga  :GrupoAplicacion {name: 'Jewelery & others' }) RETURN ga\n",
      "QRY [58]> CREATE (ga  :GrupoAplicacion {name: 'Leisure' }) RETURN ga\n",
      "QRY [59]> CREATE (ga  :GrupoAplicacion {name: 'Lubricants' }) RETURN ga\n",
      "QRY [60]> CREATE (ga  :GrupoAplicacion {name: 'Machinery' }) RETURN ga\n",
      "QRY [61]> CREATE (ga  :GrupoAplicacion {name: 'Medicine' }) RETURN ga\n",
      "QRY [62]> CREATE (ga  :GrupoAplicacion {name: 'Metal Prods.' }) RETURN ga\n",
      "QRY [63]> CREATE (ga  :GrupoAplicacion {name: 'Metals-Basics' }) RETURN ga\n",
      "QRY [64]> CREATE (ga  :GrupoAplicacion {name: 'Mining-Extraction' }) RETURN ga\n",
      "QRY [65]> CREATE (ga  :GrupoAplicacion {name: 'Others' }) RETURN ga\n",
      "QRY [66]> CREATE (ga  :GrupoAplicacion {name: 'Packaging' }) RETURN ga\n",
      "QRY [67]> CREATE (ga  :GrupoAplicacion {name: 'Pets' }) RETURN ga\n",
      "QRY [68]> CREATE (ga  :GrupoAplicacion {name: 'Pharmacy' }) RETURN ga\n",
      "QRY [69]> CREATE (ga  :GrupoAplicacion {name: 'Special Steel' }) RETURN ga\n",
      "QRY [70]> CREATE (ga  :GrupoAplicacion {name: 'Stainless Steel' }) RETURN ga\n",
      "QRY [71]> CREATE (ga  :GrupoAplicacion {name: 'Steel' }) RETURN ga\n",
      "QRY [72]> CREATE (ga  :GrupoAplicacion {name: 'Steels' }) RETURN ga\n",
      "QRY [73]> CREATE (ga  :GrupoAplicacion {name: 'Superalloys' }) RETURN ga\n",
      "QRY [74]> CREATE (ga  :GrupoAplicacion {name: 'Thermal interface material' }) RETURN ga\n",
      "QRY [75]> CREATE (ga  :GrupoAplicacion {name: 'Thermo-electric devices' }) RETURN ga\n",
      "QRY [76]> CREATE (ga  :GrupoAplicacion {name: 'Tinplate' }) RETURN ga\n",
      "QRY [77]> CREATE (ga  :GrupoAplicacion {name: 'Tool steels' }) RETURN ga\n",
      "QRY [78]> CREATE (ga  :GrupoAplicacion {name: 'Tools (Hard materials)' }) RETURN ga\n",
      "QRY [79]> CREATE (ga  :GrupoAplicacion {name: 'Tools (pencils)' }) RETURN ga\n",
      "QRY [80]> CREATE (ga  :GrupoAplicacion {name: 'Tools (Plasma)' }) RETURN ga\n",
      "QRY [81]> CREATE (ga  :GrupoAplicacion {name: 'Tools (Stainless Steel)' }) RETURN ga\n",
      "QRY [82]> CREATE (ga  :GrupoAplicacion {name: 'Transport (Aerospace)' }) RETURN ga\n",
      "QRY [83]> CREATE (ga  :GrupoAplicacion {name: 'Transport (all)' }) RETURN ga\n",
      "QRY [84]> CREATE (ga  :GrupoAplicacion {name: 'Transport (automotive)' }) RETURN ga\n",
      "QRY [85]> CREATE (ga  :GrupoAplicacion {name: 'Transport (Boats)' }) RETURN ga\n",
      "QRY [86]> CREATE (ga  :GrupoAplicacion {name: 'Tubes, plates, wire' }) RETURN ga\n",
      "QRY [87]> CREATE (ga  :GrupoAplicacion {name: 'Wear' }) RETURN ga\n"
     ]
    }
   ],
   "source": [
    "#  Crear NODO DE GRU\\PO DE APLICACION - por cada fila junto con sus PROPIEDADES\n",
    "    #  Nodos: GrupoAplicacion -- para usos asignables a cada material refinado-procesado obtenido\n",
    "## PREVISAULIZAR QUERYs antes de la ejecución\n",
    "TipoNodo = \" :GrupoAplicacion \" \n",
    "for i in range(0, nFilas):\n",
    "    strQry = \"CREATE (ga \" + TipoNodo                                             \\\n",
    "        + \"{\"                                                                    \\\n",
    "        + \"name: '\" + dfUsos.GrupoAplicacion[i]                                   \\\n",
    "        + \"' })\"                                                                 \\\n",
    "        + \" RETURN ga\" \n",
    "    print(\"QRY [\" + str(i) + \"]> \"+ strQry)\n",
    "# querys  visualizadas"
   ]
  },
  {
   "cell_type": "code",
   "execution_count": 23,
   "id": "daf726b0",
   "metadata": {},
   "outputs": [
    {
     "data": {
      "text/plain": [
       "Graph('bolt://localhost:7687')"
      ]
     },
     "execution_count": 23,
     "metadata": {},
     "output_type": "execute_result"
    }
   ],
   "source": [
    "#comprobar que sigue abierta la conexión para enviar las queries a la BD \n",
    "graph_test01"
   ]
  },
  {
   "cell_type": "code",
   "execution_count": 24,
   "id": "b2a8c8f1",
   "metadata": {},
   "outputs": [
    {
     "name": "stdout",
     "output_type": "stream",
     "text": [
      "EJECUTADA QRY [0]> CREATE (ga  :GrupoAplicacion {name: 'Abrasives' }) RETURN ga\n",
      "EJECUTADA QRY [1]> CREATE (ga  :GrupoAplicacion {name: 'Activated raw granules' }) RETURN ga\n",
      "EJECUTADA QRY [2]> CREATE (ga  :GrupoAplicacion {name: 'Aeronautics & energy' }) RETURN ga\n",
      "EJECUTADA QRY [3]> CREATE (ga  :GrupoAplicacion {name: 'Agriculture' }) RETURN ga\n",
      "EJECUTADA QRY [4]> CREATE (ga  :GrupoAplicacion {name: 'Alloys' }) RETURN ga\n",
      "EJECUTADA QRY [5]> CREATE (ga  :GrupoAplicacion {name: 'Ammonia production' }) RETURN ga\n",
      "EJECUTADA QRY [6]> CREATE (ga  :GrupoAplicacion {name: 'Analysis' }) RETURN ga\n",
      "EJECUTADA QRY [7]> CREATE (ga  :GrupoAplicacion {name: 'Animal feed' }) RETURN ga\n",
      "EJECUTADA QRY [8]> CREATE (ga  :GrupoAplicacion {name: 'Balloons' }) RETURN ga\n",
      "EJECUTADA QRY [9]> CREATE (ga  :GrupoAplicacion {name: 'Basic metals' }) RETURN ga\n",
      "EJECUTADA QRY [10]> CREATE (ga  :GrupoAplicacion {name: 'Batteries' }) RETURN ga\n",
      "EJECUTADA QRY [11]> CREATE (ga  :GrupoAplicacion {name: 'Batteries (Lead)' }) RETURN ga\n",
      "EJECUTADA QRY [12]> CREATE (ga  :GrupoAplicacion {name: 'Boats' }) RETURN ga\n",
      "EJECUTADA QRY [13]> CREATE (ga  :GrupoAplicacion {name: 'Building & roads' }) RETURN ga\n",
      "EJECUTADA QRY [14]> CREATE (ga  :GrupoAplicacion {name: 'Cable sheathing' }) RETURN ga\n",
      "EJECUTADA QRY [15]> CREATE (ga  :GrupoAplicacion {name: 'Capacitors' }) RETURN ga\n",
      "EJECUTADA QRY [16]> CREATE (ga  :GrupoAplicacion {name: 'Cast Iron for rigid structures' }) RETURN ga\n",
      "EJECUTADA QRY [17]> CREATE (ga  :GrupoAplicacion {name: 'Casting Molds' }) RETURN ga\n",
      "EJECUTADA QRY [18]> CREATE (ga  :GrupoAplicacion {name: 'Catalysts' }) RETURN ga\n",
      "EJECUTADA QRY [19]> CREATE (ga  :GrupoAplicacion {name: 'Ceramics' }) RETURN ga\n",
      "EJECUTADA QRY [20]> CREATE (ga  :GrupoAplicacion {name: 'Ceramics & Frits' }) RETURN ga\n",
      "EJECUTADA QRY [21]> CREATE (ga  :GrupoAplicacion {name: 'Chemicals' }) RETURN ga\n",
      "EJECUTADA QRY [22]> CREATE (ga  :GrupoAplicacion {name: 'Chemicals (Paint, Adhesives)' }) RETURN ga\n",
      "EJECUTADA QRY [23]> CREATE (ga  :GrupoAplicacion {name: 'Chemicals (Paper)' }) RETURN ga\n",
      "EJECUTADA QRY [24]> CREATE (ga  :GrupoAplicacion {name: 'Chemicals (Plastics)' }) RETURN ga\n",
      "EJECUTADA QRY [25]> CREATE (ga  :GrupoAplicacion {name: 'Chemicals (Pyrotechnics)' }) RETURN ga\n",
      "EJECUTADA QRY [26]> CREATE (ga  :GrupoAplicacion {name: 'Chemicals(Rubber)' }) RETURN ga\n",
      "EJECUTADA QRY [27]> CREATE (ga  :GrupoAplicacion {name: 'Civil engineering' }) RETURN ga\n",
      "EJECUTADA QRY [28]> CREATE (ga  :GrupoAplicacion {name: 'Coatings' }) RETURN ga\n",
      "EJECUTADA QRY [29]> CREATE (ga  :GrupoAplicacion {name: 'Coke (Others)' }) RETURN ga\n",
      "EJECUTADA QRY [30]> CREATE (ga  :GrupoAplicacion {name: 'Components and household' }) RETURN ga\n",
      "EJECUTADA QRY [31]> CREATE (ga  :GrupoAplicacion {name: 'Consumer Durables' }) RETURN ga\n",
      "EJECUTADA QRY [32]> CREATE (ga  :GrupoAplicacion {name: 'Controlled atmospheres' }) RETURN ga\n",
      "EJECUTADA QRY [33]> CREATE (ga  :GrupoAplicacion {name: 'Cosmetics' }) RETURN ga\n",
      "EJECUTADA QRY [34]> CREATE (ga  :GrupoAplicacion {name: 'Cryogenics' }) RETURN ga\n",
      "EJECUTADA QRY [35]> CREATE (ga  :GrupoAplicacion {name: 'Defense' }) RETURN ga\n",
      "EJECUTADA QRY [36]> CREATE (ga  :GrupoAplicacion {name: 'Detection' }) RETURN ga\n",
      "EJECUTADA QRY [37]> CREATE (ga  :GrupoAplicacion {name: 'Domestic Prods.' }) RETURN ga\n",
      "EJECUTADA QRY [38]> CREATE (ga  :GrupoAplicacion {name: 'Electrical and Electronics' }) RETURN ga\n",
      "EJECUTADA QRY [39]> CREATE (ga  :GrupoAplicacion {name: 'Energy (Nuclear)' }) RETURN ga\n",
      "EJECUTADA QRY [40]> CREATE (ga  :GrupoAplicacion {name: 'Energy (Oil)' }) RETURN ga\n",
      "EJECUTADA QRY [41]> CREATE (ga  :GrupoAplicacion {name: 'Energy (Oil-Gas)' }) RETURN ga\n",
      "EJECUTADA QRY [42]> CREATE (ga  :GrupoAplicacion {name: 'Energy (Solar)' }) RETURN ga\n",
      "EJECUTADA QRY [43]> CREATE (ga  :GrupoAplicacion {name: 'Fiberglass' }) RETURN ga\n",
      "EJECUTADA QRY [44]> CREATE (ga  :GrupoAplicacion {name: 'Filler, extender, sealant' }) RETURN ga\n",
      "EJECUTADA QRY [45]> CREATE (ga  :GrupoAplicacion {name: 'Foods' }) RETURN ga\n",
      "EJECUTADA QRY [46]> CREATE (ga  :GrupoAplicacion {name: 'Foundry' }) RETURN ga\n",
      "EJECUTADA QRY [47]> CREATE (ga  :GrupoAplicacion {name: 'Friction products' }) RETURN ga\n",
      "EJECUTADA QRY [48]> CREATE (ga  :GrupoAplicacion {name: 'Furniture' }) RETURN ga\n",
      "EJECUTADA QRY [49]> CREATE (ga  :GrupoAplicacion {name: 'Galvanising' }) RETURN ga\n",
      "EJECUTADA QRY [50]> CREATE (ga  :GrupoAplicacion {name: 'Gaskets, expansion' }) RETURN ga\n",
      "EJECUTADA QRY [51]> CREATE (ga  :GrupoAplicacion {name: 'Glass' }) RETURN ga\n",
      "EJECUTADA QRY [52]> CREATE (ga  :GrupoAplicacion {name: 'Graphite shapes' }) RETURN ga\n",
      "EJECUTADA QRY [53]> CREATE (ga  :GrupoAplicacion {name: 'Hard materials (tools)' }) RETURN ga\n",
      "EJECUTADA QRY [54]> CREATE (ga  :GrupoAplicacion {name: 'High Tech Engineering' }) RETURN ga\n",
      "EJECUTADA QRY [55]> CREATE (ga  :GrupoAplicacion {name: 'Industry' }) RETURN ga\n",
      "EJECUTADA QRY [56]> CREATE (ga  :GrupoAplicacion {name: 'Investment' }) RETURN ga\n",
      "EJECUTADA QRY [57]> CREATE (ga  :GrupoAplicacion {name: 'Jewelery & others' }) RETURN ga\n",
      "EJECUTADA QRY [58]> CREATE (ga  :GrupoAplicacion {name: 'Leisure' }) RETURN ga\n",
      "EJECUTADA QRY [59]> CREATE (ga  :GrupoAplicacion {name: 'Lubricants' }) RETURN ga\n",
      "EJECUTADA QRY [60]> CREATE (ga  :GrupoAplicacion {name: 'Machinery' }) RETURN ga\n",
      "EJECUTADA QRY [61]> CREATE (ga  :GrupoAplicacion {name: 'Medicine' }) RETURN ga\n",
      "EJECUTADA QRY [62]> CREATE (ga  :GrupoAplicacion {name: 'Metal Prods.' }) RETURN ga\n",
      "EJECUTADA QRY [63]> CREATE (ga  :GrupoAplicacion {name: 'Metals-Basics' }) RETURN ga\n",
      "EJECUTADA QRY [64]> CREATE (ga  :GrupoAplicacion {name: 'Mining-Extraction' }) RETURN ga\n",
      "EJECUTADA QRY [65]> CREATE (ga  :GrupoAplicacion {name: 'Others' }) RETURN ga\n",
      "EJECUTADA QRY [66]> CREATE (ga  :GrupoAplicacion {name: 'Packaging' }) RETURN ga\n",
      "EJECUTADA QRY [67]> CREATE (ga  :GrupoAplicacion {name: 'Pets' }) RETURN ga\n",
      "EJECUTADA QRY [68]> CREATE (ga  :GrupoAplicacion {name: 'Pharmacy' }) RETURN ga\n",
      "EJECUTADA QRY [69]> CREATE (ga  :GrupoAplicacion {name: 'Special Steel' }) RETURN ga\n",
      "EJECUTADA QRY [70]> CREATE (ga  :GrupoAplicacion {name: 'Stainless Steel' }) RETURN ga\n",
      "EJECUTADA QRY [71]> CREATE (ga  :GrupoAplicacion {name: 'Steel' }) RETURN ga\n",
      "EJECUTADA QRY [72]> CREATE (ga  :GrupoAplicacion {name: 'Steels' }) RETURN ga\n",
      "EJECUTADA QRY [73]> CREATE (ga  :GrupoAplicacion {name: 'Superalloys' }) RETURN ga\n",
      "EJECUTADA QRY [74]> CREATE (ga  :GrupoAplicacion {name: 'Thermal interface material' }) RETURN ga\n",
      "EJECUTADA QRY [75]> CREATE (ga  :GrupoAplicacion {name: 'Thermo-electric devices' }) RETURN ga\n",
      "EJECUTADA QRY [76]> CREATE (ga  :GrupoAplicacion {name: 'Tinplate' }) RETURN ga\n",
      "EJECUTADA QRY [77]> CREATE (ga  :GrupoAplicacion {name: 'Tool steels' }) RETURN ga\n",
      "EJECUTADA QRY [78]> CREATE (ga  :GrupoAplicacion {name: 'Tools (Hard materials)' }) RETURN ga\n",
      "EJECUTADA QRY [79]> CREATE (ga  :GrupoAplicacion {name: 'Tools (pencils)' }) RETURN ga\n",
      "EJECUTADA QRY [80]> CREATE (ga  :GrupoAplicacion {name: 'Tools (Plasma)' }) RETURN ga\n",
      "EJECUTADA QRY [81]> CREATE (ga  :GrupoAplicacion {name: 'Tools (Stainless Steel)' }) RETURN ga\n",
      "EJECUTADA QRY [82]> CREATE (ga  :GrupoAplicacion {name: 'Transport (Aerospace)' }) RETURN ga\n",
      "EJECUTADA QRY [83]> CREATE (ga  :GrupoAplicacion {name: 'Transport (all)' }) RETURN ga\n",
      "EJECUTADA QRY [84]> CREATE (ga  :GrupoAplicacion {name: 'Transport (automotive)' }) RETURN ga\n",
      "EJECUTADA QRY [85]> CREATE (ga  :GrupoAplicacion {name: 'Transport (Boats)' }) RETURN ga\n",
      "EJECUTADA QRY [86]> CREATE (ga  :GrupoAplicacion {name: 'Tubes, plates, wire' }) RETURN ga\n",
      "EJECUTADA QRY [87]> CREATE (ga  :GrupoAplicacion {name: 'Wear' }) RETURN ga\n"
     ]
    }
   ],
   "source": [
    "# Crear un nodo por cada fila con sus propiedades\n",
    "#nodos de GRUPOAPLICACION\n",
    "## query para crea nodo con sus  propiedades\n",
    "TipoNodo = \" :GrupoAplicacion \" \n",
    "for i in range(0, nFilas):\n",
    "    strQry = \"CREATE (ga \" + TipoNodo                                             \\\n",
    "        + \"{\"                                                                    \\\n",
    "        + \"name: '\" + dfUsos.GrupoAplicacion[i]                                   \\\n",
    "        + \"' })\"                                                                 \\\n",
    "        + \" RETURN ga\" \n",
    "#ejecutar Query en BD abierta - Neo4j\n",
    "    graph_test01.run(strQry)\n",
    "#Visualizar Query ejecutada \n",
    "    print(\"EJECUTADA QRY [\" + str(i) + \"]> \"+ strQry)\n",
    "# nodos creados"
   ]
  },
  {
   "cell_type": "code",
   "execution_count": 25,
   "id": "8e97ade6",
   "metadata": {},
   "outputs": [],
   "source": [
    "dfGraphMat= graph_test01.run(\"MATCH (n :GrupoAplicacion ) RETURN n\").data()"
   ]
  },
  {
   "cell_type": "code",
   "execution_count": 26,
   "id": "0726943c",
   "metadata": {},
   "outputs": [
    {
     "data": {
      "text/plain": [
       "{'n': Node('GrupoAplicacion', name='Abrasives')}"
      ]
     },
     "execution_count": 26,
     "metadata": {},
     "output_type": "execute_result"
    }
   ],
   "source": [
    "dfGraphMat[0]\n"
   ]
  },
  {
   "cell_type": "code",
   "execution_count": 33,
   "id": "f37f5bdb",
   "metadata": {
    "scrolled": true
   },
   "outputs": [
    {
     "data": {
      "text/html": [
       "<table><tr><th>LABELS(n)</th><th>COUNT(n)</th></tr><tr><td style=\"text-align:left\">[&#039;GrupoAplicacion&#039;]</td><td style=\"text-align:right\">88</td></tr></table>"
      ],
      "text/plain": [
       " LABELS(n)           | COUNT(n) \n",
       "---------------------|----------\n",
       " ['GrupoAplicacion'] |       88 "
      ]
     },
     "execution_count": 33,
     "metadata": {},
     "output_type": "execute_result"
    }
   ],
   "source": [
    "#validamos que todos los -nuevos- nodos se han creado :GrupoAplicacion   \n",
    "graph_test01.run(\"MATCH (n :GrupoAplicacion ) RETURN  LABELS(n), COUNT(n)\")"
   ]
  },
  {
   "cell_type": "code",
   "execution_count": 39,
   "id": "692a91c0",
   "metadata": {
    "scrolled": true
   },
   "outputs": [
    {
     "data": {
      "text/html": [
       "<div>\n",
       "<style scoped>\n",
       "    .dataframe tbody tr th:only-of-type {\n",
       "        vertical-align: middle;\n",
       "    }\n",
       "\n",
       "    .dataframe tbody tr th {\n",
       "        vertical-align: top;\n",
       "    }\n",
       "\n",
       "    .dataframe thead th {\n",
       "        text-align: right;\n",
       "    }\n",
       "</style>\n",
       "<table border=\"1\" class=\"dataframe\">\n",
       "  <thead>\n",
       "    <tr style=\"text-align: right;\">\n",
       "      <th></th>\n",
       "      <th>name</th>\n",
       "      <th>Ntotal</th>\n",
       "    </tr>\n",
       "  </thead>\n",
       "  <tbody>\n",
       "    <tr>\n",
       "      <th>0</th>\n",
       "      <td>MaterialB</td>\n",
       "      <td>78</td>\n",
       "    </tr>\n",
       "    <tr>\n",
       "      <th>1</th>\n",
       "      <td>MaterialREF</td>\n",
       "      <td>78</td>\n",
       "    </tr>\n",
       "    <tr>\n",
       "      <th>2</th>\n",
       "      <td>Pais</td>\n",
       "      <td>91</td>\n",
       "    </tr>\n",
       "    <tr>\n",
       "      <th>3</th>\n",
       "      <td>GrupoAplicacion</td>\n",
       "      <td>88</td>\n",
       "    </tr>\n",
       "  </tbody>\n",
       "</table>\n",
       "</div>"
      ],
      "text/plain": [
       "              name  Ntotal\n",
       "0        MaterialB      78\n",
       "1      MaterialREF      78\n",
       "2             Pais      91\n",
       "3  GrupoAplicacion      88"
      ]
     },
     "execution_count": 39,
     "metadata": {},
     "output_type": "execute_result"
    }
   ],
   "source": [
    "#validamos que todos los nodos se han creado (hasta este paso)\n",
    "queryPRB= \"MATCH (n)                                    \\\n",
    "RETURN labels (n)[0] as name, count (n) as Ntotal       \\\n",
    "UNION MATCH (n)                                         \\\n",
    "WITH labels (n)[1] as name, count (n) as Ntotal         \\\n",
    "WHERE name IS NOT NULL                                  \\\n",
    "RETURN name, Ntotal                                     \\\n",
    "UNION MATCH (n)                                         \\\n",
    "WITH labels (n)[2] as name, count (n) as Ntotal         \\\n",
    "WHERE name IS NOT NULL                                  \\\n",
    "RETURN  name, Ntotal                                    \\\n",
    "UNION MATCH (n)                                         \\\n",
    "WITH labels (n)[3] as name, count (n) as Ntotal         \\\n",
    "WHERE name IS NOT NULL                                  \\\n",
    "RETURN  name, Ntotal \"  \n",
    "                                  \n",
    "graph_test01.run(queryPRB).to_data_frame()\n",
    "\n"
   ]
  },
  {
   "cell_type": "markdown",
   "id": "aee44cef",
   "metadata": {},
   "source": [
    "# fin proceso - GRUPOS de APLICACIÓN/USO - CREADOS"
   ]
  },
  {
   "cell_type": "code",
   "execution_count": 81,
   "id": "df4c6f03",
   "metadata": {},
   "outputs": [],
   "source": [
    "# fin archivo"
   ]
  }
 ],
 "metadata": {
  "kernelspec": {
   "display_name": "Python 3 (ipykernel)",
   "language": "python",
   "name": "python3"
  },
  "language_info": {
   "codemirror_mode": {
    "name": "ipython",
    "version": 3
   },
   "file_extension": ".py",
   "mimetype": "text/x-python",
   "name": "python",
   "nbconvert_exporter": "python",
   "pygments_lexer": "ipython3",
   "version": "3.7.1"
  }
 },
 "nbformat": 4,
 "nbformat_minor": 5
}
