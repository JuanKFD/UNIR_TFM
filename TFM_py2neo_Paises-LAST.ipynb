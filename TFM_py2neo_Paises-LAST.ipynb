{
 "cells": [
  {
   "cell_type": "markdown",
   "id": "8f9b66a4",
   "metadata": {},
   "source": [
    "# TFM Suministro Global - Países - Neo4j - py2neo "
   ]
  },
  {
   "cell_type": "markdown",
   "id": "fe7813af",
   "metadata": {},
   "source": [
    "## Partimos de la existencia, en paralelo a esta ejecución, de una instancia levantada y accesible de Neo4j  \n",
    "### La primera vez que se quiera usar _py2neo_ erá  necesario asegurar su instalación:  _!pip install py2neo_"
   ]
  },
  {
   "cell_type": "code",
   "execution_count": 1,
   "id": "7b420b33",
   "metadata": {
    "scrolled": true
   },
   "outputs": [
    {
     "name": "stdout",
     "output_type": "stream",
     "text": [
      "Collecting py2neo\n",
      "  Downloading py2neo-2021.2.3-py2.py3-none-any.whl (177 kB)\n",
      "Requirement already satisfied: packaging in c:\\users\\jucar\\anaconda3\\envs\\rstudio\\lib\\site-packages (from py2neo) (21.3)\n",
      "Requirement already satisfied: urllib3 in c:\\users\\jucar\\anaconda3\\envs\\rstudio\\lib\\site-packages (from py2neo) (1.26.7)\n",
      "Collecting monotonic\n",
      "  Downloading monotonic-1.6-py2.py3-none-any.whl (8.2 kB)\n",
      "Requirement already satisfied: pygments>=2.0.0 in c:\\users\\jucar\\anaconda3\\envs\\rstudio\\lib\\site-packages (from py2neo) (2.10.0)\n",
      "Requirement already satisfied: six>=1.15.0 in c:\\users\\jucar\\anaconda3\\envs\\rstudio\\lib\\site-packages (from py2neo) (1.16.0)\n",
      "Collecting interchange~=2021.0.4\n",
      "  Downloading interchange-2021.0.4-py2.py3-none-any.whl (28 kB)\n",
      "Collecting pansi>=2020.7.3\n",
      "  Downloading pansi-2020.7.3-py2.py3-none-any.whl (10 kB)\n",
      "Requirement already satisfied: certifi in c:\\users\\jucar\\anaconda3\\envs\\rstudio\\lib\\site-packages (from py2neo) (2021.10.8)\n",
      "Requirement already satisfied: pytz in c:\\users\\jucar\\anaconda3\\envs\\rstudio\\lib\\site-packages (from interchange~=2021.0.4->py2neo) (2021.3)\n",
      "Requirement already satisfied: pyparsing!=3.0.5,>=2.0.2 in c:\\users\\jucar\\anaconda3\\envs\\rstudio\\lib\\site-packages (from packaging->py2neo) (3.0.4)\n",
      "Installing collected packages: pansi, monotonic, interchange, py2neo\n",
      "Successfully installed interchange-2021.0.4 monotonic-1.6 pansi-2020.7.3 py2neo-2021.2.3\n"
     ]
    }
   ],
   "source": [
    "##!pip install py2neo "
   ]
  },
  {
   "cell_type": "code",
   "execution_count": 2,
   "id": "6d9f652c",
   "metadata": {},
   "outputs": [],
   "source": [
    "#importar la librería para poder hacer uso de sus funcionalidades y objetos\n",
    "from py2neo import *"
   ]
  },
  {
   "cell_type": "code",
   "execution_count": 3,
   "id": "dc45043b",
   "metadata": {},
   "outputs": [],
   "source": [
    "#acceder a la instancia levantada de Neo4j - en nuestro caso instancia Docker - asignamos credenciales de autentificación -\n",
    "graph_test01 = Graph(auth=('neo4j', 's3cr3t'))"
   ]
  },
  {
   "cell_type": "code",
   "execution_count": 4,
   "id": "0bdda4f9",
   "metadata": {},
   "outputs": [
    {
     "data": {
      "text/plain": [
       "Graph('bolt://localhost:7687')"
      ]
     },
     "execution_count": 4,
     "metadata": {},
     "output_type": "execute_result"
    }
   ],
   "source": [
    "#que es el objeto - graph_test01\n",
    "graph_test01"
   ]
  },
  {
   "cell_type": "code",
   "execution_count": 5,
   "id": "ae88b5a3",
   "metadata": {},
   "outputs": [],
   "source": [
    "#que es el objeto - tx\n",
    "tx = graph_test01.begin()"
   ]
  },
  {
   "cell_type": "code",
   "execution_count": 6,
   "id": "07d7aa84",
   "metadata": {},
   "outputs": [
    {
     "data": {
      "text/plain": [
       "<py2neo.database.Transaction at 0x182a7603b38>"
      ]
     },
     "execution_count": 6,
     "metadata": {},
     "output_type": "execute_result"
    }
   ],
   "source": [
    "tx"
   ]
  },
  {
   "cell_type": "code",
   "execution_count": 22,
   "id": "b5ee1622",
   "metadata": {
    "scrolled": false
   },
   "outputs": [
    {
     "data": {
      "text/html": [
       "<table><tr><th>name</th><th>Ntotal</th></tr><tr><td style=\"text-align:left\">MaterialB</td><td style=\"text-align:right\">78</td></tr><tr><td style=\"text-align:left\">MaterialREF</td><td style=\"text-align:right\">78</td></tr></table>"
      ],
      "text/plain": [
       " name        | Ntotal \n",
       "-------------|--------\n",
       " MaterialB   |     78 \n",
       " MaterialREF |     78 "
      ]
     },
     "execution_count": 22,
     "metadata": {},
     "output_type": "execute_result"
    }
   ],
   "source": [
    "#query de conexión de prueba sin errores\n",
    "# verificar existencia de NODOS previos de MATERIALES Brutos y Refinados\n",
    "#--- cuenta los nodos con diferentes tipos de etiqueta y los une en una única salida, 1 fila por cada tipo (name, cnt)\n",
    "queryPRB= \"MATCH (n)                                    \\\n",
    "RETURN labels (n)[0] as name, count (n) as Ntotal       \\\n",
    "UNION MATCH (n)                                         \\\n",
    "WITH labels (n)[1] as name, count (n) as Ntotal         \\\n",
    "WHERE name IS NOT NULL                                  \\\n",
    "RETURN name, Ntotal                                     \\\n",
    "\"\n",
    "graph_test01.run(queryPRB)"
   ]
  },
  {
   "cell_type": "markdown",
   "id": "27083405",
   "metadata": {},
   "source": [
    "## CARGAR DATOS"
   ]
  },
  {
   "cell_type": "code",
   "execution_count": 1,
   "id": "ae0e1afa",
   "metadata": {},
   "outputs": [],
   "source": [
    "import numpy as np    #datos y operativa álgegra y matrices de n dimensiones (arrays)\n",
    "import pandas as pd   #carga dataset y manipulación de datos  y dataframes"
   ]
  },
  {
   "cell_type": "code",
   "execution_count": null,
   "id": "81e8b285",
   "metadata": {},
   "outputs": [],
   "source": [
    "### DATOS: Fichero completo de PAISES en el suministro crítico GLOBAL - Atendiendo al alcance del estudio - EU CRM 2020\n",
    "### FICHERO:GLPaises_cargar.csv\n",
    "**CONTENIDO: Países con alguna producción global crítica **\n",
    "USO: Crear los NODOS de tipo \"Pais\"  \n",
    " -- propiedades de cada pais: nombre (name) y Pais_iso3 --> con el código internacional ISO de 3 caracteres alfanuméricos   \n",
    "  -- los datos de suministro -posteriores- fijarán las relaciones entre países proveedores y sus materiales producidos  \n",
    "rutaFichero =  \"https://raw.githubusercontent.com/JuanKFD/UNIR_TFM/main/GLPaises_cargar.csv\" \n",
    "dfPaises = pd.read_csv(rutaFichero, sep=';')\n"
   ]
  },
  {
   "cell_type": "code",
   "execution_count": 61,
   "id": "a9bde14d",
   "metadata": {
    "scrolled": false
   },
   "outputs": [
    {
     "data": {
      "text/html": [
       "<div>\n",
       "<style scoped>\n",
       "    .dataframe tbody tr th:only-of-type {\n",
       "        vertical-align: middle;\n",
       "    }\n",
       "\n",
       "    .dataframe tbody tr th {\n",
       "        vertical-align: top;\n",
       "    }\n",
       "\n",
       "    .dataframe thead th {\n",
       "        text-align: right;\n",
       "    }\n",
       "</style>\n",
       "<table border=\"1\" class=\"dataframe\">\n",
       "  <thead>\n",
       "    <tr style=\"text-align: right;\">\n",
       "      <th></th>\n",
       "      <th>Pais</th>\n",
       "      <th>Pais_iso3</th>\n",
       "    </tr>\n",
       "  </thead>\n",
       "  <tbody>\n",
       "    <tr>\n",
       "      <th>0</th>\n",
       "      <td>Algeria</td>\n",
       "      <td>DZA</td>\n",
       "    </tr>\n",
       "    <tr>\n",
       "      <th>1</th>\n",
       "      <td>Albania</td>\n",
       "      <td>ALB</td>\n",
       "    </tr>\n",
       "    <tr>\n",
       "      <th>2</th>\n",
       "      <td>Argentina</td>\n",
       "      <td>ARG</td>\n",
       "    </tr>\n",
       "    <tr>\n",
       "      <th>3</th>\n",
       "      <td>Armenia</td>\n",
       "      <td>ARM</td>\n",
       "    </tr>\n",
       "    <tr>\n",
       "      <th>4</th>\n",
       "      <td>Australia</td>\n",
       "      <td>AUS</td>\n",
       "    </tr>\n",
       "  </tbody>\n",
       "</table>\n",
       "</div>"
      ],
      "text/plain": [
       "        Pais Pais_iso3\n",
       "0    Algeria       DZA\n",
       "1    Albania       ALB\n",
       "2  Argentina       ARG\n",
       "3    Armenia       ARM\n",
       "4  Australia       AUS"
      ]
     },
     "execution_count": 61,
     "metadata": {},
     "output_type": "execute_result"
    }
   ],
   "source": [
    "dfPaises.head()"
   ]
  },
  {
   "cell_type": "code",
   "execution_count": 62,
   "id": "3785a1e2",
   "metadata": {
    "scrolled": true
   },
   "outputs": [
    {
     "data": {
      "text/html": [
       "<div>\n",
       "<style scoped>\n",
       "    .dataframe tbody tr th:only-of-type {\n",
       "        vertical-align: middle;\n",
       "    }\n",
       "\n",
       "    .dataframe tbody tr th {\n",
       "        vertical-align: top;\n",
       "    }\n",
       "\n",
       "    .dataframe thead th {\n",
       "        text-align: right;\n",
       "    }\n",
       "</style>\n",
       "<table border=\"1\" class=\"dataframe\">\n",
       "  <thead>\n",
       "    <tr style=\"text-align: right;\">\n",
       "      <th></th>\n",
       "      <th>Pais</th>\n",
       "      <th>Pais_iso3</th>\n",
       "    </tr>\n",
       "  </thead>\n",
       "  <tbody>\n",
       "    <tr>\n",
       "      <th>86</th>\n",
       "      <td>Russian Federation</td>\n",
       "      <td>RUS</td>\n",
       "    </tr>\n",
       "    <tr>\n",
       "      <th>87</th>\n",
       "      <td>Rwanda</td>\n",
       "      <td>RWA</td>\n",
       "    </tr>\n",
       "    <tr>\n",
       "      <th>88</th>\n",
       "      <td>Saudi Arabia</td>\n",
       "      <td>SAU</td>\n",
       "    </tr>\n",
       "    <tr>\n",
       "      <th>89</th>\n",
       "      <td>Senegal</td>\n",
       "      <td>SEN</td>\n",
       "    </tr>\n",
       "    <tr>\n",
       "      <th>90</th>\n",
       "      <td>Sierra Leone</td>\n",
       "      <td>SLE</td>\n",
       "    </tr>\n",
       "  </tbody>\n",
       "</table>\n",
       "</div>"
      ],
      "text/plain": [
       "                  Pais Pais_iso3\n",
       "86  Russian Federation       RUS\n",
       "87              Rwanda       RWA\n",
       "88        Saudi Arabia       SAU\n",
       "89             Senegal       SEN\n",
       "90        Sierra Leone       SLE"
      ]
     },
     "execution_count": 62,
     "metadata": {},
     "output_type": "execute_result"
    }
   ],
   "source": [
    "dfPaises.tail()"
   ]
  },
  {
   "cell_type": "code",
   "execution_count": 63,
   "id": "3c0a0050",
   "metadata": {
    "scrolled": false
   },
   "outputs": [
    {
     "data": {
      "text/plain": [
       "(91, 2)"
      ]
     },
     "execution_count": 63,
     "metadata": {},
     "output_type": "execute_result"
    }
   ],
   "source": [
    "dfPaises.shape"
   ]
  },
  {
   "cell_type": "code",
   "execution_count": 64,
   "id": "51ad4ccd",
   "metadata": {},
   "outputs": [
    {
     "data": {
      "text/plain": [
       "Index(['Pais', 'Pais_iso3'], dtype='object')"
      ]
     },
     "execution_count": 64,
     "metadata": {},
     "output_type": "execute_result"
    }
   ],
   "source": [
    "dfPaises.columns"
   ]
  },
  {
   "cell_type": "code",
   "execution_count": 65,
   "id": "7b99516a",
   "metadata": {},
   "outputs": [],
   "source": [
    "nFilas = dfPaises.shape[0]"
   ]
  },
  {
   "cell_type": "code",
   "execution_count": 66,
   "id": "9f85e8c0",
   "metadata": {
    "scrolled": true
   },
   "outputs": [
    {
     "data": {
      "text/plain": [
       "91"
      ]
     },
     "execution_count": 66,
     "metadata": {},
     "output_type": "execute_result"
    }
   ],
   "source": [
    "nFilas"
   ]
  },
  {
   "cell_type": "markdown",
   "id": "e0bd291e",
   "metadata": {},
   "source": [
    "### Cargados en memoria los _91 países_ de la cadena de suministro global"
   ]
  },
  {
   "cell_type": "markdown",
   "id": "7dc58317",
   "metadata": {},
   "source": [
    "# PREVISUALIZACION DE DATOS - PAISES\n"
   ]
  },
  {
   "cell_type": "code",
   "execution_count": 67,
   "id": "f0f87545",
   "metadata": {},
   "outputs": [
    {
     "name": "stdout",
     "output_type": "stream",
     "text": [
      "Algeria\n",
      "DZA\n",
      "Albania\n",
      "ALB\n",
      "Argentina\n",
      "ARG\n",
      "Armenia\n",
      "ARM\n",
      "Australia\n",
      "AUS\n",
      "Austria\n",
      "AUT\n",
      "Bahrain\n",
      "BHR\n",
      "Bangladesh\n",
      "BGD\n",
      "Belarus\n",
      "BLR\n",
      "Belgium\n",
      "BEL\n",
      "Bolivia\n",
      "BOL\n",
      "Brazil\n",
      "BRA\n",
      "Bulgaria\n",
      "BGR\n",
      "Burkina Faso\n",
      "BFA\n",
      "Burundi\n",
      "BDI\n",
      "Canada\n",
      "CAN\n",
      "Chile\n",
      "CHL\n",
      "China\n",
      "CHN\n",
      "Colombia\n",
      "COL\n",
      "Congo, D.R.\n",
      "COD\n",
      "Cote D_Ivoire\n",
      "CIV\n",
      "Cuba\n",
      "CUB\n",
      "Czech Republic\n",
      "CZE\n",
      "Denmark\n",
      "DNK\n",
      "Dominican Republic\n",
      "DOM\n",
      "Ecuador\n",
      "ECU\n",
      "Egypt, Arab Rep.\n",
      "EGY\n",
      "Estonia\n",
      "EST\n",
      "Ethiopia\n",
      "ETH\n",
      "Finland\n",
      "FIN\n",
      "France\n",
      "FRA\n",
      "Gabon\n",
      "GAB\n",
      "Georgia\n",
      "GEO\n",
      "Germany\n",
      "DEU\n",
      "Ghana\n",
      "GHA\n",
      "Greece\n",
      "GRC\n",
      "Guatemala\n",
      "GTM\n",
      "Guinea\n",
      "GIN\n",
      "Guyana\n",
      "GUY\n",
      "Hong Kong\n",
      "HKG\n",
      "Hungary\n",
      "HUN\n",
      "Iceland\n",
      "ISL\n",
      "India\n",
      "IND\n",
      "Indonesia\n",
      "IDN\n",
      "Iran, Islamic Rep.\n",
      "IRN\n",
      "Iraq\n",
      "IRQ\n",
      "Ireland\n",
      "IRL\n",
      "Israel\n",
      "ISR\n",
      "Italy\n",
      "ITA\n",
      "Jamaica\n",
      "JAM\n",
      "Japan\n",
      "JPN\n",
      "Jordan\n",
      "JOR\n",
      "Kazakhstan\n",
      "KAZ\n",
      "Kenya\n",
      "KEN\n",
      "Korea, Dem. Rep.\n",
      "PRK\n",
      "Korea, Rep.\n",
      "KOR\n",
      "Kuwait\n",
      "KWT\n",
      "Kyrgyz Republic\n",
      "KGZ\n",
      "Lao Pdr\n",
      "LAO\n",
      "Lithuania\n",
      "LTU\n",
      "Liberia\n",
      "LBR\n",
      "Madagascar\n",
      "MDG\n",
      "Malaysia\n",
      "MYS\n",
      "Mali\n",
      "MLI\n",
      "Mexico\n",
      "MEX\n",
      "Mongolia\n",
      "MNG\n",
      "Morocco\n",
      "MAR\n",
      "Mozambique\n",
      "MOZ\n",
      "Myanmar\n",
      "MMR\n",
      "Namibia\n",
      "NAM\n",
      "Netherlands\n",
      "NLD\n",
      "New Caledonia\n",
      "NCL\n",
      "Nigeria\n",
      "NGA\n",
      "Norway\n",
      "NOR\n",
      "Oman\n",
      "OMN\n",
      "Others\n",
      "OTHS\n",
      "Other EU\n",
      "OTHEU\n",
      "Other non EU\n",
      "OTHNOEU\n",
      "Pakistan\n",
      "PAK\n",
      "Panama\n",
      "PAN\n",
      "Papua New Guinea\n",
      "PNG\n",
      "Peru\n",
      "PER\n",
      "Philippines\n",
      "PHL\n",
      "Poland\n",
      "POL\n",
      "Portugal\n",
      "PRT\n",
      "Qatar\n",
      "QAT\n",
      "Russian Federation\n",
      "RUS\n",
      "Rwanda\n",
      "RWA\n",
      "Saudi Arabia\n",
      "SAU\n",
      "Senegal\n",
      "SEN\n",
      "Sierra Leone\n",
      "SLE\n"
     ]
    }
   ],
   "source": [
    "for i in range(0, nFilas):\n",
    "    print(dfPaises.Pais[i])\n",
    "    print(dfPaises.Pais_iso3[i])\n"
   ]
  },
  {
   "cell_type": "code",
   "execution_count": 68,
   "id": "ddde8dc3",
   "metadata": {
    "scrolled": true
   },
   "outputs": [
    {
     "name": "stdout",
     "output_type": "stream",
     "text": [
      "Pais\n",
      "Pais_iso3\n"
     ]
    }
   ],
   "source": [
    "for colName in dfPaises.columns:\n",
    "    print(colName)"
   ]
  },
  {
   "cell_type": "code",
   "execution_count": 69,
   "id": "cb41a203",
   "metadata": {},
   "outputs": [
    {
     "data": {
      "text/plain": [
       "'Pais_iso3'"
      ]
     },
     "execution_count": 69,
     "metadata": {},
     "output_type": "execute_result"
    }
   ],
   "source": [
    "dfPaises.columns[1]"
   ]
  },
  {
   "cell_type": "code",
   "execution_count": 70,
   "id": "bd3533a0",
   "metadata": {
    "scrolled": false
   },
   "outputs": [
    {
     "name": "stdout",
     "output_type": "stream",
     "text": [
      "QRY [0]> CREATE (p  :Pais {name: 'Algeria', Pais_iso3: 'DZA' }) RETURN p\n",
      "QRY [1]> CREATE (p  :Pais {name: 'Albania', Pais_iso3: 'ALB' }) RETURN p\n",
      "QRY [2]> CREATE (p  :Pais {name: 'Argentina', Pais_iso3: 'ARG' }) RETURN p\n",
      "QRY [3]> CREATE (p  :Pais {name: 'Armenia', Pais_iso3: 'ARM' }) RETURN p\n",
      "QRY [4]> CREATE (p  :Pais {name: 'Australia', Pais_iso3: 'AUS' }) RETURN p\n",
      "QRY [5]> CREATE (p  :Pais {name: 'Austria', Pais_iso3: 'AUT' }) RETURN p\n",
      "QRY [6]> CREATE (p  :Pais {name: 'Bahrain', Pais_iso3: 'BHR' }) RETURN p\n",
      "QRY [7]> CREATE (p  :Pais {name: 'Bangladesh', Pais_iso3: 'BGD' }) RETURN p\n",
      "QRY [8]> CREATE (p  :Pais {name: 'Belarus', Pais_iso3: 'BLR' }) RETURN p\n",
      "QRY [9]> CREATE (p  :Pais {name: 'Belgium', Pais_iso3: 'BEL' }) RETURN p\n",
      "QRY [10]> CREATE (p  :Pais {name: 'Bolivia', Pais_iso3: 'BOL' }) RETURN p\n",
      "QRY [11]> CREATE (p  :Pais {name: 'Brazil', Pais_iso3: 'BRA' }) RETURN p\n",
      "QRY [12]> CREATE (p  :Pais {name: 'Bulgaria', Pais_iso3: 'BGR' }) RETURN p\n",
      "QRY [13]> CREATE (p  :Pais {name: 'Burkina Faso', Pais_iso3: 'BFA' }) RETURN p\n",
      "QRY [14]> CREATE (p  :Pais {name: 'Burundi', Pais_iso3: 'BDI' }) RETURN p\n",
      "QRY [15]> CREATE (p  :Pais {name: 'Canada', Pais_iso3: 'CAN' }) RETURN p\n",
      "QRY [16]> CREATE (p  :Pais {name: 'Chile', Pais_iso3: 'CHL' }) RETURN p\n",
      "QRY [17]> CREATE (p  :Pais {name: 'China', Pais_iso3: 'CHN' }) RETURN p\n",
      "QRY [18]> CREATE (p  :Pais {name: 'Colombia', Pais_iso3: 'COL' }) RETURN p\n",
      "QRY [19]> CREATE (p  :Pais {name: 'Congo, D.R.', Pais_iso3: 'COD' }) RETURN p\n",
      "QRY [20]> CREATE (p  :Pais {name: 'Cote D_Ivoire', Pais_iso3: 'CIV' }) RETURN p\n",
      "QRY [21]> CREATE (p  :Pais {name: 'Cuba', Pais_iso3: 'CUB' }) RETURN p\n",
      "QRY [22]> CREATE (p  :Pais {name: 'Czech Republic', Pais_iso3: 'CZE' }) RETURN p\n",
      "QRY [23]> CREATE (p  :Pais {name: 'Denmark', Pais_iso3: 'DNK' }) RETURN p\n",
      "QRY [24]> CREATE (p  :Pais {name: 'Dominican Republic', Pais_iso3: 'DOM' }) RETURN p\n",
      "QRY [25]> CREATE (p  :Pais {name: 'Ecuador', Pais_iso3: 'ECU' }) RETURN p\n",
      "QRY [26]> CREATE (p  :Pais {name: 'Egypt, Arab Rep.', Pais_iso3: 'EGY' }) RETURN p\n",
      "QRY [27]> CREATE (p  :Pais {name: 'Estonia', Pais_iso3: 'EST' }) RETURN p\n",
      "QRY [28]> CREATE (p  :Pais {name: 'Ethiopia', Pais_iso3: 'ETH' }) RETURN p\n",
      "QRY [29]> CREATE (p  :Pais {name: 'Finland', Pais_iso3: 'FIN' }) RETURN p\n",
      "QRY [30]> CREATE (p  :Pais {name: 'France', Pais_iso3: 'FRA' }) RETURN p\n",
      "QRY [31]> CREATE (p  :Pais {name: 'Gabon', Pais_iso3: 'GAB' }) RETURN p\n",
      "QRY [32]> CREATE (p  :Pais {name: 'Georgia', Pais_iso3: 'GEO' }) RETURN p\n",
      "QRY [33]> CREATE (p  :Pais {name: 'Germany', Pais_iso3: 'DEU' }) RETURN p\n",
      "QRY [34]> CREATE (p  :Pais {name: 'Ghana', Pais_iso3: 'GHA' }) RETURN p\n",
      "QRY [35]> CREATE (p  :Pais {name: 'Greece', Pais_iso3: 'GRC' }) RETURN p\n",
      "QRY [36]> CREATE (p  :Pais {name: 'Guatemala', Pais_iso3: 'GTM' }) RETURN p\n",
      "QRY [37]> CREATE (p  :Pais {name: 'Guinea', Pais_iso3: 'GIN' }) RETURN p\n",
      "QRY [38]> CREATE (p  :Pais {name: 'Guyana', Pais_iso3: 'GUY' }) RETURN p\n",
      "QRY [39]> CREATE (p  :Pais {name: 'Hong Kong', Pais_iso3: 'HKG' }) RETURN p\n",
      "QRY [40]> CREATE (p  :Pais {name: 'Hungary', Pais_iso3: 'HUN' }) RETURN p\n",
      "QRY [41]> CREATE (p  :Pais {name: 'Iceland', Pais_iso3: 'ISL' }) RETURN p\n",
      "QRY [42]> CREATE (p  :Pais {name: 'India', Pais_iso3: 'IND' }) RETURN p\n",
      "QRY [43]> CREATE (p  :Pais {name: 'Indonesia', Pais_iso3: 'IDN' }) RETURN p\n",
      "QRY [44]> CREATE (p  :Pais {name: 'Iran, Islamic Rep.', Pais_iso3: 'IRN' }) RETURN p\n",
      "QRY [45]> CREATE (p  :Pais {name: 'Iraq', Pais_iso3: 'IRQ' }) RETURN p\n",
      "QRY [46]> CREATE (p  :Pais {name: 'Ireland', Pais_iso3: 'IRL' }) RETURN p\n",
      "QRY [47]> CREATE (p  :Pais {name: 'Israel', Pais_iso3: 'ISR' }) RETURN p\n",
      "QRY [48]> CREATE (p  :Pais {name: 'Italy', Pais_iso3: 'ITA' }) RETURN p\n",
      "QRY [49]> CREATE (p  :Pais {name: 'Jamaica', Pais_iso3: 'JAM' }) RETURN p\n",
      "QRY [50]> CREATE (p  :Pais {name: 'Japan', Pais_iso3: 'JPN' }) RETURN p\n",
      "QRY [51]> CREATE (p  :Pais {name: 'Jordan', Pais_iso3: 'JOR' }) RETURN p\n",
      "QRY [52]> CREATE (p  :Pais {name: 'Kazakhstan', Pais_iso3: 'KAZ' }) RETURN p\n",
      "QRY [53]> CREATE (p  :Pais {name: 'Kenya', Pais_iso3: 'KEN' }) RETURN p\n",
      "QRY [54]> CREATE (p  :Pais {name: 'Korea, Dem. Rep.', Pais_iso3: 'PRK' }) RETURN p\n",
      "QRY [55]> CREATE (p  :Pais {name: 'Korea, Rep.', Pais_iso3: 'KOR' }) RETURN p\n",
      "QRY [56]> CREATE (p  :Pais {name: 'Kuwait', Pais_iso3: 'KWT' }) RETURN p\n",
      "QRY [57]> CREATE (p  :Pais {name: 'Kyrgyz Republic', Pais_iso3: 'KGZ' }) RETURN p\n",
      "QRY [58]> CREATE (p  :Pais {name: 'Lao Pdr', Pais_iso3: 'LAO' }) RETURN p\n",
      "QRY [59]> CREATE (p  :Pais {name: 'Lithuania', Pais_iso3: 'LTU' }) RETURN p\n",
      "QRY [60]> CREATE (p  :Pais {name: 'Liberia', Pais_iso3: 'LBR' }) RETURN p\n",
      "QRY [61]> CREATE (p  :Pais {name: 'Madagascar', Pais_iso3: 'MDG' }) RETURN p\n",
      "QRY [62]> CREATE (p  :Pais {name: 'Malaysia', Pais_iso3: 'MYS' }) RETURN p\n",
      "QRY [63]> CREATE (p  :Pais {name: 'Mali', Pais_iso3: 'MLI' }) RETURN p\n",
      "QRY [64]> CREATE (p  :Pais {name: 'Mexico', Pais_iso3: 'MEX' }) RETURN p\n",
      "QRY [65]> CREATE (p  :Pais {name: 'Mongolia', Pais_iso3: 'MNG' }) RETURN p\n",
      "QRY [66]> CREATE (p  :Pais {name: 'Morocco', Pais_iso3: 'MAR' }) RETURN p\n",
      "QRY [67]> CREATE (p  :Pais {name: 'Mozambique', Pais_iso3: 'MOZ' }) RETURN p\n",
      "QRY [68]> CREATE (p  :Pais {name: 'Myanmar', Pais_iso3: 'MMR' }) RETURN p\n",
      "QRY [69]> CREATE (p  :Pais {name: 'Namibia', Pais_iso3: 'NAM' }) RETURN p\n",
      "QRY [70]> CREATE (p  :Pais {name: 'Netherlands', Pais_iso3: 'NLD' }) RETURN p\n",
      "QRY [71]> CREATE (p  :Pais {name: 'New Caledonia', Pais_iso3: 'NCL' }) RETURN p\n",
      "QRY [72]> CREATE (p  :Pais {name: 'Nigeria', Pais_iso3: 'NGA' }) RETURN p\n",
      "QRY [73]> CREATE (p  :Pais {name: 'Norway', Pais_iso3: 'NOR' }) RETURN p\n",
      "QRY [74]> CREATE (p  :Pais {name: 'Oman', Pais_iso3: 'OMN' }) RETURN p\n",
      "QRY [75]> CREATE (p  :Pais {name: 'Others', Pais_iso3: 'OTHS' }) RETURN p\n",
      "QRY [76]> CREATE (p  :Pais {name: 'Other EU', Pais_iso3: 'OTHEU' }) RETURN p\n",
      "QRY [77]> CREATE (p  :Pais {name: 'Other non EU', Pais_iso3: 'OTHNOEU' }) RETURN p\n",
      "QRY [78]> CREATE (p  :Pais {name: 'Pakistan', Pais_iso3: 'PAK' }) RETURN p\n",
      "QRY [79]> CREATE (p  :Pais {name: 'Panama', Pais_iso3: 'PAN' }) RETURN p\n",
      "QRY [80]> CREATE (p  :Pais {name: 'Papua New Guinea', Pais_iso3: 'PNG' }) RETURN p\n",
      "QRY [81]> CREATE (p  :Pais {name: 'Peru', Pais_iso3: 'PER' }) RETURN p\n",
      "QRY [82]> CREATE (p  :Pais {name: 'Philippines', Pais_iso3: 'PHL' }) RETURN p\n",
      "QRY [83]> CREATE (p  :Pais {name: 'Poland', Pais_iso3: 'POL' }) RETURN p\n",
      "QRY [84]> CREATE (p  :Pais {name: 'Portugal', Pais_iso3: 'PRT' }) RETURN p\n",
      "QRY [85]> CREATE (p  :Pais {name: 'Qatar', Pais_iso3: 'QAT' }) RETURN p\n",
      "QRY [86]> CREATE (p  :Pais {name: 'Russian Federation', Pais_iso3: 'RUS' }) RETURN p\n",
      "QRY [87]> CREATE (p  :Pais {name: 'Rwanda', Pais_iso3: 'RWA' }) RETURN p\n",
      "QRY [88]> CREATE (p  :Pais {name: 'Saudi Arabia', Pais_iso3: 'SAU' }) RETURN p\n",
      "QRY [89]> CREATE (p  :Pais {name: 'Senegal', Pais_iso3: 'SEN' }) RETURN p\n",
      "QRY [90]> CREATE (p  :Pais {name: 'Sierra Leone', Pais_iso3: 'SLE' }) RETURN p\n"
     ]
    }
   ],
   "source": [
    "#  Crear NODO DE PAIS por cada fila junto con sus PROPIEDADES\n",
    "#  Nodos: PAIS -- para países productores de algún material de cadena global de suministro crítica\n",
    "## PREVISAULIZAR QUERYs antes de la ejecución\n",
    "TipoNodo = \" :Pais \" \n",
    "for i in range(0, nFilas):\n",
    "    strQry = \"CREATE (p \" + TipoNodo                                             \\\n",
    "        + \"{\"                                                                    \\\n",
    "        + \"name: '\" + dfPaises.Pais[i] + \"', \"                                   \\\n",
    "        + dfPaises.columns[1] + \": \" + \"'\" + dfPaises.Pais_iso3[i]               \\\n",
    "                + \"' })\"                                                         \\\n",
    "        + \" RETURN p\" \n",
    "    print(\"QRY [\" + str(i) + \"]> \"+ strQry)\n",
    "# querys  visualizadas"
   ]
  },
  {
   "cell_type": "code",
   "execution_count": 72,
   "id": "daf726b0",
   "metadata": {},
   "outputs": [
    {
     "data": {
      "text/plain": [
       "Graph('bolt://localhost:7687')"
      ]
     },
     "execution_count": 72,
     "metadata": {},
     "output_type": "execute_result"
    }
   ],
   "source": [
    "#comprobar que sigue abierta la conexión para enviar las queries a la BD \n",
    "graph_test01"
   ]
  },
  {
   "cell_type": "code",
   "execution_count": 73,
   "id": "b2a8c8f1",
   "metadata": {},
   "outputs": [
    {
     "name": "stdout",
     "output_type": "stream",
     "text": [
      "EJECUTADA QRY [0]> CREATE (p  :Pais {name: 'Algeria', Pais_iso3: 'DZA' }) RETURN p\n",
      "EJECUTADA QRY [1]> CREATE (p  :Pais {name: 'Albania', Pais_iso3: 'ALB' }) RETURN p\n",
      "EJECUTADA QRY [2]> CREATE (p  :Pais {name: 'Argentina', Pais_iso3: 'ARG' }) RETURN p\n",
      "EJECUTADA QRY [3]> CREATE (p  :Pais {name: 'Armenia', Pais_iso3: 'ARM' }) RETURN p\n",
      "EJECUTADA QRY [4]> CREATE (p  :Pais {name: 'Australia', Pais_iso3: 'AUS' }) RETURN p\n",
      "EJECUTADA QRY [5]> CREATE (p  :Pais {name: 'Austria', Pais_iso3: 'AUT' }) RETURN p\n",
      "EJECUTADA QRY [6]> CREATE (p  :Pais {name: 'Bahrain', Pais_iso3: 'BHR' }) RETURN p\n",
      "EJECUTADA QRY [7]> CREATE (p  :Pais {name: 'Bangladesh', Pais_iso3: 'BGD' }) RETURN p\n",
      "EJECUTADA QRY [8]> CREATE (p  :Pais {name: 'Belarus', Pais_iso3: 'BLR' }) RETURN p\n",
      "EJECUTADA QRY [9]> CREATE (p  :Pais {name: 'Belgium', Pais_iso3: 'BEL' }) RETURN p\n",
      "EJECUTADA QRY [10]> CREATE (p  :Pais {name: 'Bolivia', Pais_iso3: 'BOL' }) RETURN p\n",
      "EJECUTADA QRY [11]> CREATE (p  :Pais {name: 'Brazil', Pais_iso3: 'BRA' }) RETURN p\n",
      "EJECUTADA QRY [12]> CREATE (p  :Pais {name: 'Bulgaria', Pais_iso3: 'BGR' }) RETURN p\n",
      "EJECUTADA QRY [13]> CREATE (p  :Pais {name: 'Burkina Faso', Pais_iso3: 'BFA' }) RETURN p\n",
      "EJECUTADA QRY [14]> CREATE (p  :Pais {name: 'Burundi', Pais_iso3: 'BDI' }) RETURN p\n",
      "EJECUTADA QRY [15]> CREATE (p  :Pais {name: 'Canada', Pais_iso3: 'CAN' }) RETURN p\n",
      "EJECUTADA QRY [16]> CREATE (p  :Pais {name: 'Chile', Pais_iso3: 'CHL' }) RETURN p\n",
      "EJECUTADA QRY [17]> CREATE (p  :Pais {name: 'China', Pais_iso3: 'CHN' }) RETURN p\n",
      "EJECUTADA QRY [18]> CREATE (p  :Pais {name: 'Colombia', Pais_iso3: 'COL' }) RETURN p\n",
      "EJECUTADA QRY [19]> CREATE (p  :Pais {name: 'Congo, D.R.', Pais_iso3: 'COD' }) RETURN p\n",
      "EJECUTADA QRY [20]> CREATE (p  :Pais {name: 'Cote D_Ivoire', Pais_iso3: 'CIV' }) RETURN p\n",
      "EJECUTADA QRY [21]> CREATE (p  :Pais {name: 'Cuba', Pais_iso3: 'CUB' }) RETURN p\n",
      "EJECUTADA QRY [22]> CREATE (p  :Pais {name: 'Czech Republic', Pais_iso3: 'CZE' }) RETURN p\n",
      "EJECUTADA QRY [23]> CREATE (p  :Pais {name: 'Denmark', Pais_iso3: 'DNK' }) RETURN p\n",
      "EJECUTADA QRY [24]> CREATE (p  :Pais {name: 'Dominican Republic', Pais_iso3: 'DOM' }) RETURN p\n",
      "EJECUTADA QRY [25]> CREATE (p  :Pais {name: 'Ecuador', Pais_iso3: 'ECU' }) RETURN p\n",
      "EJECUTADA QRY [26]> CREATE (p  :Pais {name: 'Egypt, Arab Rep.', Pais_iso3: 'EGY' }) RETURN p\n",
      "EJECUTADA QRY [27]> CREATE (p  :Pais {name: 'Estonia', Pais_iso3: 'EST' }) RETURN p\n",
      "EJECUTADA QRY [28]> CREATE (p  :Pais {name: 'Ethiopia', Pais_iso3: 'ETH' }) RETURN p\n",
      "EJECUTADA QRY [29]> CREATE (p  :Pais {name: 'Finland', Pais_iso3: 'FIN' }) RETURN p\n",
      "EJECUTADA QRY [30]> CREATE (p  :Pais {name: 'France', Pais_iso3: 'FRA' }) RETURN p\n",
      "EJECUTADA QRY [31]> CREATE (p  :Pais {name: 'Gabon', Pais_iso3: 'GAB' }) RETURN p\n",
      "EJECUTADA QRY [32]> CREATE (p  :Pais {name: 'Georgia', Pais_iso3: 'GEO' }) RETURN p\n",
      "EJECUTADA QRY [33]> CREATE (p  :Pais {name: 'Germany', Pais_iso3: 'DEU' }) RETURN p\n",
      "EJECUTADA QRY [34]> CREATE (p  :Pais {name: 'Ghana', Pais_iso3: 'GHA' }) RETURN p\n",
      "EJECUTADA QRY [35]> CREATE (p  :Pais {name: 'Greece', Pais_iso3: 'GRC' }) RETURN p\n",
      "EJECUTADA QRY [36]> CREATE (p  :Pais {name: 'Guatemala', Pais_iso3: 'GTM' }) RETURN p\n",
      "EJECUTADA QRY [37]> CREATE (p  :Pais {name: 'Guinea', Pais_iso3: 'GIN' }) RETURN p\n",
      "EJECUTADA QRY [38]> CREATE (p  :Pais {name: 'Guyana', Pais_iso3: 'GUY' }) RETURN p\n",
      "EJECUTADA QRY [39]> CREATE (p  :Pais {name: 'Hong Kong', Pais_iso3: 'HKG' }) RETURN p\n",
      "EJECUTADA QRY [40]> CREATE (p  :Pais {name: 'Hungary', Pais_iso3: 'HUN' }) RETURN p\n",
      "EJECUTADA QRY [41]> CREATE (p  :Pais {name: 'Iceland', Pais_iso3: 'ISL' }) RETURN p\n",
      "EJECUTADA QRY [42]> CREATE (p  :Pais {name: 'India', Pais_iso3: 'IND' }) RETURN p\n",
      "EJECUTADA QRY [43]> CREATE (p  :Pais {name: 'Indonesia', Pais_iso3: 'IDN' }) RETURN p\n",
      "EJECUTADA QRY [44]> CREATE (p  :Pais {name: 'Iran, Islamic Rep.', Pais_iso3: 'IRN' }) RETURN p\n",
      "EJECUTADA QRY [45]> CREATE (p  :Pais {name: 'Iraq', Pais_iso3: 'IRQ' }) RETURN p\n",
      "EJECUTADA QRY [46]> CREATE (p  :Pais {name: 'Ireland', Pais_iso3: 'IRL' }) RETURN p\n",
      "EJECUTADA QRY [47]> CREATE (p  :Pais {name: 'Israel', Pais_iso3: 'ISR' }) RETURN p\n",
      "EJECUTADA QRY [48]> CREATE (p  :Pais {name: 'Italy', Pais_iso3: 'ITA' }) RETURN p\n",
      "EJECUTADA QRY [49]> CREATE (p  :Pais {name: 'Jamaica', Pais_iso3: 'JAM' }) RETURN p\n",
      "EJECUTADA QRY [50]> CREATE (p  :Pais {name: 'Japan', Pais_iso3: 'JPN' }) RETURN p\n",
      "EJECUTADA QRY [51]> CREATE (p  :Pais {name: 'Jordan', Pais_iso3: 'JOR' }) RETURN p\n",
      "EJECUTADA QRY [52]> CREATE (p  :Pais {name: 'Kazakhstan', Pais_iso3: 'KAZ' }) RETURN p\n",
      "EJECUTADA QRY [53]> CREATE (p  :Pais {name: 'Kenya', Pais_iso3: 'KEN' }) RETURN p\n",
      "EJECUTADA QRY [54]> CREATE (p  :Pais {name: 'Korea, Dem. Rep.', Pais_iso3: 'PRK' }) RETURN p\n",
      "EJECUTADA QRY [55]> CREATE (p  :Pais {name: 'Korea, Rep.', Pais_iso3: 'KOR' }) RETURN p\n",
      "EJECUTADA QRY [56]> CREATE (p  :Pais {name: 'Kuwait', Pais_iso3: 'KWT' }) RETURN p\n",
      "EJECUTADA QRY [57]> CREATE (p  :Pais {name: 'Kyrgyz Republic', Pais_iso3: 'KGZ' }) RETURN p\n",
      "EJECUTADA QRY [58]> CREATE (p  :Pais {name: 'Lao Pdr', Pais_iso3: 'LAO' }) RETURN p\n",
      "EJECUTADA QRY [59]> CREATE (p  :Pais {name: 'Lithuania', Pais_iso3: 'LTU' }) RETURN p\n",
      "EJECUTADA QRY [60]> CREATE (p  :Pais {name: 'Liberia', Pais_iso3: 'LBR' }) RETURN p\n",
      "EJECUTADA QRY [61]> CREATE (p  :Pais {name: 'Madagascar', Pais_iso3: 'MDG' }) RETURN p\n",
      "EJECUTADA QRY [62]> CREATE (p  :Pais {name: 'Malaysia', Pais_iso3: 'MYS' }) RETURN p\n",
      "EJECUTADA QRY [63]> CREATE (p  :Pais {name: 'Mali', Pais_iso3: 'MLI' }) RETURN p\n",
      "EJECUTADA QRY [64]> CREATE (p  :Pais {name: 'Mexico', Pais_iso3: 'MEX' }) RETURN p\n",
      "EJECUTADA QRY [65]> CREATE (p  :Pais {name: 'Mongolia', Pais_iso3: 'MNG' }) RETURN p\n",
      "EJECUTADA QRY [66]> CREATE (p  :Pais {name: 'Morocco', Pais_iso3: 'MAR' }) RETURN p\n",
      "EJECUTADA QRY [67]> CREATE (p  :Pais {name: 'Mozambique', Pais_iso3: 'MOZ' }) RETURN p\n",
      "EJECUTADA QRY [68]> CREATE (p  :Pais {name: 'Myanmar', Pais_iso3: 'MMR' }) RETURN p\n",
      "EJECUTADA QRY [69]> CREATE (p  :Pais {name: 'Namibia', Pais_iso3: 'NAM' }) RETURN p\n",
      "EJECUTADA QRY [70]> CREATE (p  :Pais {name: 'Netherlands', Pais_iso3: 'NLD' }) RETURN p\n",
      "EJECUTADA QRY [71]> CREATE (p  :Pais {name: 'New Caledonia', Pais_iso3: 'NCL' }) RETURN p\n",
      "EJECUTADA QRY [72]> CREATE (p  :Pais {name: 'Nigeria', Pais_iso3: 'NGA' }) RETURN p\n",
      "EJECUTADA QRY [73]> CREATE (p  :Pais {name: 'Norway', Pais_iso3: 'NOR' }) RETURN p\n",
      "EJECUTADA QRY [74]> CREATE (p  :Pais {name: 'Oman', Pais_iso3: 'OMN' }) RETURN p\n",
      "EJECUTADA QRY [75]> CREATE (p  :Pais {name: 'Others', Pais_iso3: 'OTHS' }) RETURN p\n",
      "EJECUTADA QRY [76]> CREATE (p  :Pais {name: 'Other EU', Pais_iso3: 'OTHEU' }) RETURN p\n",
      "EJECUTADA QRY [77]> CREATE (p  :Pais {name: 'Other non EU', Pais_iso3: 'OTHNOEU' }) RETURN p\n",
      "EJECUTADA QRY [78]> CREATE (p  :Pais {name: 'Pakistan', Pais_iso3: 'PAK' }) RETURN p\n",
      "EJECUTADA QRY [79]> CREATE (p  :Pais {name: 'Panama', Pais_iso3: 'PAN' }) RETURN p\n",
      "EJECUTADA QRY [80]> CREATE (p  :Pais {name: 'Papua New Guinea', Pais_iso3: 'PNG' }) RETURN p\n",
      "EJECUTADA QRY [81]> CREATE (p  :Pais {name: 'Peru', Pais_iso3: 'PER' }) RETURN p\n",
      "EJECUTADA QRY [82]> CREATE (p  :Pais {name: 'Philippines', Pais_iso3: 'PHL' }) RETURN p\n",
      "EJECUTADA QRY [83]> CREATE (p  :Pais {name: 'Poland', Pais_iso3: 'POL' }) RETURN p\n",
      "EJECUTADA QRY [84]> CREATE (p  :Pais {name: 'Portugal', Pais_iso3: 'PRT' }) RETURN p\n",
      "EJECUTADA QRY [85]> CREATE (p  :Pais {name: 'Qatar', Pais_iso3: 'QAT' }) RETURN p\n",
      "EJECUTADA QRY [86]> CREATE (p  :Pais {name: 'Russian Federation', Pais_iso3: 'RUS' }) RETURN p\n",
      "EJECUTADA QRY [87]> CREATE (p  :Pais {name: 'Rwanda', Pais_iso3: 'RWA' }) RETURN p\n",
      "EJECUTADA QRY [88]> CREATE (p  :Pais {name: 'Saudi Arabia', Pais_iso3: 'SAU' }) RETURN p\n",
      "EJECUTADA QRY [89]> CREATE (p  :Pais {name: 'Senegal', Pais_iso3: 'SEN' }) RETURN p\n",
      "EJECUTADA QRY [90]> CREATE (p  :Pais {name: 'Sierra Leone', Pais_iso3: 'SLE' }) RETURN p\n"
     ]
    }
   ],
   "source": [
    "# Crear un nodo por cada fila con sus propiedades\n",
    "#nodos de PAIS,\n",
    "# CREAR NODOS: \"Pais\" \n",
    "## query para crea nodo con sus  propiedades\n",
    "TipoNodo = \" :Pais \" \n",
    "for i in range(0, nFilas):\n",
    "    strQry = \"CREATE (p \" + TipoNodo                                             \\\n",
    "        + \"{\"                                                                    \\\n",
    "        + \"name: '\" + dfPaises.Pais[i] + \"', \"                                   \\\n",
    "        + dfPaises.columns[1] + \": \" + \"'\" + dfPaises.Pais_iso3[i]               \\\n",
    "                + \"' })\"                                                         \\\n",
    "        + \" RETURN p\" \n",
    "#ejecutar Query en BD abierta - Neo4j\n",
    "    graph_test01.run(strQry)\n",
    "#Visualizar Query ejecutada \n",
    "    print(\"EJECUTADA QRY [\" + str(i) + \"]> \"+ strQry)\n",
    "# nodos creados"
   ]
  },
  {
   "cell_type": "code",
   "execution_count": 74,
   "id": "8e97ade6",
   "metadata": {},
   "outputs": [],
   "source": [
    "dfGraphMat= graph_test01.run(\"MATCH (n :Pais ) RETURN n\").data()"
   ]
  },
  {
   "cell_type": "code",
   "execution_count": 75,
   "id": "0726943c",
   "metadata": {},
   "outputs": [
    {
     "data": {
      "text/plain": [
       "{'n': Node('Pais', Pais_iso3='DZA', name='Algeria')}"
      ]
     },
     "execution_count": 75,
     "metadata": {},
     "output_type": "execute_result"
    }
   ],
   "source": [
    "dfGraphMat[0]\n"
   ]
  },
  {
   "cell_type": "code",
   "execution_count": 79,
   "id": "f37f5bdb",
   "metadata": {
    "scrolled": true
   },
   "outputs": [
    {
     "data": {
      "text/html": [
       "<table><tr><th>LABELS(n)</th><th>COUNT(n)</th></tr><tr><td style=\"text-align:left\">[&#039;Pais&#039;]</td><td style=\"text-align:right\">91</td></tr></table>"
      ],
      "text/plain": [
       " LABELS(n) | COUNT(n) \n",
       "-----------|----------\n",
       " ['Pais']  |       91 "
      ]
     },
     "execution_count": 79,
     "metadata": {},
     "output_type": "execute_result"
    }
   ],
   "source": [
    "#validamos que todos los -nuevos- nodos se han creado :Pais  \n",
    "graph_test01.run(\"MATCH (n :Pais) RETURN  LABELS(n), COUNT(n)\")"
   ]
  },
  {
   "cell_type": "code",
   "execution_count": 80,
   "id": "692a91c0",
   "metadata": {},
   "outputs": [
    {
     "data": {
      "text/html": [
       "<table><tr><th>name</th><th>Ntotal</th></tr><tr><td style=\"text-align:left\">MaterialB</td><td style=\"text-align:right\">78</td></tr><tr><td style=\"text-align:left\">MaterialREF</td><td style=\"text-align:right\">78</td></tr><tr><td style=\"text-align:left\">Pais</td><td style=\"text-align:right\">91</td></tr></table>"
      ],
      "text/plain": [
       " name        | Ntotal \n",
       "-------------|--------\n",
       " MaterialB   |     78 \n",
       " MaterialREF |     78 \n",
       " Pais        |     91 "
      ]
     },
     "execution_count": 80,
     "metadata": {},
     "output_type": "execute_result"
    }
   ],
   "source": [
    "#validamos que todos los nodos se han creado (hasta este paso)\n",
    "queryPRB= \"MATCH (n)                                    \\\n",
    "RETURN labels (n)[0] as name, count (n) as Ntotal       \\\n",
    "UNION MATCH (n)                                         \\\n",
    "WITH labels (n)[1] as name, count (n) as Ntotal         \\\n",
    "WHERE name IS NOT NULL                                  \\\n",
    "RETURN name, Ntotal                                     \\\n",
    "UNION MATCH (n)                                         \\\n",
    "WITH labels (n)[2] as name, count (n) as Ntotal         \\\n",
    "WHERE name IS NOT NULL                                  \\\n",
    "RETURN  name, Ntotal                                    \\\n",
    "\"\n",
    "graph_test01.run(queryPRB)\n"
   ]
  },
  {
   "cell_type": "markdown",
   "id": "aee44cef",
   "metadata": {},
   "source": [
    "# fin proceso - PAISes- CREADOS"
   ]
  },
  {
   "cell_type": "code",
   "execution_count": 81,
   "id": "df4c6f03",
   "metadata": {},
   "outputs": [],
   "source": [
    "# fin archivo"
   ]
  }
 ],
 "metadata": {
  "kernelspec": {
   "display_name": "Python 3 (ipykernel)",
   "language": "python",
   "name": "python3"
  },
  "language_info": {
   "codemirror_mode": {
    "name": "ipython",
    "version": 3
   },
   "file_extension": ".py",
   "mimetype": "text/x-python",
   "name": "python",
   "nbconvert_exporter": "python",
   "pygments_lexer": "ipython3",
   "version": "3.7.1"
  }
 },
 "nbformat": 4,
 "nbformat_minor": 5
}
