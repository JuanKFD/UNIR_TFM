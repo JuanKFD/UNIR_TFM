{
 "cells": [
  {
   "cell_type": "markdown",
   "id": "8f9b66a4",
   "metadata": {},
   "source": [
    "# TFM Suministro Global - Materiales - Neo4j - py2neo "
   ]
  },
  {
   "cell_type": "markdown",
   "id": "fe7813af",
   "metadata": {},
   "source": [
    "## Partimos de la existencia, en paralelo a esta ejecución, de una instancia levantada y accesible de Neo4j  \n",
    "### La primera vez que se quiera usar _py2neo_ erá  necesario asegurar su instalación:  _!pip install py2neo_"
   ]
  },
  {
   "cell_type": "code",
   "execution_count": 1,
   "id": "7b420b33",
   "metadata": {
    "scrolled": true
   },
   "outputs": [
    {
     "name": "stdout",
     "output_type": "stream",
     "text": [
      "Collecting py2neo\n",
      "  Downloading py2neo-2021.2.3-py2.py3-none-any.whl (177 kB)\n",
      "Requirement already satisfied: packaging in c:\\users\\jucar\\anaconda3\\envs\\rstudio\\lib\\site-packages (from py2neo) (21.3)\n",
      "Requirement already satisfied: urllib3 in c:\\users\\jucar\\anaconda3\\envs\\rstudio\\lib\\site-packages (from py2neo) (1.26.7)\n",
      "Collecting monotonic\n",
      "  Downloading monotonic-1.6-py2.py3-none-any.whl (8.2 kB)\n",
      "Requirement already satisfied: pygments>=2.0.0 in c:\\users\\jucar\\anaconda3\\envs\\rstudio\\lib\\site-packages (from py2neo) (2.10.0)\n",
      "Requirement already satisfied: six>=1.15.0 in c:\\users\\jucar\\anaconda3\\envs\\rstudio\\lib\\site-packages (from py2neo) (1.16.0)\n",
      "Collecting interchange~=2021.0.4\n",
      "  Downloading interchange-2021.0.4-py2.py3-none-any.whl (28 kB)\n",
      "Collecting pansi>=2020.7.3\n",
      "  Downloading pansi-2020.7.3-py2.py3-none-any.whl (10 kB)\n",
      "Requirement already satisfied: certifi in c:\\users\\jucar\\anaconda3\\envs\\rstudio\\lib\\site-packages (from py2neo) (2021.10.8)\n",
      "Requirement already satisfied: pytz in c:\\users\\jucar\\anaconda3\\envs\\rstudio\\lib\\site-packages (from interchange~=2021.0.4->py2neo) (2021.3)\n",
      "Requirement already satisfied: pyparsing!=3.0.5,>=2.0.2 in c:\\users\\jucar\\anaconda3\\envs\\rstudio\\lib\\site-packages (from packaging->py2neo) (3.0.4)\n",
      "Installing collected packages: pansi, monotonic, interchange, py2neo\n",
      "Successfully installed interchange-2021.0.4 monotonic-1.6 pansi-2020.7.3 py2neo-2021.2.3\n"
     ]
    }
   ],
   "source": [
    "##!pip install py2neo "
   ]
  },
  {
   "cell_type": "code",
   "execution_count": 2,
   "id": "6d9f652c",
   "metadata": {},
   "outputs": [],
   "source": [
    "#importar la librería para poder hacer uso de sus funcionalidades y objetos\n",
    "from py2neo import *"
   ]
  },
  {
   "cell_type": "code",
   "execution_count": 3,
   "id": "dc45043b",
   "metadata": {},
   "outputs": [],
   "source": [
    "#acceder a la instancia levantada de Neo4j - en nuestro caso instancia Docker - asignamos credenciales de autentificación -\n",
    "graph_test01 = Graph(auth=('neo4j', 's3cr3t'))"
   ]
  },
  {
   "cell_type": "code",
   "execution_count": 4,
   "id": "0bdda4f9",
   "metadata": {},
   "outputs": [
    {
     "data": {
      "text/plain": [
       "Graph('bolt://localhost:7687')"
      ]
     },
     "execution_count": 4,
     "metadata": {},
     "output_type": "execute_result"
    }
   ],
   "source": [
    "#que es el objeto - graph_test01\n",
    "graph_test01"
   ]
  },
  {
   "cell_type": "code",
   "execution_count": 5,
   "id": "ae88b5a3",
   "metadata": {},
   "outputs": [],
   "source": [
    "#que es el objeto - tx\n",
    "tx = graph_test01.begin()"
   ]
  },
  {
   "cell_type": "code",
   "execution_count": 6,
   "id": "07d7aa84",
   "metadata": {},
   "outputs": [
    {
     "data": {
      "text/plain": [
       "<py2neo.database.Transaction at 0x204ebb15b38>"
      ]
     },
     "execution_count": 6,
     "metadata": {},
     "output_type": "execute_result"
    }
   ],
   "source": [
    "tx"
   ]
  },
  {
   "cell_type": "code",
   "execution_count": 7,
   "id": "b5ee1622",
   "metadata": {
    "scrolled": false
   },
   "outputs": [
    {
     "data": {
      "text/html": [
       "<table><tr><th>n</th></tr><tr><td style=\"text-align:left\">(_0:MaterialB {Mat_Abrev: &#039;GBrt&#039;, Mat_Familia: &#039;General&#039;, Mat_Subfamilia: &#039;Industrial &amp; constr. minerals&#039;, name: &#039;Baryte&#039;})</td></tr><tr><td style=\"text-align:left\">(_1:MaterialB {Mat_Abrev: &#039;Bx&#039;, Mat_Familia: &#039;General&#039;, Mat_Subfamilia: &#039;Other non-ferrous metals&#039;, name: &#039;Bauxite&#039;})</td></tr></table>"
      ],
      "text/plain": [
       " n                                                                                                                           \n",
       "-----------------------------------------------------------------------------------------------------------------------------\n",
       " (_0:MaterialB {Mat_Abrev: 'GBrt', Mat_Familia: 'General', Mat_Subfamilia: 'Industrial & constr. minerals', name: 'Baryte'}) \n",
       " (_1:MaterialB {Mat_Abrev: 'Bx', Mat_Familia: 'General', Mat_Subfamilia: 'Other non-ferrous metals', name: 'Bauxite'})       "
      ]
     },
     "execution_count": 7,
     "metadata": {},
     "output_type": "execute_result"
    }
   ],
   "source": [
    "#query de conexión de prueba sin errores\n",
    "queryPRB= \"MATCH (n) RETURN n LIMIT 2\"\n",
    "graph_test01.run(queryPRB)"
   ]
  },
  {
   "cell_type": "markdown",
   "id": "27083405",
   "metadata": {},
   "source": [
    "## CARGAR DATOS"
   ]
  },
  {
   "cell_type": "code",
   "execution_count": 8,
   "id": "ae0e1afa",
   "metadata": {},
   "outputs": [],
   "source": [
    "import numpy as np    #datos y operativa álgegra y matrices de n dimensiones (arrays)\n",
    "import pandas as pd   #carga dataset y manipulación de datos  y dataframes"
   ]
  },
  {
   "cell_type": "code",
   "execution_count": 9,
   "id": "4e018e0b",
   "metadata": {},
   "outputs": [],
   "source": [
    "#DATOS: Fichero completo de MATERIAS PRIMAS CRÍTICAS en el suministro GLOBAL - Atendiendo al alcance del estudio - EU CRM 2020\n",
    "#FICHERO: GLMateriales_cargar.csv\n",
    "#CONTENIDO: Materiales \n",
    "#USO: Crear los NODOS de tipo \"MaterialB\" - Material bruto y \"MaterialREF\" - Material Refinado) \n",
    "## -- propiedades de cada material: nombre, abreviatura, familia y subfamilia \n",
    "## -- los datos de suministro -posteriores- fijarán las relaciones entre materiales, países proveedores y usos del material \n",
    "rutaFichero =  \"https://raw.githubusercontent.com/JuanKFD/UNIR_TFM/d10cd756788ce5e4b93f6b5c7ca4d40cb4aed297/GLMateriales_cargar.csv\" \n",
    "dfMateriales = pd.read_csv(rutaFichero, sep=';')\n"
   ]
  },
  {
   "cell_type": "code",
   "execution_count": 10,
   "id": "a9bde14d",
   "metadata": {
    "scrolled": true
   },
   "outputs": [
    {
     "data": {
      "text/html": [
       "<div>\n",
       "<style scoped>\n",
       "    .dataframe tbody tr th:only-of-type {\n",
       "        vertical-align: middle;\n",
       "    }\n",
       "\n",
       "    .dataframe tbody tr th {\n",
       "        vertical-align: top;\n",
       "    }\n",
       "\n",
       "    .dataframe thead th {\n",
       "        text-align: right;\n",
       "    }\n",
       "</style>\n",
       "<table border=\"1\" class=\"dataframe\">\n",
       "  <thead>\n",
       "    <tr style=\"text-align: right;\">\n",
       "      <th></th>\n",
       "      <th>Material</th>\n",
       "      <th>Mat_Abrev</th>\n",
       "      <th>Mat_Familia</th>\n",
       "      <th>Mat_Subfamilia</th>\n",
       "    </tr>\n",
       "  </thead>\n",
       "  <tbody>\n",
       "    <tr>\n",
       "      <th>0</th>\n",
       "      <td>Aluminium</td>\n",
       "      <td>Al</td>\n",
       "      <td>General</td>\n",
       "      <td>Other non-ferrous metals</td>\n",
       "    </tr>\n",
       "    <tr>\n",
       "      <th>1</th>\n",
       "      <td>Antimony</td>\n",
       "      <td>Sb</td>\n",
       "      <td>General</td>\n",
       "      <td>Other non-ferrous metals</td>\n",
       "    </tr>\n",
       "    <tr>\n",
       "      <th>2</th>\n",
       "      <td>Arsenic</td>\n",
       "      <td>As</td>\n",
       "      <td>General</td>\n",
       "      <td>Other non-ferrous metals</td>\n",
       "    </tr>\n",
       "    <tr>\n",
       "      <th>3</th>\n",
       "      <td>Baryte</td>\n",
       "      <td>GBrt</td>\n",
       "      <td>General</td>\n",
       "      <td>Industrial &amp; constr. minerals</td>\n",
       "    </tr>\n",
       "    <tr>\n",
       "      <th>4</th>\n",
       "      <td>Bauxite</td>\n",
       "      <td>Bx</td>\n",
       "      <td>General</td>\n",
       "      <td>Other non-ferrous metals</td>\n",
       "    </tr>\n",
       "  </tbody>\n",
       "</table>\n",
       "</div>"
      ],
      "text/plain": [
       "    Material Mat_Abrev Mat_Familia                 Mat_Subfamilia\n",
       "0  Aluminium        Al     General       Other non-ferrous metals\n",
       "1   Antimony        Sb     General       Other non-ferrous metals\n",
       "2    Arsenic        As     General       Other non-ferrous metals\n",
       "3     Baryte      GBrt     General  Industrial & constr. minerals\n",
       "4    Bauxite        Bx     General       Other non-ferrous metals"
      ]
     },
     "execution_count": 10,
     "metadata": {},
     "output_type": "execute_result"
    }
   ],
   "source": [
    "dfMateriales.head()"
   ]
  },
  {
   "cell_type": "code",
   "execution_count": 11,
   "id": "3785a1e2",
   "metadata": {},
   "outputs": [
    {
     "data": {
      "text/html": [
       "<div>\n",
       "<style scoped>\n",
       "    .dataframe tbody tr th:only-of-type {\n",
       "        vertical-align: middle;\n",
       "    }\n",
       "\n",
       "    .dataframe tbody tr th {\n",
       "        vertical-align: top;\n",
       "    }\n",
       "\n",
       "    .dataframe thead th {\n",
       "        text-align: right;\n",
       "    }\n",
       "</style>\n",
       "<table border=\"1\" class=\"dataframe\">\n",
       "  <thead>\n",
       "    <tr style=\"text-align: right;\">\n",
       "      <th></th>\n",
       "      <th>Material</th>\n",
       "      <th>Mat_Abrev</th>\n",
       "      <th>Mat_Familia</th>\n",
       "      <th>Mat_Subfamilia</th>\n",
       "    </tr>\n",
       "  </thead>\n",
       "  <tbody>\n",
       "    <tr>\n",
       "      <th>73</th>\n",
       "      <td>Tungsten</td>\n",
       "      <td>W</td>\n",
       "      <td>General</td>\n",
       "      <td>Iron and ferro-alloy metals</td>\n",
       "    </tr>\n",
       "    <tr>\n",
       "      <th>74</th>\n",
       "      <td>Vanadium</td>\n",
       "      <td>V</td>\n",
       "      <td>General</td>\n",
       "      <td>Iron and ferro-alloy metals</td>\n",
       "    </tr>\n",
       "    <tr>\n",
       "      <th>75</th>\n",
       "      <td>Yttrium</td>\n",
       "      <td>Y</td>\n",
       "      <td>Rare earths</td>\n",
       "      <td>HREEs-Heavy</td>\n",
       "    </tr>\n",
       "    <tr>\n",
       "      <th>76</th>\n",
       "      <td>Zinc</td>\n",
       "      <td>Zn</td>\n",
       "      <td>General</td>\n",
       "      <td>Other non-ferrous metals</td>\n",
       "    </tr>\n",
       "    <tr>\n",
       "      <th>77</th>\n",
       "      <td>Zirconium</td>\n",
       "      <td>Zr</td>\n",
       "      <td>General</td>\n",
       "      <td>Other non-ferrous metals</td>\n",
       "    </tr>\n",
       "  </tbody>\n",
       "</table>\n",
       "</div>"
      ],
      "text/plain": [
       "     Material Mat_Abrev  Mat_Familia               Mat_Subfamilia\n",
       "73   Tungsten         W      General  Iron and ferro-alloy metals\n",
       "74   Vanadium         V      General  Iron and ferro-alloy metals\n",
       "75    Yttrium         Y  Rare earths                  HREEs-Heavy\n",
       "76       Zinc        Zn      General     Other non-ferrous metals\n",
       "77  Zirconium        Zr      General     Other non-ferrous metals"
      ]
     },
     "execution_count": 11,
     "metadata": {},
     "output_type": "execute_result"
    }
   ],
   "source": [
    "dfMateriales.tail()"
   ]
  },
  {
   "cell_type": "code",
   "execution_count": 12,
   "id": "3c0a0050",
   "metadata": {
    "scrolled": true
   },
   "outputs": [
    {
     "data": {
      "text/plain": [
       "(78, 4)"
      ]
     },
     "execution_count": 12,
     "metadata": {},
     "output_type": "execute_result"
    }
   ],
   "source": [
    "dfMateriales.shape"
   ]
  },
  {
   "cell_type": "code",
   "execution_count": 13,
   "id": "49d80c1d",
   "metadata": {},
   "outputs": [
    {
     "data": {
      "text/plain": [
       "78"
      ]
     },
     "execution_count": 13,
     "metadata": {},
     "output_type": "execute_result"
    }
   ],
   "source": [
    "dfMateriales.shape[0]"
   ]
  },
  {
   "cell_type": "code",
   "execution_count": 14,
   "id": "51ad4ccd",
   "metadata": {},
   "outputs": [
    {
     "data": {
      "text/plain": [
       "Index(['Material', 'Mat_Abrev', 'Mat_Familia', 'Mat_Subfamilia'], dtype='object')"
      ]
     },
     "execution_count": 14,
     "metadata": {},
     "output_type": "execute_result"
    }
   ],
   "source": [
    "dfMateriales.columns"
   ]
  },
  {
   "cell_type": "code",
   "execution_count": 15,
   "id": "7b99516a",
   "metadata": {},
   "outputs": [],
   "source": [
    "nFilas = dfMateriales.shape[0]"
   ]
  },
  {
   "cell_type": "code",
   "execution_count": 16,
   "id": "9f85e8c0",
   "metadata": {},
   "outputs": [
    {
     "data": {
      "text/plain": [
       "78"
      ]
     },
     "execution_count": 16,
     "metadata": {},
     "output_type": "execute_result"
    }
   ],
   "source": [
    "nFilas"
   ]
  },
  {
   "cell_type": "markdown",
   "id": "7dc58317",
   "metadata": {},
   "source": [
    "# PREVISUALIZACION DE DATOS - MATERIALES\n",
    "a = Node(\"Material\", name=dfMateriales.Material[i])"
   ]
  },
  {
   "cell_type": "code",
   "execution_count": 17,
   "id": "f0f87545",
   "metadata": {},
   "outputs": [
    {
     "name": "stdout",
     "output_type": "stream",
     "text": [
      "Aluminium\n",
      "Al\n",
      "General\n",
      "Other non-ferrous metals\n",
      "Antimony\n",
      "Sb\n",
      "General\n",
      "Other non-ferrous metals\n",
      "Arsenic\n",
      "As\n",
      "General\n",
      "Other non-ferrous metals\n",
      "Baryte\n",
      "GBrt\n",
      "General\n",
      "Industrial & constr. minerals\n",
      "Bauxite\n",
      "Bx\n",
      "General\n",
      "Other non-ferrous metals\n",
      "Bentonite\n",
      "GBn\n",
      "General\n",
      "Industrial & constr. minerals\n",
      "Beryllium\n",
      "Be\n",
      "General\n",
      "Other non-ferrous metals\n",
      "Bismuth\n",
      "Bi\n",
      "General\n",
      "Other non-ferrous metals\n",
      "Borate\n",
      "Gbo\n",
      "General\n",
      "Industrial & constr. minerals\n",
      "Cadmium\n",
      "Cd\n",
      "General\n",
      "Other non-ferrous metals\n",
      "Cerium\n",
      "Ce\n",
      "Rare earths\n",
      "LREEs-Light\n",
      "Chromium\n",
      "Cr\n",
      "General\n",
      "Iron and ferro-alloy metals\n",
      "Cobalt\n",
      "Co\n",
      "General\n",
      "Iron and ferro-alloy metals\n",
      "Coking coal\n",
      "GCc\n",
      "General\n",
      "Bio and other materials\n",
      "Copper\n",
      "Cu\n",
      "General\n",
      "Other non-ferrous metals\n",
      "Diatomite\n",
      "Di\n",
      "General\n",
      "Industrial & constr. minerals\n",
      "Dysprosium\n",
      "Dy\n",
      "Rare earths\n",
      "HREEs-Heavy\n",
      "Erbium\n",
      "Er\n",
      "Rare earths\n",
      "HREEs-Heavy\n",
      "Europium\n",
      "Eu\n",
      "Rare earths\n",
      "HREEs-Heavy\n",
      "Feldspar\n",
      "Fsp\n",
      "General\n",
      "Industrial & constr. minerals\n",
      "Fluorspar\n",
      "Fl\n",
      "General\n",
      "Industrial & constr. minerals\n",
      "Gadolinium\n",
      "Gd\n",
      "Rare earths\n",
      "HREEs-Heavy\n",
      "Gallium\n",
      "Ga\n",
      "General\n",
      "Other non-ferrous metals\n",
      "Germanium\n",
      "Ge\n",
      "General\n",
      "Other non-ferrous metals\n",
      "Gold\n",
      "Au\n",
      "Precious metals\n",
      "General\n",
      "Gypsum\n",
      "Gp\n",
      "General\n",
      "Industrial & constr. minerals\n",
      "Hafnium\n",
      "Hf\n",
      "General\n",
      "Other non-ferrous metals\n",
      "Helium\n",
      "He\n",
      "General\n",
      "Bio and other materials\n",
      "Ho, Tm, Lu, Yb\n",
      "HoTmLuYb\n",
      "Rare earths\n",
      "HREEs-Heavy\n",
      "Indium\n",
      "In\n",
      "General\n",
      "Other non-ferrous metals\n",
      "Iridium\n",
      "Ir\n",
      "Precious metals\n",
      "PGM-Platinum Group Metals\n",
      "Iron ore\n",
      "Fe\n",
      "General\n",
      "Iron and ferro-alloy metals\n",
      "Kaolin clay\n",
      "Kc\n",
      "General\n",
      "Industrial & constr. minerals\n",
      "Lanthanum\n",
      "La\n",
      "Rare earths\n",
      "LREEs-Light\n",
      "Lead\n",
      "Pb\n",
      "General\n",
      "Other non-ferrous metals\n",
      "Limestone\n",
      "Ls\n",
      "General\n",
      "Industrial & constr. minerals\n",
      "Lithium\n",
      "Li\n",
      "General\n",
      "Other non-ferrous metals\n",
      "Magnesite\n",
      "Mgs\n",
      "General\n",
      "Industrial & constr. minerals\n",
      "Magnesium\n",
      "Mg\n",
      "General\n",
      "Other non-ferrous metals\n",
      "Manganese\n",
      "Mn\n",
      "General\n",
      "Iron and ferro-alloy metals\n",
      "Molybdenum\n",
      "Mo\n",
      "General\n",
      "Iron and ferro-alloy metals\n",
      "Natural cork\n",
      "GNC\n",
      "General\n",
      "Bio and other materials\n",
      "Natural graphite\n",
      "GGr\n",
      "General\n",
      "Industrial & constr. minerals\n",
      "Natural Rubber\n",
      "GNr\n",
      "General\n",
      "Bio and other materials\n",
      "Natural Teak wood\n",
      "GNt\n",
      "General\n",
      "Bio and other materials\n",
      "Neodymium\n",
      "Nd\n",
      "Rare earths\n",
      "LREEs-Light\n",
      "Nickel\n",
      "Ni\n",
      "General\n",
      "Iron and ferro-alloy metals\n",
      "Niobium\n",
      "Nb\n",
      "General\n",
      "Iron and ferro-alloy metals\n",
      "Palladium\n",
      "Pd\n",
      "Precious metals\n",
      "PGM-Platinum Group Metals\n",
      "Perlite\n",
      "Pe\n",
      "General\n",
      "Industrial & constr. minerals\n",
      "Phosphate rock\n",
      "Phs\n",
      "General\n",
      "Industrial & constr. minerals\n",
      "Phosphorus\n",
      "P\n",
      "General\n",
      "Industrial & constr. minerals\n",
      "Platinum\n",
      "Pl\n",
      "Precious metals\n",
      "PGM-Platinum Group Metals\n",
      "Potash\n",
      "Po\n",
      "General\n",
      "Industrial & constr. minerals\n",
      "Praseodymium\n",
      "Pr\n",
      "Rare earths\n",
      "LREEs-Light\n",
      "Rhenium\n",
      "Re\n",
      "General\n",
      "Other non-ferrous metals\n",
      "Rhodium\n",
      "Rh\n",
      "Precious metals\n",
      "PGM-Platinum Group Metals\n",
      "Ruthenium\n",
      "Ru\n",
      "Precious metals\n",
      "PGM-Platinum Group Metals\n",
      "Samarium\n",
      "Sm\n",
      "Rare earths\n",
      "LREEs-Light\n",
      "Sapele wood\n",
      "GSw\n",
      "General\n",
      "Bio and other materials\n",
      "Scandium\n",
      "Sc\n",
      "Rare earths\n",
      "HREEs-Heavy\n",
      "Selenium\n",
      "Se\n",
      "General\n",
      "Other non-ferrous metals\n",
      "Silica sand\n",
      "Sl\n",
      "General\n",
      "Industrial & constr. minerals\n",
      "Silicon metal\n",
      "Si\n",
      "General\n",
      "Other non-ferrous metals\n",
      "Silver\n",
      "Ag\n",
      "Precious metals\n",
      "General\n",
      "Strontium\n",
      "Sr\n",
      "General\n",
      "Other non-ferrous metals\n",
      "Sulphur\n",
      "S\n",
      "General\n",
      "Industrial & constr. minerals\n",
      "Talc\n",
      "Tc\n",
      "General\n",
      "Industrial & constr. minerals\n",
      "Tantalum\n",
      "Ta\n",
      "General\n",
      "Iron and ferro-alloy metals\n",
      "Tellurium\n",
      "Te\n",
      "General\n",
      "Other non-ferrous metals\n",
      "Terbium\n",
      "Tb\n",
      "Rare earths\n",
      "HREEs-Heavy\n",
      "Tin\n",
      "Sn\n",
      "General\n",
      "Other non-ferrous metals\n",
      "Titanium\n",
      "Ti\n",
      "General\n",
      "Iron and ferro-alloy metals\n",
      "Tungsten\n",
      "W\n",
      "General\n",
      "Iron and ferro-alloy metals\n",
      "Vanadium\n",
      "V\n",
      "General\n",
      "Iron and ferro-alloy metals\n",
      "Yttrium\n",
      "Y\n",
      "Rare earths\n",
      "HREEs-Heavy\n",
      "Zinc\n",
      "Zn\n",
      "General\n",
      "Other non-ferrous metals\n",
      "Zirconium\n",
      "Zr\n",
      "General\n",
      "Other non-ferrous metals\n"
     ]
    }
   ],
   "source": [
    "for i in range(0, nFilas):\n",
    "    print(dfMateriales.Material[i])\n",
    "    print(dfMateriales.Mat_Abrev[i])\n",
    "    print(dfMateriales.Mat_Familia[i])\n",
    "    print(dfMateriales.Mat_Subfamilia[i])"
   ]
  },
  {
   "cell_type": "code",
   "execution_count": 18,
   "id": "ddde8dc3",
   "metadata": {},
   "outputs": [
    {
     "name": "stdout",
     "output_type": "stream",
     "text": [
      "Material\n",
      "Mat_Abrev\n",
      "Mat_Familia\n",
      "Mat_Subfamilia\n"
     ]
    }
   ],
   "source": [
    "for colName in dfMateriales.columns:\n",
    "    print(colName)"
   ]
  },
  {
   "cell_type": "code",
   "execution_count": 19,
   "id": "cb41a203",
   "metadata": {},
   "outputs": [
    {
     "data": {
      "text/plain": [
       "'Material'"
      ]
     },
     "execution_count": 19,
     "metadata": {},
     "output_type": "execute_result"
    }
   ],
   "source": [
    "dfMateriales.columns[0]"
   ]
  },
  {
   "cell_type": "code",
   "execution_count": 23,
   "id": "bd3533a0",
   "metadata": {
    "scrolled": false
   },
   "outputs": [
    {
     "name": "stdout",
     "output_type": "stream",
     "text": [
      "QRY [0]> CREATE (m  :MaterialREF {name: 'Aluminium_REF', Mat_Abrev: 'Al', Mat_Familia: 'General', Mat_Subfamilia: 'Other non-ferrous metals' }) RETURN m\n",
      "QRY [1]> CREATE (m  :MaterialREF {name: 'Antimony_REF', Mat_Abrev: 'Sb', Mat_Familia: 'General', Mat_Subfamilia: 'Other non-ferrous metals' }) RETURN m\n",
      "QRY [2]> CREATE (m  :MaterialREF {name: 'Arsenic_REF', Mat_Abrev: 'As', Mat_Familia: 'General', Mat_Subfamilia: 'Other non-ferrous metals' }) RETURN m\n",
      "QRY [3]> CREATE (m  :MaterialREF {name: 'Baryte_REF', Mat_Abrev: 'GBrt', Mat_Familia: 'General', Mat_Subfamilia: 'Industrial & constr. minerals' }) RETURN m\n",
      "QRY [4]> CREATE (m  :MaterialREF {name: 'Bauxite_REF', Mat_Abrev: 'Bx', Mat_Familia: 'General', Mat_Subfamilia: 'Other non-ferrous metals' }) RETURN m\n",
      "QRY [5]> CREATE (m  :MaterialREF {name: 'Bentonite_REF', Mat_Abrev: 'GBn', Mat_Familia: 'General', Mat_Subfamilia: 'Industrial & constr. minerals' }) RETURN m\n",
      "QRY [6]> CREATE (m  :MaterialREF {name: 'Beryllium_REF', Mat_Abrev: 'Be', Mat_Familia: 'General', Mat_Subfamilia: 'Other non-ferrous metals' }) RETURN m\n",
      "QRY [7]> CREATE (m  :MaterialREF {name: 'Bismuth_REF', Mat_Abrev: 'Bi', Mat_Familia: 'General', Mat_Subfamilia: 'Other non-ferrous metals' }) RETURN m\n",
      "QRY [8]> CREATE (m  :MaterialREF {name: 'Borate_REF', Mat_Abrev: 'Gbo', Mat_Familia: 'General', Mat_Subfamilia: 'Industrial & constr. minerals' }) RETURN m\n",
      "QRY [9]> CREATE (m  :MaterialREF {name: 'Cadmium_REF', Mat_Abrev: 'Cd', Mat_Familia: 'General', Mat_Subfamilia: 'Other non-ferrous metals' }) RETURN m\n",
      "QRY [10]> CREATE (m  :MaterialREF {name: 'Cerium_REF', Mat_Abrev: 'Ce', Mat_Familia: 'Rare earths', Mat_Subfamilia: 'LREEs-Light' }) RETURN m\n",
      "QRY [11]> CREATE (m  :MaterialREF {name: 'Chromium_REF', Mat_Abrev: 'Cr', Mat_Familia: 'General', Mat_Subfamilia: 'Iron and ferro-alloy metals' }) RETURN m\n",
      "QRY [12]> CREATE (m  :MaterialREF {name: 'Cobalt_REF', Mat_Abrev: 'Co', Mat_Familia: 'General', Mat_Subfamilia: 'Iron and ferro-alloy metals' }) RETURN m\n",
      "QRY [13]> CREATE (m  :MaterialREF {name: 'Coking coal_REF', Mat_Abrev: 'GCc', Mat_Familia: 'General', Mat_Subfamilia: 'Bio and other materials' }) RETURN m\n",
      "QRY [14]> CREATE (m  :MaterialREF {name: 'Copper_REF', Mat_Abrev: 'Cu', Mat_Familia: 'General', Mat_Subfamilia: 'Other non-ferrous metals' }) RETURN m\n",
      "QRY [15]> CREATE (m  :MaterialREF {name: 'Diatomite_REF', Mat_Abrev: 'Di', Mat_Familia: 'General', Mat_Subfamilia: 'Industrial & constr. minerals' }) RETURN m\n",
      "QRY [16]> CREATE (m  :MaterialREF {name: 'Dysprosium_REF', Mat_Abrev: 'Dy', Mat_Familia: 'Rare earths', Mat_Subfamilia: 'HREEs-Heavy' }) RETURN m\n",
      "QRY [17]> CREATE (m  :MaterialREF {name: 'Erbium_REF', Mat_Abrev: 'Er', Mat_Familia: 'Rare earths', Mat_Subfamilia: 'HREEs-Heavy' }) RETURN m\n",
      "QRY [18]> CREATE (m  :MaterialREF {name: 'Europium_REF', Mat_Abrev: 'Eu', Mat_Familia: 'Rare earths', Mat_Subfamilia: 'HREEs-Heavy' }) RETURN m\n",
      "QRY [19]> CREATE (m  :MaterialREF {name: 'Feldspar_REF', Mat_Abrev: 'Fsp', Mat_Familia: 'General', Mat_Subfamilia: 'Industrial & constr. minerals' }) RETURN m\n",
      "QRY [20]> CREATE (m  :MaterialREF {name: 'Fluorspar_REF', Mat_Abrev: 'Fl', Mat_Familia: 'General', Mat_Subfamilia: 'Industrial & constr. minerals' }) RETURN m\n",
      "QRY [21]> CREATE (m  :MaterialREF {name: 'Gadolinium_REF', Mat_Abrev: 'Gd', Mat_Familia: 'Rare earths', Mat_Subfamilia: 'HREEs-Heavy' }) RETURN m\n",
      "QRY [22]> CREATE (m  :MaterialREF {name: 'Gallium_REF', Mat_Abrev: 'Ga', Mat_Familia: 'General', Mat_Subfamilia: 'Other non-ferrous metals' }) RETURN m\n",
      "QRY [23]> CREATE (m  :MaterialREF {name: 'Germanium_REF', Mat_Abrev: 'Ge', Mat_Familia: 'General', Mat_Subfamilia: 'Other non-ferrous metals' }) RETURN m\n",
      "QRY [24]> CREATE (m  :MaterialREF {name: 'Gold_REF', Mat_Abrev: 'Au', Mat_Familia: 'Precious metals', Mat_Subfamilia: 'General' }) RETURN m\n",
      "QRY [25]> CREATE (m  :MaterialREF {name: 'Gypsum_REF', Mat_Abrev: 'Gp', Mat_Familia: 'General', Mat_Subfamilia: 'Industrial & constr. minerals' }) RETURN m\n",
      "QRY [26]> CREATE (m  :MaterialREF {name: 'Hafnium_REF', Mat_Abrev: 'Hf', Mat_Familia: 'General', Mat_Subfamilia: 'Other non-ferrous metals' }) RETURN m\n",
      "QRY [27]> CREATE (m  :MaterialREF {name: 'Helium_REF', Mat_Abrev: 'He', Mat_Familia: 'General', Mat_Subfamilia: 'Bio and other materials' }) RETURN m\n",
      "QRY [28]> CREATE (m  :MaterialREF {name: 'Ho, Tm, Lu, Yb_REF', Mat_Abrev: 'HoTmLuYb', Mat_Familia: 'Rare earths', Mat_Subfamilia: 'HREEs-Heavy' }) RETURN m\n",
      "QRY [29]> CREATE (m  :MaterialREF {name: 'Indium_REF', Mat_Abrev: 'In', Mat_Familia: 'General', Mat_Subfamilia: 'Other non-ferrous metals' }) RETURN m\n",
      "QRY [30]> CREATE (m  :MaterialREF {name: 'Iridium_REF', Mat_Abrev: 'Ir', Mat_Familia: 'Precious metals', Mat_Subfamilia: 'PGM-Platinum Group Metals' }) RETURN m\n",
      "QRY [31]> CREATE (m  :MaterialREF {name: 'Iron ore_REF', Mat_Abrev: 'Fe', Mat_Familia: 'General', Mat_Subfamilia: 'Iron and ferro-alloy metals' }) RETURN m\n",
      "QRY [32]> CREATE (m  :MaterialREF {name: 'Kaolin clay_REF', Mat_Abrev: 'Kc', Mat_Familia: 'General', Mat_Subfamilia: 'Industrial & constr. minerals' }) RETURN m\n",
      "QRY [33]> CREATE (m  :MaterialREF {name: 'Lanthanum_REF', Mat_Abrev: 'La', Mat_Familia: 'Rare earths', Mat_Subfamilia: 'LREEs-Light' }) RETURN m\n",
      "QRY [34]> CREATE (m  :MaterialREF {name: 'Lead_REF', Mat_Abrev: 'Pb', Mat_Familia: 'General', Mat_Subfamilia: 'Other non-ferrous metals' }) RETURN m\n",
      "QRY [35]> CREATE (m  :MaterialREF {name: 'Limestone_REF', Mat_Abrev: 'Ls', Mat_Familia: 'General', Mat_Subfamilia: 'Industrial & constr. minerals' }) RETURN m\n",
      "QRY [36]> CREATE (m  :MaterialREF {name: 'Lithium_REF', Mat_Abrev: 'Li', Mat_Familia: 'General', Mat_Subfamilia: 'Other non-ferrous metals' }) RETURN m\n",
      "QRY [37]> CREATE (m  :MaterialREF {name: 'Magnesite_REF', Mat_Abrev: 'Mgs', Mat_Familia: 'General', Mat_Subfamilia: 'Industrial & constr. minerals' }) RETURN m\n",
      "QRY [38]> CREATE (m  :MaterialREF {name: 'Magnesium_REF', Mat_Abrev: 'Mg', Mat_Familia: 'General', Mat_Subfamilia: 'Other non-ferrous metals' }) RETURN m\n",
      "QRY [39]> CREATE (m  :MaterialREF {name: 'Manganese_REF', Mat_Abrev: 'Mn', Mat_Familia: 'General', Mat_Subfamilia: 'Iron and ferro-alloy metals' }) RETURN m\n",
      "QRY [40]> CREATE (m  :MaterialREF {name: 'Molybdenum_REF', Mat_Abrev: 'Mo', Mat_Familia: 'General', Mat_Subfamilia: 'Iron and ferro-alloy metals' }) RETURN m\n",
      "QRY [41]> CREATE (m  :MaterialREF {name: 'Natural cork_REF', Mat_Abrev: 'GNC', Mat_Familia: 'General', Mat_Subfamilia: 'Bio and other materials' }) RETURN m\n",
      "QRY [42]> CREATE (m  :MaterialREF {name: 'Natural graphite_REF', Mat_Abrev: 'GGr', Mat_Familia: 'General', Mat_Subfamilia: 'Industrial & constr. minerals' }) RETURN m\n",
      "QRY [43]> CREATE (m  :MaterialREF {name: 'Natural Rubber_REF', Mat_Abrev: 'GNr', Mat_Familia: 'General', Mat_Subfamilia: 'Bio and other materials' }) RETURN m\n",
      "QRY [44]> CREATE (m  :MaterialREF {name: 'Natural Teak wood_REF', Mat_Abrev: 'GNt', Mat_Familia: 'General', Mat_Subfamilia: 'Bio and other materials' }) RETURN m\n",
      "QRY [45]> CREATE (m  :MaterialREF {name: 'Neodymium_REF', Mat_Abrev: 'Nd', Mat_Familia: 'Rare earths', Mat_Subfamilia: 'LREEs-Light' }) RETURN m\n",
      "QRY [46]> CREATE (m  :MaterialREF {name: 'Nickel_REF', Mat_Abrev: 'Ni', Mat_Familia: 'General', Mat_Subfamilia: 'Iron and ferro-alloy metals' }) RETURN m\n",
      "QRY [47]> CREATE (m  :MaterialREF {name: 'Niobium_REF', Mat_Abrev: 'Nb', Mat_Familia: 'General', Mat_Subfamilia: 'Iron and ferro-alloy metals' }) RETURN m\n",
      "QRY [48]> CREATE (m  :MaterialREF {name: 'Palladium_REF', Mat_Abrev: 'Pd', Mat_Familia: 'Precious metals', Mat_Subfamilia: 'PGM-Platinum Group Metals' }) RETURN m\n",
      "QRY [49]> CREATE (m  :MaterialREF {name: 'Perlite_REF', Mat_Abrev: 'Pe', Mat_Familia: 'General', Mat_Subfamilia: 'Industrial & constr. minerals' }) RETURN m\n",
      "QRY [50]> CREATE (m  :MaterialREF {name: 'Phosphate rock_REF', Mat_Abrev: 'Phs', Mat_Familia: 'General', Mat_Subfamilia: 'Industrial & constr. minerals' }) RETURN m\n",
      "QRY [51]> CREATE (m  :MaterialREF {name: 'Phosphorus_REF', Mat_Abrev: 'P', Mat_Familia: 'General', Mat_Subfamilia: 'Industrial & constr. minerals' }) RETURN m\n",
      "QRY [52]> CREATE (m  :MaterialREF {name: 'Platinum_REF', Mat_Abrev: 'Pl', Mat_Familia: 'Precious metals', Mat_Subfamilia: 'PGM-Platinum Group Metals' }) RETURN m\n",
      "QRY [53]> CREATE (m  :MaterialREF {name: 'Potash_REF', Mat_Abrev: 'Po', Mat_Familia: 'General', Mat_Subfamilia: 'Industrial & constr. minerals' }) RETURN m\n",
      "QRY [54]> CREATE (m  :MaterialREF {name: 'Praseodymium_REF', Mat_Abrev: 'Pr', Mat_Familia: 'Rare earths', Mat_Subfamilia: 'LREEs-Light' }) RETURN m\n",
      "QRY [55]> CREATE (m  :MaterialREF {name: 'Rhenium_REF', Mat_Abrev: 'Re', Mat_Familia: 'General', Mat_Subfamilia: 'Other non-ferrous metals' }) RETURN m\n",
      "QRY [56]> CREATE (m  :MaterialREF {name: 'Rhodium_REF', Mat_Abrev: 'Rh', Mat_Familia: 'Precious metals', Mat_Subfamilia: 'PGM-Platinum Group Metals' }) RETURN m\n",
      "QRY [57]> CREATE (m  :MaterialREF {name: 'Ruthenium_REF', Mat_Abrev: 'Ru', Mat_Familia: 'Precious metals', Mat_Subfamilia: 'PGM-Platinum Group Metals' }) RETURN m\n",
      "QRY [58]> CREATE (m  :MaterialREF {name: 'Samarium_REF', Mat_Abrev: 'Sm', Mat_Familia: 'Rare earths', Mat_Subfamilia: 'LREEs-Light' }) RETURN m\n",
      "QRY [59]> CREATE (m  :MaterialREF {name: 'Sapele wood_REF', Mat_Abrev: 'GSw', Mat_Familia: 'General', Mat_Subfamilia: 'Bio and other materials' }) RETURN m\n",
      "QRY [60]> CREATE (m  :MaterialREF {name: 'Scandium_REF', Mat_Abrev: 'Sc', Mat_Familia: 'Rare earths', Mat_Subfamilia: 'HREEs-Heavy' }) RETURN m\n",
      "QRY [61]> CREATE (m  :MaterialREF {name: 'Selenium_REF', Mat_Abrev: 'Se', Mat_Familia: 'General', Mat_Subfamilia: 'Other non-ferrous metals' }) RETURN m\n",
      "QRY [62]> CREATE (m  :MaterialREF {name: 'Silica sand_REF', Mat_Abrev: 'Sl', Mat_Familia: 'General', Mat_Subfamilia: 'Industrial & constr. minerals' }) RETURN m\n",
      "QRY [63]> CREATE (m  :MaterialREF {name: 'Silicon metal_REF', Mat_Abrev: 'Si', Mat_Familia: 'General', Mat_Subfamilia: 'Other non-ferrous metals' }) RETURN m\n",
      "QRY [64]> CREATE (m  :MaterialREF {name: 'Silver_REF', Mat_Abrev: 'Ag', Mat_Familia: 'Precious metals', Mat_Subfamilia: 'General' }) RETURN m\n",
      "QRY [65]> CREATE (m  :MaterialREF {name: 'Strontium_REF', Mat_Abrev: 'Sr', Mat_Familia: 'General', Mat_Subfamilia: 'Other non-ferrous metals' }) RETURN m\n",
      "QRY [66]> CREATE (m  :MaterialREF {name: 'Sulphur_REF', Mat_Abrev: 'S', Mat_Familia: 'General', Mat_Subfamilia: 'Industrial & constr. minerals' }) RETURN m\n",
      "QRY [67]> CREATE (m  :MaterialREF {name: 'Talc_REF', Mat_Abrev: 'Tc', Mat_Familia: 'General', Mat_Subfamilia: 'Industrial & constr. minerals' }) RETURN m\n",
      "QRY [68]> CREATE (m  :MaterialREF {name: 'Tantalum_REF', Mat_Abrev: 'Ta', Mat_Familia: 'General', Mat_Subfamilia: 'Iron and ferro-alloy metals' }) RETURN m\n",
      "QRY [69]> CREATE (m  :MaterialREF {name: 'Tellurium_REF', Mat_Abrev: 'Te', Mat_Familia: 'General', Mat_Subfamilia: 'Other non-ferrous metals' }) RETURN m\n",
      "QRY [70]> CREATE (m  :MaterialREF {name: 'Terbium_REF', Mat_Abrev: 'Tb', Mat_Familia: 'Rare earths', Mat_Subfamilia: 'HREEs-Heavy' }) RETURN m\n",
      "QRY [71]> CREATE (m  :MaterialREF {name: 'Tin_REF', Mat_Abrev: 'Sn', Mat_Familia: 'General', Mat_Subfamilia: 'Other non-ferrous metals' }) RETURN m\n",
      "QRY [72]> CREATE (m  :MaterialREF {name: 'Titanium_REF', Mat_Abrev: 'Ti', Mat_Familia: 'General', Mat_Subfamilia: 'Iron and ferro-alloy metals' }) RETURN m\n",
      "QRY [73]> CREATE (m  :MaterialREF {name: 'Tungsten_REF', Mat_Abrev: 'W', Mat_Familia: 'General', Mat_Subfamilia: 'Iron and ferro-alloy metals' }) RETURN m\n",
      "QRY [74]> CREATE (m  :MaterialREF {name: 'Vanadium_REF', Mat_Abrev: 'V', Mat_Familia: 'General', Mat_Subfamilia: 'Iron and ferro-alloy metals' }) RETURN m\n",
      "QRY [75]> CREATE (m  :MaterialREF {name: 'Yttrium_REF', Mat_Abrev: 'Y', Mat_Familia: 'Rare earths', Mat_Subfamilia: 'HREEs-Heavy' }) RETURN m\n",
      "QRY [76]> CREATE (m  :MaterialREF {name: 'Zinc_REF', Mat_Abrev: 'Zn', Mat_Familia: 'General', Mat_Subfamilia: 'Other non-ferrous metals' }) RETURN m\n",
      "QRY [77]> CREATE (m  :MaterialREF {name: 'Zirconium_REF', Mat_Abrev: 'Zr', Mat_Familia: 'General', Mat_Subfamilia: 'Other non-ferrous metals' }) RETURN m\n"
     ]
    }
   ],
   "source": [
    "#  Crear NODO DE MATERIAL por cada fila junto con sus PROPIEDADES\n",
    "#  Nodos: MATERIALES -- \"MaterialB\" bruto ; \"MRefinado\" refinado\n",
    "## PREVISAULIZAR QUERYs antes de la ejecución\n",
    "TipoNodo = \" :MaterialREF \" \n",
    "for i in range(0, nFilas):\n",
    "    strQry = \"CREATE (m \" + TipoNodo + \"{\"                                                             \\\n",
    "        + \"name: '\" + dfMateriales.Material[i]       + \"_REF', \"                                       \\\n",
    "        + dfMateriales.columns[1] + \": \" + \"'\" + dfMateriales.Mat_Abrev[i]  + \"', \"                    \\\n",
    "        + dfMateriales.columns[2] + \": \" + \"'\" + dfMateriales.Mat_Familia[i]    + \"', \"                \\\n",
    "        + dfMateriales.columns[3] + \": \" + \"'\" + dfMateriales.Mat_Subfamilia[i] + \"' })\"               \\\n",
    "        + \" RETURN m\" \n",
    "    print(\"QRY [\" + str(i) + \"]> \"+ strQry)\n",
    "# querys  visualizadas"
   ]
  },
  {
   "cell_type": "code",
   "execution_count": 24,
   "id": "daf726b0",
   "metadata": {},
   "outputs": [
    {
     "data": {
      "text/plain": [
       "Graph('bolt://localhost:7687')"
      ]
     },
     "execution_count": 24,
     "metadata": {},
     "output_type": "execute_result"
    }
   ],
   "source": [
    "graph_test01"
   ]
  },
  {
   "cell_type": "code",
   "execution_count": 25,
   "id": "b2a8c8f1",
   "metadata": {},
   "outputs": [
    {
     "name": "stdout",
     "output_type": "stream",
     "text": [
      "EJECUTADA QRY [0]> CREATE (m  :MaterialREF {name: 'Aluminium_REF', Mat_Abrev: 'Al', Mat_Familia: 'General', Mat_Subfamilia: 'Other non-ferrous metals' }) RETURN m\n",
      "EJECUTADA QRY [1]> CREATE (m  :MaterialREF {name: 'Antimony_REF', Mat_Abrev: 'Sb', Mat_Familia: 'General', Mat_Subfamilia: 'Other non-ferrous metals' }) RETURN m\n",
      "EJECUTADA QRY [2]> CREATE (m  :MaterialREF {name: 'Arsenic_REF', Mat_Abrev: 'As', Mat_Familia: 'General', Mat_Subfamilia: 'Other non-ferrous metals' }) RETURN m\n",
      "EJECUTADA QRY [3]> CREATE (m  :MaterialREF {name: 'Baryte_REF', Mat_Abrev: 'GBrt', Mat_Familia: 'General', Mat_Subfamilia: 'Industrial & constr. minerals' }) RETURN m\n",
      "EJECUTADA QRY [4]> CREATE (m  :MaterialREF {name: 'Bauxite_REF', Mat_Abrev: 'Bx', Mat_Familia: 'General', Mat_Subfamilia: 'Other non-ferrous metals' }) RETURN m\n",
      "EJECUTADA QRY [5]> CREATE (m  :MaterialREF {name: 'Bentonite_REF', Mat_Abrev: 'GBn', Mat_Familia: 'General', Mat_Subfamilia: 'Industrial & constr. minerals' }) RETURN m\n",
      "EJECUTADA QRY [6]> CREATE (m  :MaterialREF {name: 'Beryllium_REF', Mat_Abrev: 'Be', Mat_Familia: 'General', Mat_Subfamilia: 'Other non-ferrous metals' }) RETURN m\n",
      "EJECUTADA QRY [7]> CREATE (m  :MaterialREF {name: 'Bismuth_REF', Mat_Abrev: 'Bi', Mat_Familia: 'General', Mat_Subfamilia: 'Other non-ferrous metals' }) RETURN m\n",
      "EJECUTADA QRY [8]> CREATE (m  :MaterialREF {name: 'Borate_REF', Mat_Abrev: 'Gbo', Mat_Familia: 'General', Mat_Subfamilia: 'Industrial & constr. minerals' }) RETURN m\n",
      "EJECUTADA QRY [9]> CREATE (m  :MaterialREF {name: 'Cadmium_REF', Mat_Abrev: 'Cd', Mat_Familia: 'General', Mat_Subfamilia: 'Other non-ferrous metals' }) RETURN m\n",
      "EJECUTADA QRY [10]> CREATE (m  :MaterialREF {name: 'Cerium_REF', Mat_Abrev: 'Ce', Mat_Familia: 'Rare earths', Mat_Subfamilia: 'LREEs-Light' }) RETURN m\n",
      "EJECUTADA QRY [11]> CREATE (m  :MaterialREF {name: 'Chromium_REF', Mat_Abrev: 'Cr', Mat_Familia: 'General', Mat_Subfamilia: 'Iron and ferro-alloy metals' }) RETURN m\n",
      "EJECUTADA QRY [12]> CREATE (m  :MaterialREF {name: 'Cobalt_REF', Mat_Abrev: 'Co', Mat_Familia: 'General', Mat_Subfamilia: 'Iron and ferro-alloy metals' }) RETURN m\n",
      "EJECUTADA QRY [13]> CREATE (m  :MaterialREF {name: 'Coking coal_REF', Mat_Abrev: 'GCc', Mat_Familia: 'General', Mat_Subfamilia: 'Bio and other materials' }) RETURN m\n",
      "EJECUTADA QRY [14]> CREATE (m  :MaterialREF {name: 'Copper_REF', Mat_Abrev: 'Cu', Mat_Familia: 'General', Mat_Subfamilia: 'Other non-ferrous metals' }) RETURN m\n",
      "EJECUTADA QRY [15]> CREATE (m  :MaterialREF {name: 'Diatomite_REF', Mat_Abrev: 'Di', Mat_Familia: 'General', Mat_Subfamilia: 'Industrial & constr. minerals' }) RETURN m\n",
      "EJECUTADA QRY [16]> CREATE (m  :MaterialREF {name: 'Dysprosium_REF', Mat_Abrev: 'Dy', Mat_Familia: 'Rare earths', Mat_Subfamilia: 'HREEs-Heavy' }) RETURN m\n",
      "EJECUTADA QRY [17]> CREATE (m  :MaterialREF {name: 'Erbium_REF', Mat_Abrev: 'Er', Mat_Familia: 'Rare earths', Mat_Subfamilia: 'HREEs-Heavy' }) RETURN m\n",
      "EJECUTADA QRY [18]> CREATE (m  :MaterialREF {name: 'Europium_REF', Mat_Abrev: 'Eu', Mat_Familia: 'Rare earths', Mat_Subfamilia: 'HREEs-Heavy' }) RETURN m\n",
      "EJECUTADA QRY [19]> CREATE (m  :MaterialREF {name: 'Feldspar_REF', Mat_Abrev: 'Fsp', Mat_Familia: 'General', Mat_Subfamilia: 'Industrial & constr. minerals' }) RETURN m\n",
      "EJECUTADA QRY [20]> CREATE (m  :MaterialREF {name: 'Fluorspar_REF', Mat_Abrev: 'Fl', Mat_Familia: 'General', Mat_Subfamilia: 'Industrial & constr. minerals' }) RETURN m\n",
      "EJECUTADA QRY [21]> CREATE (m  :MaterialREF {name: 'Gadolinium_REF', Mat_Abrev: 'Gd', Mat_Familia: 'Rare earths', Mat_Subfamilia: 'HREEs-Heavy' }) RETURN m\n",
      "EJECUTADA QRY [22]> CREATE (m  :MaterialREF {name: 'Gallium_REF', Mat_Abrev: 'Ga', Mat_Familia: 'General', Mat_Subfamilia: 'Other non-ferrous metals' }) RETURN m\n",
      "EJECUTADA QRY [23]> CREATE (m  :MaterialREF {name: 'Germanium_REF', Mat_Abrev: 'Ge', Mat_Familia: 'General', Mat_Subfamilia: 'Other non-ferrous metals' }) RETURN m\n",
      "EJECUTADA QRY [24]> CREATE (m  :MaterialREF {name: 'Gold_REF', Mat_Abrev: 'Au', Mat_Familia: 'Precious metals', Mat_Subfamilia: 'General' }) RETURN m\n",
      "EJECUTADA QRY [25]> CREATE (m  :MaterialREF {name: 'Gypsum_REF', Mat_Abrev: 'Gp', Mat_Familia: 'General', Mat_Subfamilia: 'Industrial & constr. minerals' }) RETURN m\n",
      "EJECUTADA QRY [26]> CREATE (m  :MaterialREF {name: 'Hafnium_REF', Mat_Abrev: 'Hf', Mat_Familia: 'General', Mat_Subfamilia: 'Other non-ferrous metals' }) RETURN m\n",
      "EJECUTADA QRY [27]> CREATE (m  :MaterialREF {name: 'Helium_REF', Mat_Abrev: 'He', Mat_Familia: 'General', Mat_Subfamilia: 'Bio and other materials' }) RETURN m\n",
      "EJECUTADA QRY [28]> CREATE (m  :MaterialREF {name: 'Ho, Tm, Lu, Yb_REF', Mat_Abrev: 'HoTmLuYb', Mat_Familia: 'Rare earths', Mat_Subfamilia: 'HREEs-Heavy' }) RETURN m\n",
      "EJECUTADA QRY [29]> CREATE (m  :MaterialREF {name: 'Indium_REF', Mat_Abrev: 'In', Mat_Familia: 'General', Mat_Subfamilia: 'Other non-ferrous metals' }) RETURN m\n",
      "EJECUTADA QRY [30]> CREATE (m  :MaterialREF {name: 'Iridium_REF', Mat_Abrev: 'Ir', Mat_Familia: 'Precious metals', Mat_Subfamilia: 'PGM-Platinum Group Metals' }) RETURN m\n",
      "EJECUTADA QRY [31]> CREATE (m  :MaterialREF {name: 'Iron ore_REF', Mat_Abrev: 'Fe', Mat_Familia: 'General', Mat_Subfamilia: 'Iron and ferro-alloy metals' }) RETURN m\n",
      "EJECUTADA QRY [32]> CREATE (m  :MaterialREF {name: 'Kaolin clay_REF', Mat_Abrev: 'Kc', Mat_Familia: 'General', Mat_Subfamilia: 'Industrial & constr. minerals' }) RETURN m\n",
      "EJECUTADA QRY [33]> CREATE (m  :MaterialREF {name: 'Lanthanum_REF', Mat_Abrev: 'La', Mat_Familia: 'Rare earths', Mat_Subfamilia: 'LREEs-Light' }) RETURN m\n",
      "EJECUTADA QRY [34]> CREATE (m  :MaterialREF {name: 'Lead_REF', Mat_Abrev: 'Pb', Mat_Familia: 'General', Mat_Subfamilia: 'Other non-ferrous metals' }) RETURN m\n",
      "EJECUTADA QRY [35]> CREATE (m  :MaterialREF {name: 'Limestone_REF', Mat_Abrev: 'Ls', Mat_Familia: 'General', Mat_Subfamilia: 'Industrial & constr. minerals' }) RETURN m\n",
      "EJECUTADA QRY [36]> CREATE (m  :MaterialREF {name: 'Lithium_REF', Mat_Abrev: 'Li', Mat_Familia: 'General', Mat_Subfamilia: 'Other non-ferrous metals' }) RETURN m\n",
      "EJECUTADA QRY [37]> CREATE (m  :MaterialREF {name: 'Magnesite_REF', Mat_Abrev: 'Mgs', Mat_Familia: 'General', Mat_Subfamilia: 'Industrial & constr. minerals' }) RETURN m\n",
      "EJECUTADA QRY [38]> CREATE (m  :MaterialREF {name: 'Magnesium_REF', Mat_Abrev: 'Mg', Mat_Familia: 'General', Mat_Subfamilia: 'Other non-ferrous metals' }) RETURN m\n",
      "EJECUTADA QRY [39]> CREATE (m  :MaterialREF {name: 'Manganese_REF', Mat_Abrev: 'Mn', Mat_Familia: 'General', Mat_Subfamilia: 'Iron and ferro-alloy metals' }) RETURN m\n",
      "EJECUTADA QRY [40]> CREATE (m  :MaterialREF {name: 'Molybdenum_REF', Mat_Abrev: 'Mo', Mat_Familia: 'General', Mat_Subfamilia: 'Iron and ferro-alloy metals' }) RETURN m\n",
      "EJECUTADA QRY [41]> CREATE (m  :MaterialREF {name: 'Natural cork_REF', Mat_Abrev: 'GNC', Mat_Familia: 'General', Mat_Subfamilia: 'Bio and other materials' }) RETURN m\n",
      "EJECUTADA QRY [42]> CREATE (m  :MaterialREF {name: 'Natural graphite_REF', Mat_Abrev: 'GGr', Mat_Familia: 'General', Mat_Subfamilia: 'Industrial & constr. minerals' }) RETURN m\n",
      "EJECUTADA QRY [43]> CREATE (m  :MaterialREF {name: 'Natural Rubber_REF', Mat_Abrev: 'GNr', Mat_Familia: 'General', Mat_Subfamilia: 'Bio and other materials' }) RETURN m\n",
      "EJECUTADA QRY [44]> CREATE (m  :MaterialREF {name: 'Natural Teak wood_REF', Mat_Abrev: 'GNt', Mat_Familia: 'General', Mat_Subfamilia: 'Bio and other materials' }) RETURN m\n",
      "EJECUTADA QRY [45]> CREATE (m  :MaterialREF {name: 'Neodymium_REF', Mat_Abrev: 'Nd', Mat_Familia: 'Rare earths', Mat_Subfamilia: 'LREEs-Light' }) RETURN m\n",
      "EJECUTADA QRY [46]> CREATE (m  :MaterialREF {name: 'Nickel_REF', Mat_Abrev: 'Ni', Mat_Familia: 'General', Mat_Subfamilia: 'Iron and ferro-alloy metals' }) RETURN m\n",
      "EJECUTADA QRY [47]> CREATE (m  :MaterialREF {name: 'Niobium_REF', Mat_Abrev: 'Nb', Mat_Familia: 'General', Mat_Subfamilia: 'Iron and ferro-alloy metals' }) RETURN m\n",
      "EJECUTADA QRY [48]> CREATE (m  :MaterialREF {name: 'Palladium_REF', Mat_Abrev: 'Pd', Mat_Familia: 'Precious metals', Mat_Subfamilia: 'PGM-Platinum Group Metals' }) RETURN m\n",
      "EJECUTADA QRY [49]> CREATE (m  :MaterialREF {name: 'Perlite_REF', Mat_Abrev: 'Pe', Mat_Familia: 'General', Mat_Subfamilia: 'Industrial & constr. minerals' }) RETURN m\n",
      "EJECUTADA QRY [50]> CREATE (m  :MaterialREF {name: 'Phosphate rock_REF', Mat_Abrev: 'Phs', Mat_Familia: 'General', Mat_Subfamilia: 'Industrial & constr. minerals' }) RETURN m\n",
      "EJECUTADA QRY [51]> CREATE (m  :MaterialREF {name: 'Phosphorus_REF', Mat_Abrev: 'P', Mat_Familia: 'General', Mat_Subfamilia: 'Industrial & constr. minerals' }) RETURN m\n",
      "EJECUTADA QRY [52]> CREATE (m  :MaterialREF {name: 'Platinum_REF', Mat_Abrev: 'Pl', Mat_Familia: 'Precious metals', Mat_Subfamilia: 'PGM-Platinum Group Metals' }) RETURN m\n",
      "EJECUTADA QRY [53]> CREATE (m  :MaterialREF {name: 'Potash_REF', Mat_Abrev: 'Po', Mat_Familia: 'General', Mat_Subfamilia: 'Industrial & constr. minerals' }) RETURN m\n",
      "EJECUTADA QRY [54]> CREATE (m  :MaterialREF {name: 'Praseodymium_REF', Mat_Abrev: 'Pr', Mat_Familia: 'Rare earths', Mat_Subfamilia: 'LREEs-Light' }) RETURN m\n",
      "EJECUTADA QRY [55]> CREATE (m  :MaterialREF {name: 'Rhenium_REF', Mat_Abrev: 'Re', Mat_Familia: 'General', Mat_Subfamilia: 'Other non-ferrous metals' }) RETURN m\n"
     ]
    },
    {
     "name": "stdout",
     "output_type": "stream",
     "text": [
      "EJECUTADA QRY [56]> CREATE (m  :MaterialREF {name: 'Rhodium_REF', Mat_Abrev: 'Rh', Mat_Familia: 'Precious metals', Mat_Subfamilia: 'PGM-Platinum Group Metals' }) RETURN m\n",
      "EJECUTADA QRY [57]> CREATE (m  :MaterialREF {name: 'Ruthenium_REF', Mat_Abrev: 'Ru', Mat_Familia: 'Precious metals', Mat_Subfamilia: 'PGM-Platinum Group Metals' }) RETURN m\n",
      "EJECUTADA QRY [58]> CREATE (m  :MaterialREF {name: 'Samarium_REF', Mat_Abrev: 'Sm', Mat_Familia: 'Rare earths', Mat_Subfamilia: 'LREEs-Light' }) RETURN m\n",
      "EJECUTADA QRY [59]> CREATE (m  :MaterialREF {name: 'Sapele wood_REF', Mat_Abrev: 'GSw', Mat_Familia: 'General', Mat_Subfamilia: 'Bio and other materials' }) RETURN m\n",
      "EJECUTADA QRY [60]> CREATE (m  :MaterialREF {name: 'Scandium_REF', Mat_Abrev: 'Sc', Mat_Familia: 'Rare earths', Mat_Subfamilia: 'HREEs-Heavy' }) RETURN m\n",
      "EJECUTADA QRY [61]> CREATE (m  :MaterialREF {name: 'Selenium_REF', Mat_Abrev: 'Se', Mat_Familia: 'General', Mat_Subfamilia: 'Other non-ferrous metals' }) RETURN m\n",
      "EJECUTADA QRY [62]> CREATE (m  :MaterialREF {name: 'Silica sand_REF', Mat_Abrev: 'Sl', Mat_Familia: 'General', Mat_Subfamilia: 'Industrial & constr. minerals' }) RETURN m\n",
      "EJECUTADA QRY [63]> CREATE (m  :MaterialREF {name: 'Silicon metal_REF', Mat_Abrev: 'Si', Mat_Familia: 'General', Mat_Subfamilia: 'Other non-ferrous metals' }) RETURN m\n",
      "EJECUTADA QRY [64]> CREATE (m  :MaterialREF {name: 'Silver_REF', Mat_Abrev: 'Ag', Mat_Familia: 'Precious metals', Mat_Subfamilia: 'General' }) RETURN m\n",
      "EJECUTADA QRY [65]> CREATE (m  :MaterialREF {name: 'Strontium_REF', Mat_Abrev: 'Sr', Mat_Familia: 'General', Mat_Subfamilia: 'Other non-ferrous metals' }) RETURN m\n",
      "EJECUTADA QRY [66]> CREATE (m  :MaterialREF {name: 'Sulphur_REF', Mat_Abrev: 'S', Mat_Familia: 'General', Mat_Subfamilia: 'Industrial & constr. minerals' }) RETURN m\n",
      "EJECUTADA QRY [67]> CREATE (m  :MaterialREF {name: 'Talc_REF', Mat_Abrev: 'Tc', Mat_Familia: 'General', Mat_Subfamilia: 'Industrial & constr. minerals' }) RETURN m\n",
      "EJECUTADA QRY [68]> CREATE (m  :MaterialREF {name: 'Tantalum_REF', Mat_Abrev: 'Ta', Mat_Familia: 'General', Mat_Subfamilia: 'Iron and ferro-alloy metals' }) RETURN m\n",
      "EJECUTADA QRY [69]> CREATE (m  :MaterialREF {name: 'Tellurium_REF', Mat_Abrev: 'Te', Mat_Familia: 'General', Mat_Subfamilia: 'Other non-ferrous metals' }) RETURN m\n",
      "EJECUTADA QRY [70]> CREATE (m  :MaterialREF {name: 'Terbium_REF', Mat_Abrev: 'Tb', Mat_Familia: 'Rare earths', Mat_Subfamilia: 'HREEs-Heavy' }) RETURN m\n",
      "EJECUTADA QRY [71]> CREATE (m  :MaterialREF {name: 'Tin_REF', Mat_Abrev: 'Sn', Mat_Familia: 'General', Mat_Subfamilia: 'Other non-ferrous metals' }) RETURN m\n",
      "EJECUTADA QRY [72]> CREATE (m  :MaterialREF {name: 'Titanium_REF', Mat_Abrev: 'Ti', Mat_Familia: 'General', Mat_Subfamilia: 'Iron and ferro-alloy metals' }) RETURN m\n",
      "EJECUTADA QRY [73]> CREATE (m  :MaterialREF {name: 'Tungsten_REF', Mat_Abrev: 'W', Mat_Familia: 'General', Mat_Subfamilia: 'Iron and ferro-alloy metals' }) RETURN m\n",
      "EJECUTADA QRY [74]> CREATE (m  :MaterialREF {name: 'Vanadium_REF', Mat_Abrev: 'V', Mat_Familia: 'General', Mat_Subfamilia: 'Iron and ferro-alloy metals' }) RETURN m\n",
      "EJECUTADA QRY [75]> CREATE (m  :MaterialREF {name: 'Yttrium_REF', Mat_Abrev: 'Y', Mat_Familia: 'Rare earths', Mat_Subfamilia: 'HREEs-Heavy' }) RETURN m\n",
      "EJECUTADA QRY [76]> CREATE (m  :MaterialREF {name: 'Zinc_REF', Mat_Abrev: 'Zn', Mat_Familia: 'General', Mat_Subfamilia: 'Other non-ferrous metals' }) RETURN m\n",
      "EJECUTADA QRY [77]> CREATE (m  :MaterialREF {name: 'Zirconium_REF', Mat_Abrev: 'Zr', Mat_Familia: 'General', Mat_Subfamilia: 'Other non-ferrous metals' }) RETURN m\n"
     ]
    }
   ],
   "source": [
    "# Crear un nodo por cada fila con sus propiedades\n",
    "#nodos de MATERIALES,\n",
    "# CREAR NODOS: \"MaterialB\" \n",
    "## query para crea nodo con sus  propiedades\n",
    "TipoNodo = \" :MaterialREF \" \n",
    "for i in range(0, nFilas):\n",
    "    strQry = \"CREATE (m \" + TipoNodo + \"{\"                                                             \\\n",
    "        + \"name: '\" + dfMateriales.Material[i]       + \"_REF', \"                                       \\\n",
    "        + dfMateriales.columns[1] + \": \" + \"'\" + dfMateriales.Mat_Abrev[i]  + \"', \"                    \\\n",
    "        + dfMateriales.columns[2] + \": \" + \"'\" + dfMateriales.Mat_Familia[i]    + \"', \"                \\\n",
    "        + dfMateriales.columns[3] + \": \" + \"'\" + dfMateriales.Mat_Subfamilia[i] + \"' })\"               \\\n",
    "        + \" RETURN m\" \n",
    "    graph_test01.run(strQry)\n",
    "    print(\"EJECUTADA QRY [\" + str(i) + \"]> \"+ strQry)\n",
    "# nodos creados"
   ]
  },
  {
   "cell_type": "code",
   "execution_count": 26,
   "id": "8e97ade6",
   "metadata": {},
   "outputs": [],
   "source": [
    "dfGraphMat= graph_test01.run(\"MATCH (n :MaterialREF ) RETURN n\").data()"
   ]
  },
  {
   "cell_type": "code",
   "execution_count": 27,
   "id": "0726943c",
   "metadata": {},
   "outputs": [
    {
     "data": {
      "text/plain": [
       "{'n': Node('MaterialREF', Mat_Abrev='Al', Mat_Familia='General', Mat_Subfamilia='Other non-ferrous metals', name='Aluminium_REF')}"
      ]
     },
     "execution_count": 27,
     "metadata": {},
     "output_type": "execute_result"
    }
   ],
   "source": [
    "dfGraphMat[0]\n"
   ]
  },
  {
   "cell_type": "code",
   "execution_count": 28,
   "id": "f37f5bdb",
   "metadata": {
    "scrolled": true
   },
   "outputs": [
    {
     "data": {
      "text/html": [
       "<table><tr><th>LABELS(n)</th><th>COUNT(n)</th></tr><tr><td style=\"text-align:left\">[&#039;MaterialREF&#039;]</td><td style=\"text-align:right\">78</td></tr></table>"
      ],
      "text/plain": [
       " LABELS(n)       | COUNT(n) \n",
       "-----------------|----------\n",
       " ['MaterialREF'] |       78 "
      ]
     },
     "execution_count": 28,
     "metadata": {},
     "output_type": "execute_result"
    }
   ],
   "source": [
    "graph_test01.run(\"MATCH (n :MaterialREF) RETURN DISTINCT LABELS(n), COUNT(n)\")"
   ]
  },
  {
   "cell_type": "code",
   "execution_count": 29,
   "id": "3c148a95",
   "metadata": {},
   "outputs": [
    {
     "data": {
      "text/html": [
       "<table><tr><th>LABELS(n)</th><th>COUNT(n)</th></tr><tr><td style=\"text-align:left\">[&#039;MaterialB&#039;]</td><td style=\"text-align:right\">78</td></tr></table>"
      ],
      "text/plain": [
       " LABELS(n)     | COUNT(n) \n",
       "---------------|----------\n",
       " ['MaterialB'] |       78 "
      ]
     },
     "execution_count": 29,
     "metadata": {},
     "output_type": "execute_result"
    }
   ],
   "source": [
    "graph_test01.run(\"MATCH (n :MaterialB) RETURN DISTINCT LABELS(n), COUNT(n)\")"
   ]
  },
  {
   "cell_type": "markdown",
   "id": "aee44cef",
   "metadata": {},
   "source": [
    "# fin proceso - MATERIALES REFINADOS -y brutos- CREADOS"
   ]
  },
  {
   "cell_type": "code",
   "execution_count": 8,
   "id": "df4c6f03",
   "metadata": {},
   "outputs": [],
   "source": [
    "# fin archivo"
   ]
  }
 ],
 "metadata": {
  "kernelspec": {
   "display_name": "Python 3 (ipykernel)",
   "language": "python",
   "name": "python3"
  },
  "language_info": {
   "codemirror_mode": {
    "name": "ipython",
    "version": 3
   },
   "file_extension": ".py",
   "mimetype": "text/x-python",
   "name": "python",
   "nbconvert_exporter": "python",
   "pygments_lexer": "ipython3",
   "version": "3.7.1"
  }
 },
 "nbformat": 4,
 "nbformat_minor": 5
}
